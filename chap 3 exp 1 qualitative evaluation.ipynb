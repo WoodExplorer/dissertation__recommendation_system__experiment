{
 "cells": [
  {
   "cell_type": "code",
   "execution_count": 14,
   "metadata": {
    "collapsed": false
   },
   "outputs": [],
   "source": [
    "import logging\n",
    "logging.basicConfig(format='%(asctime)s : %(levelname)s : %(message)s', level=logging.INFO)\n",
    "import gensim\n",
    "from gensim import corpora, models, similarities\n",
    "import os\n",
    "import utility_synopsis\n",
    "import math\n",
    "import numpy as np\n",
    "from numpy import linalg as la\n",
    "from scipy.spatial.distance import cosine\n",
    "import pandas as pd\n",
    "import matplotlib.pyplot as plt"
   ]
  },
  {
   "cell_type": "code",
   "execution_count": 2,
   "metadata": {
    "collapsed": true
   },
   "outputs": [],
   "source": [
    "def extract_item_info(filename, delimiter, genre_delimiter):\n",
    "    data = {}\n",
    "\n",
    "    with open(filename , 'r') as f:\n",
    "        for i, line in enumerate(f):\n",
    "            itemId, title, genre_list = map(lambda x: x.strip(), line.split(delimiter))\n",
    "            \n",
    "            data[itemId] = (title, genre_list.split(genre_delimiter))\n",
    "    return data"
   ]
  },
  {
   "cell_type": "code",
   "execution_count": 3,
   "metadata": {
    "collapsed": true
   },
   "outputs": [],
   "source": [
    "item_file_name, item_file_delimiter, genre_delimiter = os.path.sep.join(['ml-1m', 'movies.dat']), '::', '|'\n",
    "item_info = extract_item_info(item_file_name, item_file_delimiter, genre_delimiter)"
   ]
  },
  {
   "cell_type": "code",
   "execution_count": 4,
   "metadata": {
    "collapsed": true
   },
   "outputs": [],
   "source": [
    "def extract_user_item_interaction(filename, delimiter):\n",
    "    data = {}\n",
    "\n",
    "    with open(filename , 'r') as f:\n",
    "        for i, line in enumerate(f):\n",
    "            userId, movieId, rating, timestamp = line.split(delimiter)\n",
    "            #userId = int(userId)\n",
    "            #movieId = int(movieId)\n",
    "            rating = float(rating)\n",
    "            timestamp = int(timestamp)\n",
    "\n",
    "            if userId not in data:\n",
    "                data[userId] = []\n",
    "            data[userId].append((movieId, rating, timestamp))\n",
    "    return data"
   ]
  },
  {
   "cell_type": "code",
   "execution_count": 6,
   "metadata": {
    "collapsed": false
   },
   "outputs": [],
   "source": [
    "rating_file_name, rating_file_delimiter = os.path.sep.join(['ml-1m', 'ratings.dat']), '::'\n",
    "user_item_interaction = extract_user_item_interaction(rating_file_name, rating_file_delimiter)"
   ]
  },
  {
   "cell_type": "code",
   "execution_count": 7,
   "metadata": {
    "collapsed": false
   },
   "outputs": [
    {
     "name": "stderr",
     "output_type": "stream",
     "text": [
      "2017-02-24 15:03:07,021 : INFO : loading Word2Vec object from /home/wsyj/dissertation__recommendation_system__experiment_2/dissertation__recommendation_system__experiment/main_modelnum_features=100_min_count=1_window=1_iter=30.model\n",
      "2017-02-24 15:03:07,030 : INFO : loading wv recursively from /home/wsyj/dissertation__recommendation_system__experiment_2/dissertation__recommendation_system__experiment/main_modelnum_features=100_min_count=1_window=1_iter=30.model.wv.* with mmap=None\n",
      "2017-02-24 15:03:07,030 : INFO : setting ignored attribute syn0norm to None\n",
      "2017-02-24 15:03:07,031 : INFO : setting ignored attribute cum_table to None\n",
      "2017-02-24 15:03:07,031 : INFO : loaded /home/wsyj/dissertation__recommendation_system__experiment_2/dissertation__recommendation_system__experiment/main_modelnum_features=100_min_count=1_window=1_iter=30.model\n"
     ]
    }
   ],
   "source": [
    "model_path = '/home/wsyj/dissertation__recommendation_system__experiment_2/dissertation__recommendation_system__experiment/main_modelnum_features=100_min_count=1_window=1_iter=30.model'\n",
    "\n",
    "#model = gensim.models.Word2Vec.load('/home/wsyj/dissertation__recommendation_system__experiment_2/dissertation__recommendation_system__experiment/main_modelnum_features=200_min_count=5_window=2.model' )\n",
    "model = gensim.models.Word2Vec.load(model_path)"
   ]
  },
  {
   "cell_type": "code",
   "execution_count": 27,
   "metadata": {
    "collapsed": false
   },
   "outputs": [],
   "source": [
    "def user_history2user_repr__simple_average(model, target_user_history): # target_user_history: It should_be_a_list_of_tuples_included_items.\n",
    "    #print 'target_user_history:', target_user_history\n",
    "    items_existed_in_model = filter(lambda x: x[0] in model, target_user_history)\n",
    "    #print 'items_existed_in_model:', items_existed_in_model[0]\n",
    "    items_translated_to_vecs = map(lambda x: model[x[0]], items_existed_in_model)\n",
    "    #print 'items_translated_to_vecs:', items_translated_to_vecs[0]\n",
    "    return np.average(items_translated_to_vecs, axis=0)   \n",
    "\n",
    "#user_history2user_repr__simple_average(model, user_item_interaction['5989'])   "
   ]
  },
  {
   "cell_type": "code",
   "execution_count": null,
   "metadata": {
    "collapsed": true
   },
   "outputs": [],
   "source": [
    "def user_history2user_repr__rating_average(model, target_user_history): # target_user_history: It should_be_a_list_of_tuples_included_items.\n",
    "    #print 'target_user_history:', target_user_history\n",
    "    items_existed_in_model = filter(lambda x: x[0] in model, target_user_history)\n",
    "    #print 'items_existed_in_model:', items_existed_in_model[0]\n",
    "    items_translated_to_vecs = map(lambda x: (model[x[0]], x[1], x[2]), items_existed_in_model)\n",
    "    #print 'items_translated_to_vecs:', items_translated_to_vecs[0]\n",
    "    items_multiplied_by_rate = map(lambda (vec, rate, timestamp): vec * rate, items_translated_to_vecs)\n",
    "    #print 'items_multiplied_by_rate:', items_multiplied_by_rate[0]\n",
    "    #raw_input()\n",
    "    \n",
    "    ## method 1: simple average. not normalized.\n",
    "    #return np.average(items_multiplied_by_rate, axis=0)   \n",
    "\n",
    "    # method 2: average with normalization\n",
    "    items_multiplied_by_rate = np.sum(items_multiplied_by_rate, axis=0)\n",
    "    items_multiplied_by_rate = items_multiplied_by_rate / sum([x[1] for x in items_translated_to_vecs])\n",
    "    return items_multiplied_by_rate"
   ]
  },
  {
   "cell_type": "code",
   "execution_count": 9,
   "metadata": {
    "collapsed": false,
    "scrolled": true
   },
   "outputs": [
    {
     "data": {
      "text/plain": [
       "['5988',\n",
       " '5989',\n",
       " '5982',\n",
       " '5983',\n",
       " '5980',\n",
       " '5981',\n",
       " '5986',\n",
       " '5987',\n",
       " '5984',\n",
       " '5985']"
      ]
     },
     "execution_count": 9,
     "metadata": {},
     "output_type": "execute_result"
    }
   ],
   "source": [
    "user_item_interaction.keys()[:10]"
   ]
  },
  {
   "cell_type": "code",
   "execution_count": 19,
   "metadata": {
    "collapsed": false,
    "scrolled": true
   },
   "outputs": [
    {
     "data": {
      "text/plain": [
       "[('587', 5.0, 956873919),\n",
       " ('588', 5.0, 956873786),\n",
       " ('1', 5.0, 956874124),\n",
       " ('2', 4.0, 956874389),\n",
       " ('3005', 5.0, 957756760),\n",
       " ('3006', 3.0, 957756760),\n",
       " ('597', 5.0, 956873975),\n",
       " ('3053', 5.0, 957756905),\n",
       " ('2421', 4.0, 956872639),\n",
       " ('2424', 4.0, 956872639),\n",
       " ('3408', 5.0, 956873163),\n",
       " ('3438', 2.0, 956874389),\n",
       " ('231', 3.0, 956873942),\n",
       " ('1848', 4.0, 956874389),\n",
       " ('3450', 4.0, 956873721),\n",
       " ('3466', 4.0, 956874124),\n",
       " ('258', 2.0, 956874389),\n",
       " ('3477', 3.0, 956873833),\n",
       " ('2827', 4.0, 957756905),\n",
       " ('3484', 5.0, 956873220),\n",
       " ('2829', 1.0, 957756760),\n",
       " ('3489', 5.0, 956874389),\n",
       " ('1895', 4.0, 956873833),\n",
       " ('2840', 4.0, 957756905),\n",
       " ('2858', 5.0, 956873659),\n",
       " ('2860', 4.0, 957756905),\n",
       " ('1126', 4.0, 956874389),\n",
       " ('2881', 4.0, 957756760),\n",
       " ('2162', 4.0, 956874389),\n",
       " ('3114', 5.0, 956873626),\n",
       " ('1537', 4.0, 956873659),\n",
       " ('3157', 4.0, 956873626),\n",
       " ('1583', 3.0, 956874389),\n",
       " ('3512', 5.0, 956873163),\n",
       " ('3513', 4.0, 956873204),\n",
       " ('1920', 2.0, 956874389),\n",
       " ('317', 4.0, 956874389),\n",
       " ('3536', 5.0, 956873163),\n",
       " ('339', 4.0, 956873866),\n",
       " ('3555', 5.0, 956873204),\n",
       " ('21', 2.0, 956874176),\n",
       " ('2907', 3.0, 957756905),\n",
       " ('351', 5.0, 956873918),\n",
       " ('39', 4.0, 956873918),\n",
       " ('367', 3.0, 956874389),\n",
       " ('374', 3.0, 956872588),\n",
       " ('60', 4.0, 956874389),\n",
       " ('2959', 5.0, 957756760),\n",
       " ('2961', 4.0, 957756760),\n",
       " ('708', 2.0, 956873786),\n",
       " ('2996', 3.0, 957756760),\n",
       " ('1265', 5.0, 956873699),\n",
       " ('788', 3.0, 956874389),\n",
       " ('3238', 2.0, 956873498),\n",
       " ('1641', 3.0, 956873721),\n",
       " ('3253', 3.0, 956873744),\n",
       " ('3273', 5.0, 956873569),\n",
       " ('2628', 4.0, 956874389),\n",
       " ('440', 4.0, 956873786),\n",
       " ('2302', 5.0, 956873866),\n",
       " ('2321', 5.0, 956874177),\n",
       " ('2324', 5.0, 956873699),\n",
       " ('2355', 5.0, 956873659),\n",
       " ('1721', 4.0, 956872639),\n",
       " ('2394', 5.0, 956872639),\n",
       " ('2395', 5.0, 956873942),\n",
       " ('2396', 3.0, 956873659),\n",
       " ('1747', 5.0, 956873942),\n",
       " ('3354', 4.0, 956872588),\n",
       " ('1750', 4.0, 956874389),\n",
       " ('1777', 4.0, 956873866),\n",
       " ('1784', 4.0, 956873807),\n",
       " ('2762', 4.0, 957756760),\n",
       " ('2771', 5.0, 957756760),\n",
       " ('1042', 3.0, 956873919),\n",
       " ('551', 4.0, 956873866),\n",
       " ('558', 4.0, 956874389)]"
      ]
     },
     "execution_count": 19,
     "metadata": {},
     "output_type": "execute_result"
    }
   ],
   "source": [
    "user_item_interaction['5989']"
   ]
  },
  {
   "cell_type": "code",
   "execution_count": 28,
   "metadata": {
    "collapsed": false
   },
   "outputs": [],
   "source": [
    "user_repr = {user: user_history2user_repr__simple_average(model, user_item_interaction[user]) for user in user_item_interaction}"
   ]
  },
  {
   "cell_type": "code",
   "execution_count": 18,
   "metadata": {
    "collapsed": false
   },
   "outputs": [
    {
     "name": "stdout",
     "output_type": "stream",
     "text": [
      "5988\n"
     ]
    },
    {
     "ename": "ValueError",
     "evalue": "operands could not be broadcast together with shapes (3,) (100,) ",
     "output_type": "error",
     "traceback": [
      "\u001b[0;31m---------------------------------------------------------------------------\u001b[0m",
      "\u001b[0;31mValueError\u001b[0m                                Traceback (most recent call last)",
      "\u001b[0;32m<ipython-input-18-68ea04cb62f1>\u001b[0m in \u001b[0;36m<module>\u001b[0;34m()\u001b[0m\n\u001b[1;32m      1\u001b[0m \u001b[0;32mfor\u001b[0m \u001b[0mv\u001b[0m \u001b[0;32min\u001b[0m \u001b[0muser_item_interaction\u001b[0m\u001b[0;34m:\u001b[0m\u001b[0;34m\u001b[0m\u001b[0m\n\u001b[1;32m      2\u001b[0m     \u001b[0;32mprint\u001b[0m \u001b[0mv\u001b[0m\u001b[0;34m\u001b[0m\u001b[0m\n\u001b[0;32m----> 3\u001b[0;31m     \u001b[0;32mprint\u001b[0m \u001b[0mtarget_repr\u001b[0m\u001b[0;34m.\u001b[0m\u001b[0mdot\u001b[0m\u001b[0;34m(\u001b[0m\u001b[0muser_repr\u001b[0m\u001b[0;34m[\u001b[0m\u001b[0mv\u001b[0m\u001b[0;34m]\u001b[0m\u001b[0;34m)\u001b[0m \u001b[0;34m/\u001b[0m \u001b[0;34m(\u001b[0m\u001b[0mla\u001b[0m\u001b[0;34m.\u001b[0m\u001b[0mnorm\u001b[0m\u001b[0;34m(\u001b[0m\u001b[0mtarget_repr\u001b[0m \u001b[0;34m*\u001b[0m \u001b[0mla\u001b[0m\u001b[0;34m.\u001b[0m\u001b[0mnorm\u001b[0m\u001b[0;34m(\u001b[0m\u001b[0muser_repr\u001b[0m\u001b[0;34m[\u001b[0m\u001b[0mv\u001b[0m\u001b[0;34m]\u001b[0m\u001b[0;34m)\u001b[0m\u001b[0;34m)\u001b[0m\u001b[0;34m)\u001b[0m\u001b[0;34m\u001b[0m\u001b[0m\n\u001b[0m\u001b[1;32m      4\u001b[0m     \u001b[0;32mbreak\u001b[0m\u001b[0;34m\u001b[0m\u001b[0m\n",
      "\u001b[0;31mValueError\u001b[0m: operands could not be broadcast together with shapes (3,) (100,) "
     ]
    }
   ],
   "source": [
    "for v in user_item_interaction:\n",
    "    print v\n",
    "    print target_repr.dot(user_repr[v]) / (la.norm(target_repr * la.norm(user_repr[v])))\n",
    "    break"
   ]
  },
  {
   "cell_type": "code",
   "execution_count": 45,
   "metadata": {
    "collapsed": false
   },
   "outputs": [
    {
     "name": "stdout",
     "output_type": "stream",
     "text": [
      "[-0.05199256 -0.00310218  0.05281407  0.03161308 -0.01599417 -0.1110352\n",
      "  0.02177403 -0.06473555  0.09473434  0.02329562  0.06438732  0.02211038\n",
      " -0.011758   -0.04537208  0.03116526 -0.05379613 -0.04045218 -0.04059443\n",
      "  0.01412956  0.00563842 -0.0113626   0.09455036 -0.01446639  0.0363503\n",
      "  0.03749643 -0.04819129  0.0809592  -0.10172644  0.07148111  0.05219424\n",
      " -0.01702579 -0.00411678 -0.06085583 -0.08901734  0.02215586 -0.0154433\n",
      "  0.02132216  0.05861641 -0.04346753  0.0738161   0.0004228  -0.01047233\n",
      " -0.04733719  0.02243662  0.04543209  0.00850497 -0.0064271  -0.07255388\n",
      " -0.00380483 -0.01929489  0.02197909  0.02743112  0.07875387  0.02841287\n",
      "  0.06248943 -0.03305193  0.06634978 -0.03258498 -0.04098674  0.03796468\n",
      "  0.03744219  0.01022268  0.02207189 -0.10365719  0.07442097  0.01390506\n",
      " -0.03857288 -0.076983   -0.06346411 -0.01272428  0.02606582 -0.00351055\n",
      " -0.00455199 -0.08673692  0.03747578 -0.01949312  0.00731247  0.03538283\n",
      "  0.05691445  0.03776496 -0.1173261   0.01910683  0.00816858 -0.07591508\n",
      " -0.06129524 -0.02448976 -0.0936164   0.03377509  0.0432435   0.03668873\n",
      " -0.06493937  0.13122559 -0.02705963 -0.01362593 -0.02925687  0.03042578\n",
      "  0.03747293  0.02205356  0.02676536 -0.06212519]\n",
      "[('1173', 0.98433083), ('4414', 0.98337185), ('1263', 0.98207539), ('1193', 0.98161274), ('3745', 0.98068571), ('1345', 0.98067909), ('1050', 0.98062062), ('3609', 0.98038757), ('2926', 0.9802829), ('301', 0.97994357)]\n",
      "[('46', 0.81252086), ('94', 0.81181902), ('5772', 0.8113575), ('3282', 0.81064856), ('6034', 0.80263156), ('3623', 0.80058378), ('5577', 0.79087698), ('304', 0.78845209), ('5999', 0.78561974), ('5069', 0.77918357)]\n"
     ]
    }
   ],
   "source": [
    "K = 10\n",
    "\n",
    "target_user = '5989'\n",
    "\n",
    "target_repr = user_repr[target_user]\n",
    "print target_repr\n",
    "simi = [(v, target_repr.dot(user_repr[v]) / (la.norm(target_repr * la.norm(user_repr[v]))))\n",
    "        for v in user_item_interaction]\n",
    "simi.sort(key=lambda x: -1 * x[1])\n",
    "print simi[1:K + 1]\n",
    "print simi[-1 * K:]"
   ]
  },
  {
   "cell_type": "code",
   "execution_count": 34,
   "metadata": {
    "collapsed": false
   },
   "outputs": [],
   "source": [
    "set_target = set([x[0] for x in user_item_interaction[target_user]])\n",
    "set_candy = set([x[0] for x in user_item_interaction[simi[1][0]]])"
   ]
  },
  {
   "cell_type": "code",
   "execution_count": 36,
   "metadata": {
    "collapsed": false,
    "scrolled": true
   },
   "outputs": [
    {
     "data": {
      "text/plain": [
       "['587',\n",
       " '588',\n",
       " '1',\n",
       " '2',\n",
       " '3005',\n",
       " '3006',\n",
       " '597',\n",
       " '3053',\n",
       " '2421',\n",
       " '2424',\n",
       " '3408',\n",
       " '3438',\n",
       " '231',\n",
       " '1848',\n",
       " '3450',\n",
       " '3466',\n",
       " '258',\n",
       " '3477',\n",
       " '2827',\n",
       " '3484',\n",
       " '2829',\n",
       " '3489',\n",
       " '1895',\n",
       " '2840',\n",
       " '2858',\n",
       " '2860',\n",
       " '1126',\n",
       " '2881',\n",
       " '2162',\n",
       " '3114',\n",
       " '1537',\n",
       " '3157',\n",
       " '1583',\n",
       " '3512',\n",
       " '3513',\n",
       " '1920',\n",
       " '317',\n",
       " '3536',\n",
       " '339',\n",
       " '3555',\n",
       " '21',\n",
       " '2907',\n",
       " '351',\n",
       " '39',\n",
       " '367',\n",
       " '374',\n",
       " '60',\n",
       " '2959',\n",
       " '2961',\n",
       " '708',\n",
       " '2996',\n",
       " '1265',\n",
       " '788',\n",
       " '3238',\n",
       " '1641',\n",
       " '3253',\n",
       " '3273',\n",
       " '2628',\n",
       " '440',\n",
       " '2302',\n",
       " '2321',\n",
       " '2324',\n",
       " '2355',\n",
       " '1721',\n",
       " '2394',\n",
       " '2395',\n",
       " '2396',\n",
       " '1747',\n",
       " '3354',\n",
       " '1750',\n",
       " '1777',\n",
       " '1784',\n",
       " '2762',\n",
       " '2771',\n",
       " '1042',\n",
       " '551',\n",
       " '558']"
      ]
     },
     "execution_count": 36,
     "metadata": {},
     "output_type": "execute_result"
    }
   ],
   "source": [
    "[x[0] for x in user_item_interaction[target_user]]"
   ]
  },
  {
   "cell_type": "code",
   "execution_count": 35,
   "metadata": {
    "collapsed": false
   },
   "outputs": [
    {
     "data": {
      "text/plain": [
       "0.09774436090225563"
      ]
     },
     "execution_count": 35,
     "metadata": {},
     "output_type": "execute_result"
    }
   ],
   "source": [
    "len(set_target.intersection(set_candy)) * 1. / len(set_target.union(set_candy))"
   ]
  },
  {
   "cell_type": "code",
   "execution_count": null,
   "metadata": {
    "collapsed": true
   },
   "outputs": [],
   "source": []
  },
  {
   "cell_type": "code",
   "execution_count": 42,
   "metadata": {
    "collapsed": false,
    "scrolled": true
   },
   "outputs": [],
   "source": [
    "# find out genres of items in a cluster\n",
    "def find_out_genres_of_items_interacted_by_a_user(user_item_interaction, user, item_info):\n",
    "    item_genres_list = []\n",
    "    for item_id in [x[0] for x in user_item_interaction[user]]:\n",
    "        #print item_id\n",
    "        #print item_info[item_id]\n",
    "        item_genres_list.append((item_id, [','.join(item_info[item_id][1])]))\n",
    "    return item_genres_list\n",
    "\n"
   ]
  },
  {
   "cell_type": "code",
   "execution_count": 52,
   "metadata": {
    "collapsed": false
   },
   "outputs": [],
   "source": [
    "# find out genre distribution for items belonging to a single cluster\n",
    "def find_genre_dist(item_genres_list):\n",
    "    #print item_genres_list\n",
    "    dist_dist = reduce(lambda x, y: (None, x[1] + y[1]), item_genres_list)\n",
    "    dist_dist = dist_dist[1]\n",
    "    dist_dist = [x.split(',') for x in dist_dist]\n",
    "    dist_dist = reduce(lambda x, y: x + y, dist_dist)\n",
    "    \n",
    "    genre_set = set(dist_dist)\n",
    "    genre_unique_list = list(genre_set)\n",
    "    \n",
    "    dist = [(x, list(dist_dist).count(x)) for x in genre_unique_list]\n",
    "    dist.sort(key=lambda x: -1 * x[1])\n",
    "    \n",
    "    count_sum = sum([x[1] for x in dist])\n",
    "    dist = [(x[0], x[1] * 1. / count_sum) for x in dist]\n",
    "    return dist\n",
    "\n",
    "target_igl = find_out_genres_of_items_interacted_by_a_user(user_item_interaction, target_user, item_info)\n",
    "target_genre_dist = find_genre_dist(target_igl)"
   ]
  },
  {
   "cell_type": "code",
   "execution_count": 53,
   "metadata": {
    "collapsed": false,
    "scrolled": true
   },
   "outputs": [],
   "source": [
    "candy_user = '1173'\n",
    "candy_igl = find_out_genres_of_items_interacted_by_a_user(user_item_interaction, candy_user, item_info)\n",
    "candy_genre_dist = find_genre_dist(candy_igl)"
   ]
  },
  {
   "cell_type": "code",
   "execution_count": 55,
   "metadata": {
    "collapsed": true
   },
   "outputs": [],
   "source": [
    "all_genres = [\n",
    "    \"Action\", \n",
    "    \"Adventure\", \n",
    "    \"Animation\", \n",
    "    \"Children's\", \n",
    "    \"Comedy\", \n",
    "    \"Crime\", \n",
    "    \"Documentary\", \n",
    "    \"Drama\", \n",
    "    \"Fantasy\", \n",
    "    \"Film-Noir\", \n",
    "    \"Horror\", \n",
    "    \"Musical\", \n",
    "    \"Mystery\", \n",
    "    \"Romance\", \n",
    "    \"Sci-Fi\", \n",
    "    \"Thriller\", \n",
    "    \"War\", \n",
    "    \"Western\", \n",
    "]"
   ]
  },
  {
   "cell_type": "code",
   "execution_count": 67,
   "metadata": {
    "collapsed": false
   },
   "outputs": [],
   "source": [
    "\n",
    "def plot_genre_dist_of_2_user(target_genre_dist, candy_genre_dist, all_genres):\n",
    "    d0 = dict(target_genre_dist)\n",
    "    d1 = dict(candy_genre_dist)\n",
    "\n",
    "    for g in all_genres:\n",
    "        if g not in d0:\n",
    "            d0[g] = 0\n",
    "    for g in all_genres:\n",
    "        if g not in d1:\n",
    "            d1[g] = 0\n",
    "    assert(set(d0.keys()) == set(d1.keys()))\n",
    "\n",
    "    d0_list = [d0[x] for x in all_genres]\n",
    "    d1_list = [d1[x] for x in all_genres]\n",
    "\n",
    "    d0_list_copy = d0_list[:]\n",
    "    d0_list = np.array(d0_list) * 1. / sum(d0_list)\n",
    "\n",
    "    d1_list_copy = d1_list[:]\n",
    "    d1_list = np.array(d1_list) * 1. / sum(d1_list)\n",
    "\n",
    "    print d0_list\n",
    "    print d1_list\n",
    "    print d0_list - d1_list\n",
    "    print math.sqrt(sum((d0_list - d1_list) ** 2) * 1. / len(d0_list))\n",
    "\n",
    "    indexes = np.arange(len(all_genres))\n",
    "\n",
    "    plt.bar(indexes - 0.2, d0_list, 0.2)\n",
    "    plt.bar(indexes + 0.2, d1_list, 0.2)\n",
    "\n",
    "    fig = plt.gcf()\n",
    "    fig.set_size_inches(18.5, 10.5, forward=True)\n",
    "\n",
    "    plt.show()\n",
    "    \n"
   ]
  },
  {
   "cell_type": "code",
   "execution_count": 68,
   "metadata": {
    "collapsed": false
   },
   "outputs": [
    {
     "name": "stdout",
     "output_type": "stream",
     "text": [
      "[ 0.04216867  0.06024096  0.04216867  0.10843373  0.27710843  0.0060241   0.\n",
      "  0.12048193  0.10240964  0.          0.0060241   0.01807229  0.0060241\n",
      "  0.10240964  0.03012048  0.06626506  0.01204819  0.        ]\n",
      "[ 0.10122699  0.02453988  0.00613497  0.01226994  0.28067485  0.03527607\n",
      "  0.00306748  0.23619632  0.00613497  0.00153374  0.01687117  0.00920245\n",
      "  0.01226994  0.11042945  0.0291411   0.09509202  0.01840491  0.00153374]\n",
      "[-0.05905832  0.03570109  0.03603371  0.0961638  -0.00356641 -0.02925198\n",
      " -0.00306748 -0.11571439  0.09627467 -0.00153374 -0.01084707  0.00886984\n",
      " -0.00624584 -0.00801981  0.00097938 -0.02882696 -0.00635672 -0.00153374]\n",
      "0.0471531322716\n"
     ]
    },
    {
     "data": {
      "image/png": "[encoded data removed]",
      "text/plain": [
       "<matplotlib.figure.Figure at 0xa201f20c>"
      ]
     },
     "metadata": {},
     "output_type": "display_data"
    },
    {
     "name": "stdout",
     "output_type": "stream",
     "text": [
      "[ 0.04216867  0.06024096  0.04216867  0.10843373  0.27710843  0.0060241   0.\n",
      "  0.12048193  0.10240964  0.          0.0060241   0.01807229  0.0060241\n",
      "  0.10240964  0.03012048  0.06626506  0.01204819  0.        ]\n",
      "[ 0.          0.          0.          0.          0.03448276  0.13793103\n",
      "  0.          0.10344828  0.          0.34482759  0.          0.\n",
      "  0.12068966  0.01724138  0.01724138  0.20689655  0.01724138  0.        ]\n",
      "[ 0.04216867  0.06024096  0.04216867  0.10843373  0.24262568 -0.13190694\n",
      "  0.          0.01703365  0.10240964 -0.34482759  0.0060241   0.01807229\n",
      " -0.11466556  0.08516826  0.0128791  -0.14063149 -0.00519319  0.        ]\n",
      "0.121478992688\n"
     ]
    },
    {
     "data": {
      "image/png": "[encoded data removed]",
      "text/plain": [
       "<matplotlib.figure.Figure at 0xa456acec>"
      ]
     },
     "metadata": {},
     "output_type": "display_data"
    }
   ],
   "source": [
    "plot_genre_dist_of_2_user(target_genre_dist, candy_genre_dist, all_genres)\n",
    "most_dissimilar_candy = '5069'\n",
    "most_dissimilar_candy_igl = find_out_genres_of_items_interacted_by_a_user(user_item_interaction, most_dissimilar_candy, item_info)\n",
    "most_dissimilar_candy_genre_dist = find_genre_dist(most_dissimilar_candy_igl)\n",
    "plot_genre_dist_of_2_user(target_genre_dist, most_dissimilar_candy_genre_dist, all_genres)"
   ]
  }
 ],
 "metadata": {
  "kernelspec": {
   "display_name": "Python 2",
   "language": "python",
   "name": "python2"
  },
  "language_info": {
   "codemirror_mode": {
    "name": "ipython",
    "version": 2
   },
   "file_extension": ".py",
   "mimetype": "text/x-python",
   "name": "python",
   "nbconvert_exporter": "python",
   "pygments_lexer": "ipython2",
   "version": "2.7.13"
  }
 },
 "nbformat": 4,
 "nbformat_minor": 2
}
