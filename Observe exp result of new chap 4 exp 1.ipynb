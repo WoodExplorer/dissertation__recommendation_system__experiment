{
 "cells": [
  {
   "cell_type": "code",
   "execution_count": 1,
   "metadata": {
    "collapsed": true
   },
   "outputs": [],
   "source": [
    "import sqlite3\n",
    "import xlrd\n",
    "import xlwt\n"
   ]
  },
  {
   "cell_type": "code",
   "execution_count": 2,
   "metadata": {
    "collapsed": true
   },
   "outputs": [],
   "source": [
    "cx = sqlite3.connect('my_metrics.db')\n",
    "cur = cx.cursor()\n"
   ]
  },
  {
   "cell_type": "code",
   "execution_count": 3,
   "metadata": {
    "collapsed": false,
    "scrolled": true
   },
   "outputs": [
    {
     "data": {
      "text/plain": [
       "[(u'tmp',),\n",
       " (u'tmp2',),\n",
       " (u'metrics',),\n",
       " (u'sqlite_sequence',),\n",
       " (u'metrics_N_20',),\n",
       " (u'metrics_N_20__iter_4__batch_words_1',),\n",
       " (u'metrics_N_20__iter_4__batch_words_10000',),\n",
       " (u'metrics_N_20__iter_4__batch_words_10000__da_1M',),\n",
       " (u'metrics_N_20__iter_5__batch_words_10000__da_1M',),\n",
       " (u'metrics_N_20__iter_10__batch_words_10000__da_1M',),\n",
       " (u'metrics_N_20__iter_20__batch_words_10000__da_1M',),\n",
       " (u'metrics_N_20__iter_40__batch_words_10000__da_1M',),\n",
       " (u'metrics_N_20__iter_80__batch_words_10000__da_1M',),\n",
       " (u'metrics_N_20__iter_60__batch_words_10000__da_1M',),\n",
       " (u'metrics_N_20__iter_30__batch_words_10000__da_1M',),\n",
       " (u'metrics_N_20__iter_35__batch_words_10000__da_1M',),\n",
       " (u'ttratio__metrics_N_20__iter_35__batch_words_10000__da_1M',),\n",
       " (u'ttratio_tiratio__metrics_N_20__iter_35__batch_words_10000__da_1M',),\n",
       " (u'metrics__normalized_user_repr__N_20__iter_35__batch_words_10000__da_1M',),\n",
       " (u'metrics__normalized_user_repr__N_20__iter_30__batch_words_10000__da_1M',),\n",
       " (u'metrics__chap4_exp2_across_variants__N_20__iter_30__da_1M',),\n",
       " (u'metrics__chap4_exp4_time_complexity__N_20__iter_30__da_1M',),\n",
       " (u'metrics__chap4_exp3_word2vec_hyper__N_20__iter_30__da_1M',),\n",
       " (u'metrics__chap4_exp4_time_complexity__SVD__N_20__da_1M',),\n",
       " (u'metrics__chap4_exp4_time_complexity__content_based__N_20__da_1M',),\n",
       " (u'metrics__chap4_exp4_time_complexity__CF__N_20__da_1M',),\n",
       " (u'tmp1',),\n",
       " (u'metrics__chap4_observe_CF_when_K_varies__N_20__da_1M',),\n",
       " (u'metrics__chap4_observe_word2ve_when_K_varies__N_20__iter_30__da_1M',),\n",
       " (u'metrcis__chap2_exp3_coefficient',),\n",
       " (u'metrcis__chap2_exp4_time_complexity_redo',),\n",
       " (u'metrics__chap4_exp1_across_32_variants__N_20___da_1M',)]"
      ]
     },
     "execution_count": 3,
     "metadata": {},
     "output_type": "execute_result"
    }
   ],
   "source": [
    "cur.execute('SELECT name FROM sqlite_master')\n",
    "cur.fetchall()"
   ]
  },
  {
   "cell_type": "code",
   "execution_count": 4,
   "metadata": {
    "collapsed": true
   },
   "outputs": [],
   "source": [
    "table_name = 'metrics__chap4_exp1_across_32_variants__N_20___da_1M'"
   ]
  },
  {
   "cell_type": "code",
   "execution_count": 13,
   "metadata": {
    "collapsed": false,
    "scrolled": true
   },
   "outputs": [
    {
     "data": {
      "text/plain": [
       "<sqlite3.Cursor at 0xb46ce560>"
      ]
     },
     "execution_count": 13,
     "metadata": {},
     "output_type": "execute_result"
    }
   ],
   "source": [
    "#cur.execute('drop table %s' % (table_name))"
   ]
  },
  {
   "cell_type": "code",
   "execution_count": null,
   "metadata": {
    "collapsed": true
   },
   "outputs": [],
   "source": []
  },
  {
   "cell_type": "code",
   "execution_count": 5,
   "metadata": {
    "collapsed": true
   },
   "outputs": [],
   "source": [
    "cur.execute('select * from metrics__chap4_exp1_across_32_variants__N_20___da_1M')\n",
    "r = cur.fetchall()"
   ]
  },
  {
   "cell_type": "code",
   "execution_count": 6,
   "metadata": {
    "collapsed": false,
    "scrolled": false
   },
   "outputs": [
    {
     "name": "stdout",
     "output_type": "stream",
     "text": [
      "      CBOW              rating                  CF            0.310458            0.046621            0.081068\n",
      "      CBOW              rating       content-based          0.00966667           0.0014516           0.0025242\n",
      "      CBOW         rating_time                  CF            0.265208            0.039826            0.069252\n",
      "      CBOW         rating_time       content-based             0.01825           0.0027406           0.0047655\n",
      "      CBOW         simple_time                  CF              0.2635            0.039569            0.068806\n",
      "      CBOW         simple_time       content-based            0.016375            0.002459           0.0042759\n",
      "      CBOW              simple                  CF            0.305208            0.045833            0.079697\n",
      "      CBOW              simple       content-based          0.00720833           0.0010825           0.0018823\n",
      "      CBOW        simple_tfidf                  CF            0.307083            0.046114            0.080187\n",
      "      CBOW        simple_tfidf       content-based          0.00479167          0.00071956           0.0012512\n",
      "      CBOW   simple_time_tfidf                  CF            0.259375             0.03895            0.067729\n",
      "      CBOW   simple_time_tfidf       content-based            0.011625           0.0017457           0.0030356\n",
      "      CBOW   rating_time_tfidf                  CF            0.261875            0.039325            0.068382\n",
      "      CBOW   rating_time_tfidf       content-based           0.0132917            0.001996           0.0034708\n",
      "      CBOW        rating_tfidf                  CF            0.306208            0.045983            0.079958\n",
      "      CBOW        rating_tfidf       content-based              0.0065          0.00097609           0.0016973\n",
      " skip-gram              rating                  CF            0.326125            0.048974            0.085159\n",
      " skip-gram              rating       content-based            0.026625           0.0039982           0.0069524\n",
      " skip-gram         rating_time                  CF             0.28375             0.04261            0.074094\n",
      " skip-gram         rating_time       content-based           0.0394583           0.0059254            0.010304\n",
      " skip-gram         simple_time                  CF            0.287208             0.04313            0.074997\n",
      " skip-gram         simple_time       content-based           0.0400417            0.006013            0.010456\n",
      " skip-gram              simple                  CF            0.321333            0.048254            0.083908\n",
      " skip-gram              simple       content-based           0.0256667           0.0038543           0.0067022\n",
      " skip-gram        simple_tfidf                  CF            0.323542            0.048586            0.084484\n",
      " skip-gram        simple_tfidf       content-based           0.0236667            0.003554           0.0061799\n",
      " skip-gram   simple_time_tfidf                  CF            0.292958            0.043993            0.076498\n",
      " skip-gram   simple_time_tfidf       content-based           0.0361667           0.0054311            0.009444\n",
      " skip-gram   rating_time_tfidf                  CF            0.294583            0.044237            0.076923\n",
      " skip-gram   rating_time_tfidf       content-based               0.036            0.005406           0.0094004\n",
      " skip-gram        rating_tfidf                  CF                0.33            0.049555            0.086171\n",
      " skip-gram        rating_tfidf       content-based           0.0254167           0.0038168           0.0066369\n"
     ]
    }
   ],
   "source": [
    "for record in r:\n",
    "    #print record\n",
    "    sg, variant, c_m,    mc, w, s, l_r, para_iter,    precision, recall, f1 = record[1:-1]\n",
    "    \n",
    "    sg = 'CBOW' if '0' == sg else 'skip-gram'\n",
    "    print \"%10s%20s%20s%20g%20.5g%20.5g\" % (sg, variant, c_m, precision, recall, f1)"
   ]
  },
  {
   "cell_type": "code",
   "execution_count": null,
   "metadata": {
    "collapsed": true
   },
   "outputs": [],
   "source": [
    "\"\"\"stage 1: CF beats content-based\"\"\""
   ]
  },
  {
   "cell_type": "code",
   "execution_count": 49,
   "metadata": {
    "collapsed": false
   },
   "outputs": [
    {
     "name": "stdout",
     "output_type": "stream",
     "text": [
      "      CBOW              rating    0.310458            0.0466209           0.081068            \n",
      "      CBOW         rating_time    0.265208            0.0398258           0.0692522           \n",
      "      CBOW         simple_time    0.2635              0.0395693           0.0688061           \n",
      "      CBOW              simple    0.305208            0.0458325           0.0796971           \n",
      "      CBOW        simple_tfidf    0.307083            0.0461141           0.0801867           \n",
      "      CBOW   simple_time_tfidf    0.259375            0.0389498           0.0677289           \n",
      "      CBOW   rating_time_tfidf    0.261875            0.0393252           0.0683817           \n",
      "      CBOW        rating_tfidf    0.306208            0.0459827           0.0799582           \n",
      " skip-gram              rating    0.326125            0.0489735           0.0851589           \n",
      " skip-gram         rating_time    0.28375             0.0426102           0.0740938           \n",
      " skip-gram         simple_time    0.287208            0.0431295           0.0749969           \n",
      " skip-gram              simple    0.321333            0.048254            0.0839077           \n",
      " skip-gram        simple_tfidf    0.323542            0.0485856           0.0844844           \n",
      " skip-gram   simple_time_tfidf    0.292958            0.043993            0.0764983           \n",
      " skip-gram   rating_time_tfidf    0.294583            0.044237            0.0769227           \n",
      " skip-gram        rating_tfidf    0.33                0.0495554           0.0861708           \n"
     ]
    }
   ],
   "source": [
    "where_clause = \" where comb_method = 'CF'\"\n",
    "cur.execute('select * from metrics__chap4_exp1_across_32_variants__N_20___da_1M' + where_clause)\n",
    "r = cur.fetchall()\n",
    "\n",
    "for record in r:\n",
    "    #print record\n",
    "    sg, variant, c_m,    mc, w, s, l_r, para_iter,    precision, recall, f1 = record[1:-1]\n",
    "    \n",
    "    sg = 'CBOW' if '0' == sg else 'skip-gram'\n",
    "    \n",
    "    #if 'content-based' == c_m:\n",
    "    #    continue\n",
    "    \n",
    "    print \"%10s%20s    %-20g%-20g%-20g\" % (sg, variant, precision, recall, f1)\n",
    "    \n"
   ]
  },
  {
   "cell_type": "code",
   "execution_count": 50,
   "metadata": {
    "collapsed": false
   },
   "outputs": [
    {
     "data": {
      "text/plain": [
       "[0.004090936291283362,\n",
       " 0.004841666621332716,\n",
       " 0.006190805185479362,\n",
       " 0.004210617938102831,\n",
       " 0.004297659135789694,\n",
       " 0.00876940066695317,\n",
       " 0.008540917523025132,\n",
       " 0.006212565484901067]"
      ]
     },
     "execution_count": 50,
     "metadata": {},
     "output_type": "execute_result"
    }
   ],
   "source": [
    "[r[x + 8][-2] - r[x][-2] for x in range(0, 8)]"
   ]
  },
  {
   "cell_type": "code",
   "execution_count": null,
   "metadata": {
    "collapsed": true
   },
   "outputs": [],
   "source": [
    "\"\"\"stage 2: skip-gram beats CBOW\"\"\""
   ]
  },
  {
   "cell_type": "code",
   "execution_count": 55,
   "metadata": {
    "collapsed": false
   },
   "outputs": [
    {
     "name": "stdout",
     "output_type": "stream",
     "text": [
      "              rating    0.326125            0.0489735           0.0851589  rating\n",
      "         rating_time    0.28375             0.0426102           0.0740938  rating_time\n",
      "         simple_time    0.287208            0.0431295           0.0749969  simple_time\n",
      "              simple    0.321333            0.048254            0.0839077  simple\n",
      "        simple_tfidf    0.323542            0.0485856           0.0844844  simple_tfidf\n",
      "   simple_time_tfidf    0.292958            0.043993            0.0764983  simple_time_tfidf\n",
      "   rating_time_tfidf    0.294583            0.044237            0.0769227  rating_time_tfidf\n",
      "        rating_tfidf    0.33                0.0495554           0.0861708  rating_tfidf\n"
     ]
    }
   ],
   "source": [
    "where_clause = \" where comb_method = 'CF' and sg = '1'\"\n",
    "cur.execute('select * from metrics__chap4_exp1_across_32_variants__N_20___da_1M' + where_clause)\n",
    "r = cur.fetchall()\n",
    "\n",
    "for record in r:\n",
    "    #print record\n",
    "    sg, variant, c_m,    mc, w, s, l_r, para_iter,    precision, recall, f1 = record[1:-1]\n",
    "    \n",
    "    sg = 'CBOW' if '0' == sg else 'skip-gram'\n",
    "    \n",
    "    #if 'content-based' == c_m:\n",
    "    #    continue\n",
    "    \n",
    "    print \"%20s    %-20g%-20g%-10g %s\" % (variant, precision, recall, f1, variant)\n",
    "    \n"
   ]
  },
  {
   "cell_type": "code",
   "execution_count": null,
   "metadata": {
    "collapsed": true
   },
   "outputs": [],
   "source": []
  },
  {
   "cell_type": "code",
   "execution_count": 69,
   "metadata": {
    "collapsed": false,
    "scrolled": true
   },
   "outputs": [
    {
     "name": "stdout",
     "output_type": "stream",
     "text": [
      " skip-gram              rating       content-based    0.026625            0.00399822          0.00695242          \n",
      " skip-gram         rating_time       content-based    0.0394583           0.00592538          0.0103035           \n",
      " skip-gram         simple_time       content-based    0.0400417           0.00601298          0.0104558           \n",
      " skip-gram              simple       content-based    0.0256667           0.00385431          0.00670217          \n",
      " skip-gram        simple_tfidf       content-based    0.0236667           0.00355398          0.00617993          \n",
      " skip-gram   simple_time_tfidf       content-based    0.0361667           0.00543108          0.00944397          \n",
      " skip-gram   rating_time_tfidf       content-based    0.036               0.00540605          0.00940045          \n",
      " skip-gram        rating_tfidf       content-based    0.0254167           0.00381677          0.00663689          \n",
      "\n",
      "rating vs simple: 0.000772490629471 -0.000152322095952 -4.35205988434e-05 0.000456966287856\n",
      "time vs simple: 0.00335108611094 0.00375365165025 0.00326404491326 0.00276355802656\n",
      "pop vs simple: -0.000315524341615 -0.000903052426001 -0.00101185392311 -0.000522247186121\n",
      "\n",
      " skip-gram              rating                  CF    0.326125            0.0489735           0.0851589           \n",
      " skip-gram         rating_time                  CF    0.28375             0.0426102           0.0740938           \n",
      " skip-gram         simple_time                  CF    0.287208            0.0431295           0.0749969           \n",
      " skip-gram              simple                  CF    0.321333            0.048254            0.0839077           \n",
      " skip-gram        simple_tfidf                  CF    0.323542            0.0485856           0.0844844           \n",
      " skip-gram   simple_time_tfidf                  CF    0.292958            0.043993            0.0764983           \n",
      " skip-gram   rating_time_tfidf                  CF    0.294583            0.044237            0.0769227           \n",
      " skip-gram        rating_tfidf                  CF    0.33                0.0495554           0.0861708           \n",
      "\n",
      "rating vs simple: 0.000674569282073 -0.000903052426001 0.000424325838724 0.00168642320518\n",
      "time vs simple: -0.0110651122559 -0.00891084261319 -0.00798602988777 -0.00924812725423\n",
      "pop vs simple: 0.00101185392311 0.00282883892482 0.0015014606601 0.000576647934676\n",
      "\n",
      "      CBOW              rating       content-based    0.00966667          0.00145162          0.00252419          \n",
      "      CBOW         rating_time       content-based    0.01825             0.00274057          0.00476551          \n",
      "      CBOW         simple_time       content-based    0.016375            0.002459            0.0042759           \n",
      "      CBOW              simple       content-based    0.00720833          0.00108246          0.00188227          \n",
      "      CBOW        simple_tfidf       content-based    0.00479167          0.000719555         0.00125122          \n",
      "      CBOW   simple_time_tfidf       content-based    0.011625            0.0017457           0.00303556          \n",
      "      CBOW   rating_time_tfidf       content-based    0.0132917           0.00199598          0.00347077          \n",
      "      CBOW        rating_tfidf       content-based    0.0065              0.000976092         0.0016973           \n",
      "\n",
      "rating vs simple: 0.00127297751617 0.000489606736989 0.000435205988434 0.000446086138145\n",
      "time vs simple: 0.00224131084044 0.00239363293639 0.00178434455258 0.00177346440287\n",
      "pop vs simple: -0.000826891378025 -0.00129473781559 -0.00124033706704 -0.00063104868323\n",
      "\n",
      "      CBOW              rating                  CF    0.310458            0.0466209           0.081068            \n",
      "      CBOW         rating_time                  CF    0.265208            0.0398258           0.0692522           \n",
      "      CBOW         simple_time                  CF    0.2635              0.0395693           0.0688061           \n",
      "      CBOW              simple                  CF    0.305208            0.0458325           0.0796971           \n",
      "      CBOW        simple_tfidf                  CF    0.307083            0.0461141           0.0801867           \n",
      "      CBOW   simple_time_tfidf                  CF    0.259375            0.0389498           0.0677289           \n",
      "      CBOW   rating_time_tfidf                  CF    0.261875            0.0393252           0.0683817           \n",
      "      CBOW        rating_tfidf                  CF    0.306208            0.0459827           0.0799582           \n",
      "\n",
      "rating vs simple: 0.00088129212658 0.000446086138145 0.000652808982652 -0.000228483143928\n",
      "time vs simple: -0.011815842586 -0.0108910298606 -0.0124577714189 -0.0115764792924\n",
      "pop vs simple: -0.00110977527051 -0.000870411976869 -0.00107713482138 0.000489606736989\n",
      "\n"
     ]
    }
   ],
   "source": [
    "cur.execute('select * from metrics__chap4_exp1_across_32_variants__N_20___da_1M')\n",
    "r = cur.fetchall()\n",
    "\n",
    "\n",
    "sg_set = set()\n",
    "variant_set = set()\n",
    "c_m_set = set()\n",
    "\n",
    "\n",
    "\n",
    "\n",
    "for record in r:\n",
    "    #print record\n",
    "    sg, variant, c_m,    mc, w, s, l_r, para_iter,    precision, recall, f1 = record[1:-1]\n",
    "    \n",
    "    sg_set.add(sg)\n",
    "    variant_set.add(variant)\n",
    "    c_m_set.add(c_m)\n",
    "\n",
    "\n",
    "for cur_sg, cur_c_m in [(a, c) for a in sg_set for c in c_m_set]:\n",
    "#for cur_sg, cur_c_m in [(a, b, c) for a in sg_set for b in variant_set for c in c_m_set]:\n",
    "    \n",
    "    subr = filter(lambda (_, sg, variant, c_m,    mc, w, s, l_r, para_iter,    precision, recall, f1, __): cur_sg == sg and cur_c_m == c_m,\n",
    "                  r)\n",
    "    \n",
    "    for _, sg, variant, c_m,    mc, w, s, l_r, para_iter,    precision, recall, f1, __ in subr:\n",
    "        sg = 'CBOW' if '0' == sg else 'skip-gram'\n",
    "    \n",
    "    \n",
    "        print \"%10s%20s%20s    %-20g%-20g%-20g\" % (sg, variant, c_m, precision, recall, f1)\n",
    "    print \n",
    "    \n",
    "    f1l = [float(x[-2]) for x in subr]    \n",
    "    print \"rating vs simple:\", f1l[0] - f1l[4], f1l[1] - f1l[2], f1l[6] - f1l[5], f1l[7] - f1l[4]\n",
    "    print \"time vs simple:\", f1l[1] - f1l[0], f1l[2] - f1l[3], f1l[5] - f1l[4], f1l[6] - f1l[7]\n",
    "    print \"pop vs simple:\", f1l[7] - f1l[0], f1l[6] - f1l[1], f1l[5] - f1l[2], f1l[4] - f1l[3]\n",
    "     \n",
    "    print \n",
    "    \n"
   ]
  },
  {
   "cell_type": "code",
   "execution_count": null,
   "metadata": {
    "collapsed": true
   },
   "outputs": [],
   "source": []
  },
  {
   "cell_type": "code",
   "execution_count": null,
   "metadata": {
    "collapsed": true
   },
   "outputs": [],
   "source": []
  },
  {
   "cell_type": "code",
   "execution_count": 34,
   "metadata": {
    "collapsed": false
   },
   "outputs": [
    {
     "name": "stdout",
     "output_type": "stream",
     "text": [
      "CBOW\tUB\tCF\t0.30521\t0.045833\t0.079697\n",
      "CBOW\tUB\tcontent-based\t0.0072083\t0.0010825\t0.0018823\n",
      "CBOW\tUP\tCF\t0.30708\t0.046114\t0.080187\n",
      "CBOW\tUP\tcontent-based\t0.0047917\t0.00071956\t0.0012512\n",
      "CBOW\tUR\tCF\t0.31046\t0.046621\t0.081068\n",
      "CBOW\tUR\tcontent-based\t0.0096667\t0.0014516\t0.0025242\n",
      "CBOW\tUPR\tCF\t0.30621\t0.045983\t0.079958\n",
      "CBOW\tUPR\tcontent-based\t0.0065\t0.00097609\t0.0016973\n",
      "CBOW\tUT\tCF\t0.2635\t0.039569\t0.068806\n",
      "CBOW\tUT\tcontent-based\t0.016375\t0.002459\t0.0042759\n",
      "CBOW\tUPT\tCF\t0.25938\t0.03895\t0.067729\n",
      "CBOW\tUPT\tcontent-based\t0.011625\t0.0017457\t0.0030356\n",
      "CBOW\tURT\tCF\t0.26521\t0.039826\t0.069252\n",
      "CBOW\tURT\tcontent-based\t0.01825\t0.0027406\t0.0047655\n",
      "CBOW\tUPRT\tCF\t0.26188\t0.039325\t0.068382\n",
      "CBOW\tUPRT\tcontent-based\t0.013292\t0.001996\t0.0034708\n",
      "skip-gram\tUB\tCF\t0.32133\t0.048254\t0.083908\n",
      "skip-gram\tUB\tcontent-based\t0.025667\t0.0038543\t0.0067022\n",
      "skip-gram\tUP\tCF\t0.32354\t0.048586\t0.084484\n",
      "skip-gram\tUP\tcontent-based\t0.023667\t0.003554\t0.0061799\n",
      "skip-gram\tUR\tCF\t0.32612\t0.048974\t0.085159\n",
      "skip-gram\tUR\tcontent-based\t0.026625\t0.0039982\t0.0069524\n",
      "skip-gram\tUPR\tCF\t0.33\t0.049555\t0.086171\n",
      "skip-gram\tUPR\tcontent-based\t0.025417\t0.0038168\t0.0066369\n",
      "skip-gram\tUT\tCF\t0.28721\t0.04313\t0.074997\n",
      "skip-gram\tUT\tcontent-based\t0.040042\t0.006013\t0.010456\n",
      "skip-gram\tUPT\tCF\t0.29296\t0.043993\t0.076498\n",
      "skip-gram\tUPT\tcontent-based\t0.036167\t0.0054311\t0.009444\n",
      "skip-gram\tURT\tCF\t0.28375\t0.04261\t0.074094\n",
      "skip-gram\tURT\tcontent-based\t0.039458\t0.0059254\t0.010304\n",
      "skip-gram\tUPRT\tCF\t0.29458\t0.044237\t0.076923\n",
      "skip-gram\tUPRT\tcontent-based\t0.036\t0.005406\t0.0094004\n"
     ]
    }
   ],
   "source": [
    "cur.execute('select * from metrics__chap4_exp1_across_32_variants__N_20___da_1M')\n",
    "r = cur.fetchall()\n",
    "\n",
    "r.sort(key=lambda x: x[1])\n",
    "def transform_variant(x):\n",
    "    if 'simple' == x:\n",
    "        return 'uv1_UB'\n",
    "    elif 'simple_tfidf' == x:\n",
    "        return 'uv2_UP'\n",
    "    elif 'rating' == x:\n",
    "        return 'uv3_UR'\n",
    "    elif 'rating_tfidf' == x:\n",
    "        return 'uv4_UPR'\n",
    "    ##########################\n",
    "    elif 'simple_time' == x:\n",
    "        return 'uv5_UT'\n",
    "    elif 'simple_time_tfidf' == x:\n",
    "        return 'uv6_UPT'\n",
    "    elif 'rating_time' == x:\n",
    "        return 'uv7_URT'\n",
    "    elif 'rating_time_tfidf' == x:\n",
    "        return 'uv8_UPRT'\n",
    "    else:\n",
    "        print x\n",
    "        assert(False)\n",
    "def transform_rec(rec):\n",
    "    rec = list(rec)\n",
    "    rec[2] = transform_variant(rec[2])\n",
    "    return rec\n",
    "\n",
    "r = [transform_rec(x) for x in r]\n",
    "r = sorted(r[:16], key=lambda x: x[2]) + sorted(r[16:], key=lambda x: x[2])\n",
    "\n",
    "def transform_rec__remove_variant_prefix(rec):\n",
    "    rec = list(rec)\n",
    "    rec[2] = rec[2][4:]\n",
    "    return rec\n",
    "def transform_rec__sg(rec):\n",
    "    sg = rec[1]\n",
    "    sg = 'CBOW' if '0' == sg else 'skip-gram'\n",
    "    rec[1] = sg\n",
    "    return rec\n",
    "\n",
    "r = [transform_rec__remove_variant_prefix(x) for x in r]\n",
    "r = [transform_rec__sg(x) for x in r]\n",
    "\n",
    "for record in r:\n",
    "    #print record\n",
    "    sg, variant, c_m,    mc, w, s, l_r, para_iter,    precision, recall, f1 = record[1:-1]\n",
    "    \n",
    "    \n",
    "    #print \"%10s%20s%20s\\t%-20g%-20g%-20g\" % (sg, variant, c_m, precision, recall, f1)\n",
    "    print \"%s\\t%s\\t%s\\t%.5g\\t%.5g\\t%.5g\" % (sg, variant, c_m, precision, recall, f1)\n",
    "\n",
    "    \n",
    "    \n",
    "def transform_rec__fix_precision(rec): #小数点位数\n",
    "    rec = list(rec)\n",
    "    indexes = [9, 10, 11]\n",
    "    expected_len = 7\n",
    "    for index in indexes:\n",
    "        rec[index] = str(rec[index])[:expected_len]\n",
    "        \n",
    "        if len(rec[index]) < expected_len:\n",
    "            rec[index] += \"0\" * (expected_len - len(rec[index]))\n",
    "    \n",
    "    return rec  \n",
    "r = [transform_rec__fix_precision(x) for x in r]\n",
    "\n",
    "\n",
    "#####\n",
    "book=xlwt.Workbook()\n",
    "sheet1=book.add_sheet('hello')\n",
    "    \n",
    "for row_id, record in enumerate(r):\n",
    "    row = sheet1.row(row_id)\n",
    "    for col_id, val in enumerate(record[1:-1]):\n",
    "        row.write(col_id, val)\n",
    "book.save('chap 4 exp 1 output excel.xls')"
   ]
  },
  {
   "cell_type": "code",
   "execution_count": 25,
   "metadata": {
    "collapsed": true
   },
   "outputs": [],
   "source": [
    "import xlrd\n",
    "import xlwt\n",
    "\n",
    "book=xlwt.Workbook()\n",
    "sheet1=book.add_sheet('hello')\n",
    "    \n",
    "sheet1.write(0,0,'hello')\n",
    "sheet1.write(0,1,'world')\n",
    "row1 = sheet1.row(1)\n",
    "row1.write(0,'A2')\n",
    "row1.write(1,'B2')\n",
    "\n"
   ]
  },
  {
   "cell_type": "code",
   "execution_count": 28,
   "metadata": {
    "collapsed": true
   },
   "outputs": [],
   "source": [
    "book.save('test.xls')"
   ]
  }
 ],
 "metadata": {
  "kernelspec": {
   "display_name": "Python 2",
   "language": "python",
   "name": "python2"
  },
  "language_info": {
   "codemirror_mode": {
    "name": "ipython",
    "version": 2
   },
   "file_extension": ".py",
   "mimetype": "text/x-python",
   "name": "python",
   "nbconvert_exporter": "python",
   "pygments_lexer": "ipython2",
   "version": "2.7.13"
  }
 },
 "nbformat": 4,
 "nbformat_minor": 2
}
