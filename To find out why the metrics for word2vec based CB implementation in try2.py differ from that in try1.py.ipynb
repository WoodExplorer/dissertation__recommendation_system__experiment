{
 "cells": [
  {
   "cell_type": "code",
   "execution_count": 1,
   "metadata": {
    "collapsed": false
   },
   "outputs": [
    {
     "data": {
      "text/plain": [
       "[(1, 4), (2, 5), (3, 6)]"
      ]
     },
     "execution_count": 1,
     "metadata": {},
     "output_type": "execute_result"
    }
   ],
   "source": [
    "l1 = [1, 2, 3]\n",
    "l2 = [4, 5, 6]\n",
    "\n",
    "zip(l1, l2)"
   ]
  },
  {
   "cell_type": "code",
   "execution_count": null,
   "metadata": {
    "collapsed": true
   },
   "outputs": [],
   "source": []
  },
  {
   "cell_type": "code",
   "execution_count": 6,
   "metadata": {
    "collapsed": true
   },
   "outputs": [],
   "source": [
    "import cPickle\n",
    "import multiprocessing"
   ]
  },
  {
   "cell_type": "code",
   "execution_count": 4,
   "metadata": {
    "collapsed": false
   },
   "outputs": [],
   "source": [
    "name_prefix = 'thread-'\n",
    "name_postfix = '.dump'"
   ]
  },
  {
   "cell_type": "code",
   "execution_count": 7,
   "metadata": {
    "collapsed": false
   },
   "outputs": [
    {
     "data": {
      "text/plain": [
       "[None, None, None, None, None, None, None, None, None]"
      ]
     },
     "execution_count": 7,
     "metadata": {},
     "output_type": "execute_result"
    }
   ],
   "source": [
    "W_pieces = [cPickle.load(open(name, 'r')) for name in [name_prefix + str(en) + name_postfix for en, x in enumerate(range(0,9))]]\n",
    "W = {}\n",
    "map(lambda x: W.update(x), W_pieces)"
   ]
  },
  {
   "cell_type": "code",
   "execution_count": 8,
   "metadata": {
    "collapsed": false
   },
   "outputs": [
    {
     "data": {
      "text/plain": [
       "1200"
      ]
     },
     "execution_count": 8,
     "metadata": {},
     "output_type": "execute_result"
    }
   ],
   "source": [
    "len(W)"
   ]
  },
  {
   "cell_type": "code",
   "execution_count": null,
   "metadata": {
    "collapsed": true
   },
   "outputs": [],
   "source": []
  },
  {
   "cell_type": "code",
   "execution_count": null,
   "metadata": {
    "collapsed": true
   },
   "outputs": [],
   "source": []
  },
  {
   "cell_type": "code",
   "execution_count": 11,
   "metadata": {
    "collapsed": false
   },
   "outputs": [],
   "source": [
    "try2_W = cPickle.load(open('try2.output.dmp', 'r'))"
   ]
  },
  {
   "cell_type": "code",
   "execution_count": 12,
   "metadata": {
    "collapsed": false
   },
   "outputs": [
    {
     "data": {
      "text/plain": [
       "1200"
      ]
     },
     "execution_count": 12,
     "metadata": {},
     "output_type": "execute_result"
    }
   ],
   "source": [
    "len(try2_W)"
   ]
  },
  {
   "cell_type": "code",
   "execution_count": null,
   "metadata": {
    "collapsed": true
   },
   "outputs": [],
   "source": []
  },
  {
   "cell_type": "code",
   "execution_count": 13,
   "metadata": {
    "collapsed": false
   },
   "outputs": [
    {
     "data": {
      "text/plain": [
       "True"
      ]
     },
     "execution_count": 13,
     "metadata": {},
     "output_type": "execute_result"
    }
   ],
   "source": [
    "set(W.keys()) == set(try2_W.keys())"
   ]
  },
  {
   "cell_type": "code",
   "execution_count": 14,
   "metadata": {
    "collapsed": false
   },
   "outputs": [
    {
     "data": {
      "text/plain": [
       "'4303'"
      ]
     },
     "execution_count": 14,
     "metadata": {},
     "output_type": "execute_result"
    }
   ],
   "source": [
    "W.keys()[0]"
   ]
  },
  {
   "cell_type": "code",
   "execution_count": 15,
   "metadata": {
    "collapsed": false
   },
   "outputs": [
    {
     "data": {
      "text/plain": [
       "'1142'"
      ]
     },
     "execution_count": 15,
     "metadata": {},
     "output_type": "execute_result"
    }
   ],
   "source": [
    "try2_W.keys()[0]"
   ]
  },
  {
   "cell_type": "code",
   "execution_count": 17,
   "metadata": {
    "collapsed": false
   },
   "outputs": [
    {
     "data": {
      "text/plain": [
       "[('2226', 0.92601246),\n",
       " ('843', 0.91736633),\n",
       " ('3888', 0.91626364),\n",
       " ('3460', 0.91508913),\n",
       " ('989', 0.91380954),\n",
       " ('3277', 0.89689541),\n",
       " ('3380', 0.89161569),\n",
       " ('2619', 0.89090306),\n",
       " ('3748', 0.8904385),\n",
       " ('2703', 0.88784641),\n",
       " ('134', 0.88620925),\n",
       " ('658', 0.87769818),\n",
       " ('651', 0.87569541),\n",
       " ('859', 0.8728919),\n",
       " ('3482', 0.86906517),\n",
       " ('3517', 0.86695516),\n",
       " ('3413', 0.86299044),\n",
       " ('3065', 0.85653186),\n",
       " ('1886', 0.85407102),\n",
       " ('887', 0.85145432)]"
      ]
     },
     "execution_count": 17,
     "metadata": {},
     "output_type": "execute_result"
    }
   ],
   "source": [
    "W['4303']"
   ]
  },
  {
   "cell_type": "code",
   "execution_count": 18,
   "metadata": {
    "collapsed": false
   },
   "outputs": [
    {
     "data": {
      "text/plain": [
       "[('2226', 0.94935459),\n",
       " ('3888', 0.94291461),\n",
       " ('843', 0.93947029),\n",
       " ('3460', 0.92827022),\n",
       " ('989', 0.92502898),\n",
       " ('859', 0.92001593),\n",
       " ('2619', 0.91479921),\n",
       " ('134', 0.91462708),\n",
       " ('3380', 0.91417456),\n",
       " ('3277', 0.91013694),\n",
       " ('658', 0.90172535),\n",
       " ('2703', 0.90051883),\n",
       " ('651', 0.89631301),\n",
       " ('1886', 0.89338088),\n",
       " ('1714', 0.88087994),\n",
       " ('1386', 0.87979919),\n",
       " ('572', 0.87903476),\n",
       " ('3413', 0.87831783),\n",
       " ('3748', 0.87519908),\n",
       " ('3065', 0.87279391)]"
      ]
     },
     "execution_count": 18,
     "metadata": {},
     "output_type": "execute_result"
    }
   ],
   "source": [
    "try2_W['4303']"
   ]
  },
  {
   "cell_type": "code",
   "execution_count": null,
   "metadata": {
    "collapsed": true
   },
   "outputs": [],
   "source": []
  },
  {
   "cell_type": "code",
   "execution_count": null,
   "metadata": {
    "collapsed": true
   },
   "outputs": [],
   "source": []
  },
  {
   "cell_type": "code",
   "execution_count": null,
   "metadata": {
    "collapsed": true
   },
   "outputs": [],
   "source": []
  },
  {
   "cell_type": "code",
   "execution_count": null,
   "metadata": {
    "collapsed": true
   },
   "outputs": [],
   "source": []
  },
  {
   "cell_type": "code",
   "execution_count": 19,
   "metadata": {
    "collapsed": true
   },
   "outputs": [],
   "source": [
    "import os\n",
    "import gensim#from gensim.models import word2vec\n",
    "import math\n",
    "import random\n",
    "import csv\n",
    "import numpy as np\n",
    "from numpy import linalg as la\n",
    "import heapq\n",
    "import multiprocessing\n",
    "#from multiprocessing.dummy import Pool as ThreadPool\n",
    "import datetime\n",
    "import logging\n",
    "#import threading\n",
    "#import thread\n",
    "import cPickle\n",
    "import sqlite3\n",
    "from utility_extract_data import extract_data_from_file_and_generate_train_and_test\n",
    "from utility_user_repr import *\n",
    "\n",
    "logging.basicConfig(format='%(asctime)s : %(levelname)s : %(message)s', level=logging.INFO)\n",
    "\n",
    "\n",
    "class RecommendatorSystem(object):\n",
    "    \"\"\"docstring for RecommendatorSystem\"\"\"\n",
    "    def __init__(self):\n",
    "        super(RecommendatorSystem, self).__init__()\n",
    "        \n",
    "    def setup(self):\n",
    "        assert(False)\n",
    "\n",
    "    def split_data(self, data, M, k, seed):\n",
    "        '''Possible problem: \n",
    "        '''\n",
    "        test = []\n",
    "        train = []\n",
    "        random.seed(seed)\n",
    "        for user, item in data.items():\n",
    "            if k == random.randint(0, M):\n",
    "                test.append([user, item])\n",
    "            else:\n",
    "                train.append([user, item])\n",
    "        return train, test\n",
    "\n",
    "\n",
    "    def calculate_metrics(self, train, test, N):\n",
    "        starttime = datetime.datetime.now()\n",
    "\n",
    "        ###\n",
    "        threads = []\n",
    "        # Start consumers\n",
    "        num_threads = multiprocessing.cpu_count() * 2\n",
    "        #num_threads = 1 # for debugging        \n",
    "        if len(test) < num_threads:\n",
    "            num_threads = 1\n",
    "        \n",
    "        print 'Creating %d threads' % num_threads\n",
    "\n",
    "        piece_len = len(test) / num_threads\n",
    "\n",
    "        test__in_list = test.items()\n",
    "        #print 'dict(test__in_list):', dict(test__in_list)\n",
    "        pieces = [dict(test__in_list[x * piece_len: (x + 1) * piece_len]) for x in xrange(0, num_threads + 1)]\n",
    "        #print 'pieces:', pieces\n",
    "        # 创建线程对象\n",
    "        name_prefix = 'thread-'\n",
    "        name_postfix = '.dump'\n",
    "        for en, x in enumerate(pieces):\n",
    "            name = name_prefix + str(en) + name_postfix\n",
    "            threads.append(InnerThreadClass(name, self, len(test), x, N))\n",
    "        for t in threads:\n",
    "            t.start()\n",
    "        for t in threads:\n",
    "            t.join()  \n",
    "\n",
    "        total = len(test)\n",
    "        print 'progress: %d/%d. done.' % (total, total)\n",
    "\n",
    "        #\n",
    "        rec_pieces = [cPickle.load(open(name, 'r')) for name in [name_prefix + str(en) + name_postfix for en in xrange(num_threads + 1)]]\n",
    "        #print 'rec_pieces:', rec_pieces\n",
    "        rec = {}\n",
    "        map(lambda x: rec.update(x), rec_pieces)\n",
    "        \n",
    "        #print 'rec:', rec\n",
    "        ###\n",
    "\n",
    "        hit = 0\n",
    "        all__for_recall = 0\n",
    "        all__for_precision = 0\n",
    "        for user in test.keys():\n",
    "            history = test[user][0]\n",
    "            answer = test[user][1]\n",
    "            tu = [x[0] for x in answer]\n",
    "            rank = rec[user] # self.recommend(history, N)\n",
    "            #print 'rank:', rank\n",
    "            for item, pui in rank:\n",
    "                if item in tu:\n",
    "                    hit += 1\n",
    "            all__for_recall += len(tu)\n",
    "            all__for_precision += len(rank) #Note: In book RSP, the author used 'all += N'\n",
    "        \n",
    "        metric_recall = None\n",
    "        metric_precision = None\n",
    "        metric_f1 = None\n",
    "        if 0 == all__for_recall:\n",
    "            metric_recall = 0\n",
    "        else:\n",
    "            metric_recall = hit / (all__for_recall * 1.0)\n",
    "        \n",
    "        if 0 == all__for_precision:\n",
    "            metric_precision = 0\n",
    "        else:\n",
    "            metric_precision = hit / (all__for_precision * 1.0)\n",
    "\n",
    "        if 0 == all__for_recall or 0 == all__for_precision:\n",
    "            metric_f1 = 0\n",
    "        else:\n",
    "            metric_f1 = 2/(1./metric_precision + 1./metric_recall)\n",
    "\n",
    "        endtime = datetime.datetime.now()\n",
    "        interval = (endtime - starttime).seconds\n",
    "        print 'metric calculation: time consumption: %d' % (interval)\n",
    "        return {'recall': metric_recall, 'precision': metric_precision, 'f1': metric_f1}\n",
    "\n",
    "    \n",
    "### Word2vec based CB\n",
    "class RecommendatorViaWord2VecBasedCB(RecommendatorSystem):\n",
    "    def __init__(self):\n",
    "        super(RecommendatorSystem, self).__init__()\n",
    "\n",
    "    def setup(self, para):\n",
    "        item_file_name, item_file_delimiter, genre_delimiter = para['item_file_name'], para['item_file_delimiter'], para['genre_delimiter']\n",
    "        rating_file_name, rating_file_delimiter = para['rating_file_name'], para['rating_file_delimiter']\n",
    "        model_path = para['model_path']\n",
    "        self.user_histor2user_repr_function = para['user_histor2user_repr_function']\n",
    "\n",
    "        self.item_info = self.extract_item_info(item_file_name, item_file_delimiter, genre_delimiter)\n",
    "        self.user_item_interaction = extract_user_item_interaction(rating_file_name, rating_file_delimiter)\n",
    "        self.model = gensim.models.Word2Vec.load(model_path)\n",
    "        self.user_repr = {user: self.user_histor2user_repr_function(self.model, self.user_item_interaction[user]) \n",
    "                     for user in self.user_item_interaction}\n",
    "        self.item_repr = self.model\n",
    "        self.all_items = set(self.model.wv.vocab.keys())\n",
    "\n",
    "        self.total_user_item_comb = 0\n",
    "\n",
    "\n",
    "    def extract_item_info(self, filename, delimiter, genre_delimiter):\n",
    "        data = {}\n",
    "\n",
    "        with open(filename , 'r') as f:\n",
    "            for i, line in enumerate(f):\n",
    "                itemId, title, genre_list = map(lambda x: x.strip(), line.split(delimiter))\n",
    "\n",
    "                data[itemId] = (title, genre_list.split(genre_delimiter))\n",
    "        return data\n",
    "\n",
    "\n",
    "    def extract_user_item_interaction(self, filename, delimiter):\n",
    "        data = {}\n",
    "\n",
    "        with open(filename , 'r') as f:\n",
    "            for i, line in enumerate(f):\n",
    "                userId, movieId, rating, timestamp = line.split(delimiter)\n",
    "                #userId = int(userId)\n",
    "                #movieId = int(movieId)\n",
    "                rating = float(rating)\n",
    "                timestamp = int(timestamp)\n",
    "\n",
    "                if userId not in data:\n",
    "                    data[userId] = []\n",
    "                data[userId].append((movieId, rating, timestamp))\n",
    "\n",
    "        # order by time\n",
    "        for userId in data:\n",
    "            data[userId].sort(key=lambda x: x[2]) \n",
    "        return data\n",
    "\n",
    "        '''\n",
    "    def main():\n",
    "        item_file_name, item_file_delimiter, genre_delimiter = os.path.sep.join(['ml-1m', 'movies.dat']), '::', '|'\n",
    "        item_info = extract_item_info(item_file_name, item_file_delimiter, genre_delimiter)\n",
    "\n",
    "\n",
    "        rating_file_name, rating_file_delimiter = os.path.sep.join(['ml-1m', 'ratings.dat']), '::'\n",
    "        user_item_interaction = extract_user_item_interaction(rating_file_name, rating_file_delimiter)\n",
    "\n",
    "        model_path = '/home/wsyj/dissertation__recommendation_system__experiment_2/dissertation__recommendation_system__experiment/main_modelnum_features=100_min_count=1_window=1_iter=30.model'\n",
    "\n",
    "        #model = gensim.models.Word2Vec.load('/home/wsyj/dissertation__recommendation_system__experiment_2/dissertation__recommendation_system__experiment/main_modelnum_features=200_min_count=5_window=2.model' )\n",
    "        model = gensim.models.Word2Vec.load(model_path)\n",
    "\n",
    "        #user_history2user_repr__simple_average(model, user_item_interaction['5989'])   \n",
    "\n",
    "        # calculate user representation dict\n",
    "        user_repr = {user: user_history2user_repr__simple_average(model, user_item_interaction[user]) \n",
    "                     for user in user_item_interaction}\n",
    "\n",
    "        # item representation\n",
    "        item_repr = model\n",
    "        #print len(item_repr)\n",
    "\n",
    "        all_items = set(model.wv.vocab.keys())\n",
    "\n",
    "        # load train and test datasets\n",
    "\n",
    "        data_filename, delimiter, data_set = os.path.sep.join(['ml-1m', 'ratings.dat']), '::', '1M'\n",
    "        #data_filename, delimiter = os.path.sep.join(['ml-10M100K', 'ratings.dat']), '::'\n",
    "        #data_filename, delimiter, data_set = os.path.sep.join(['ml-100k', 'u.data']), '\\t', '100K'\n",
    "\n",
    "        N = 20\n",
    "        seed = 2 \n",
    "        K = 10\n",
    "        train_percent = 0.8\n",
    "        test_data_inner_ratio = 0.8\n",
    "        test = None\n",
    "        train, original_test = extract_data_from_file_and_generate_train_and_test(data_filename, train_percent, seed, delimiter, test_data_inner_ratio)\n",
    "        #train, test = extract_data_from_file_and_generate_train_and_test(data_filename, 3, 0, seed, delimiter)\n",
    "\n",
    "\n",
    "        # main: core of content-based recommendation\n",
    "\n",
    "        total_user_item_comb = 0\n",
    "        rec = {}\n",
    "        for user in original_test:\n",
    "            history, future = original_test[user]\n",
    "            history_items = set([x[0] for x in history])\n",
    "            candidates = all_items - history_items # filtering out those interacted\n",
    "            #print 'candidates:', candidates\n",
    "\n",
    "            total_user_item_comb += len(candidates)\n",
    "            cand_simi_list = []\n",
    "            for candy in candidates:\n",
    "                simi = user_repr[user].dot(item_repr[candy]) / (la.norm(user_repr[user]) * la.norm(item_repr[candy]))\n",
    "                cand_simi_list.append((candy, simi))\n",
    "\n",
    "            cand_simi_list.sort(key=lambda x: -1 * x[1])\n",
    "\n",
    "            rec[user] = cand_simi_list[:N]\n",
    "\n",
    "        print 'total_user_item_comb:', total_user_item_comb\n",
    "\n",
    "        metrics = calculate_metrics(original_test, rec)\n",
    "        print \"metrics:\", metrics\n",
    "'''\n",
    "    \n",
    "    def recommend(self, target_user_history, N, K=10):\n",
    "        '''@K: number of user neighbors considered\n",
    "        '''\n",
    "        print 'word2vec based CB'\n",
    "\n",
    "        history_items = set([x[0] for x in target_user_history])\n",
    "        target_user_repr = self.user_histor2user_repr_function(self.model, target_user_history)\n",
    "        candidates = self.all_items - history_items # filtering out those interacted\n",
    "        #print 'candidates:', candidates\n",
    "\n",
    "        self.total_user_item_comb += len(candidates)\n",
    "        cand_simi_list = []\n",
    "        for candy in candidates:\n",
    "            simi = target_user_repr.dot(self.item_repr[candy]) / (la.norm(target_user_repr) * la.norm(self.item_repr[candy]))\n",
    "            cand_simi_list.append((candy, simi))\n",
    "\n",
    "        cand_simi_list.sort(key=lambda x: -1 * x[1])\n",
    "\n",
    "        return cand_simi_list[:N]\n",
    "        #####################\n",
    "\n",
    "'''\n",
    "        rank = {}\n",
    "        interacted_items = [x[0] for x in target_user_history]\n",
    "        #print 'target_user_history:', target_user_history\n",
    "        #print 'interacted_items:', interacted_items\n",
    "\n",
    "        K_neighbors = self.find_K_neighbors(target_user_history, K)\n",
    "\n",
    "        for v, wuv in K_neighbors:\n",
    "        #for v, wuv in sorted(self.W[u].items(), key=lambda x: x[1], reverse=True)[0:K]: # wuv: similarity between user u and user v\n",
    "            for i, rvi, timestamp in self.train[v]: # rvi: rate of item by user v\n",
    "                if i in interacted_items:\n",
    "                    #do not recommend items which user u interacted before\n",
    "                    continue\n",
    "\n",
    "                if i not in rank:\n",
    "                    rank[i] = 0.0\n",
    "                rank[i] += wuv * rvi\n",
    "\n",
    "        rank = rank.items()\n",
    "        rank.sort(key=lambda x: x[1], reverse=True)\n",
    "        return rank[:N]'''\n",
    "\n",
    "\n",
    "def print_matrix(M):\n",
    "    def print_wrapper(x):\n",
    "        print x, M[x]\n",
    "    map(lambda x: print_wrapper(x), M)\n"
   ]
  },
  {
   "cell_type": "code",
   "execution_count": 34,
   "metadata": {
    "collapsed": false
   },
   "outputs": [
    {
     "name": "stderr",
     "output_type": "stream",
     "text": [
      "2017-04-06 16:24:49,532 : INFO : loading Word2Vec object from /home/wsyj/dissertation__recommendation_system__experiment_2/dissertation__recommendation_system__experiment/main_modelnum_features=100_min_count=1_window=1_iter=30.model\n",
      "2017-04-06 16:24:49,542 : INFO : loading wv recursively from /home/wsyj/dissertation__recommendation_system__experiment_2/dissertation__recommendation_system__experiment/main_modelnum_features=100_min_count=1_window=1_iter=30.model.wv.* with mmap=None\n",
      "2017-04-06 16:24:49,542 : INFO : setting ignored attribute syn0norm to None\n",
      "2017-04-06 16:24:49,543 : INFO : setting ignored attribute cum_table to None\n",
      "2017-04-06 16:24:49,543 : INFO : loaded /home/wsyj/dissertation__recommendation_system__experiment_2/dissertation__recommendation_system__experiment/main_modelnum_features=100_min_count=1_window=1_iter=30.model\n"
     ]
    }
   ],
   "source": [
    "rs = RecommendatorViaWord2VecBasedCB()\n",
    "rs.setup({'item_file_name': os.path.sep.join(['ml-1m', 'movies.dat']), \n",
    "        'item_file_delimiter': '::',\n",
    "        'genre_delimiter': '|',\n",
    "\n",
    "        'rating_file_name': os.path.sep.join(['ml-1m', 'ratings.dat']),\n",
    "        'rating_file_delimiter': '::',\n",
    "\n",
    "        'model_path': '/home/wsyj/dissertation__recommendation_system__experiment_2/dissertation__recommendation_system__experiment/main_modelnum_features=100_min_count=1_window=1_iter=30.model',\n",
    "\n",
    "        'user_histor2user_repr_function': user_history2user_repr__simple,\n",
    "})"
   ]
  },
  {
   "cell_type": "code",
   "execution_count": null,
   "metadata": {
    "collapsed": true
   },
   "outputs": [],
   "source": []
  },
  {
   "cell_type": "code",
   "execution_count": 51,
   "metadata": {
    "collapsed": false,
    "scrolled": true
   },
   "outputs": [
    {
     "name": "stdout",
     "output_type": "stream",
     "text": [
      "sort_by_time: False\n"
     ]
    }
   ],
   "source": [
    "data_filename, delimiter, data_set = os.path.sep.join(['ml-1m', 'ratings.dat']), '::', '1M'\n",
    "#data_filename, delimiter = os.path.sep.join(['ml-10M100K', 'ratings.dat']), '::'\n",
    "#data_filename, delimiter, data_set = os.path.sep.join(['ml-100k', 'u.data']), '\\t', '100K'\n",
    "\n",
    "seed = 2 \n",
    "K = 10\n",
    "train_percent = 0.8\n",
    "test_data_inner_ratio = 0.8\n",
    "train, test = extract_data_from_file_and_generate_train_and_test(data_filename, train_percent, seed, delimiter, test_data_inner_ratio)"
   ]
  },
  {
   "cell_type": "code",
   "execution_count": 25,
   "metadata": {
    "collapsed": false
   },
   "outputs": [
    {
     "data": {
      "text/plain": [
       "1200"
      ]
     },
     "execution_count": 25,
     "metadata": {},
     "output_type": "execute_result"
    }
   ],
   "source": [
    "len(test)"
   ]
  },
  {
   "cell_type": "code",
   "execution_count": 52,
   "metadata": {
    "collapsed": false,
    "scrolled": true
   },
   "outputs": [
    {
     "name": "stdout",
     "output_type": "stream",
     "text": [
      "word2vec based CB\n"
     ]
    },
    {
     "data": {
      "text/plain": [
       "[('2226', 0.92601246),\n",
       " ('843', 0.91736633),\n",
       " ('3888', 0.91626364),\n",
       " ('3460', 0.91508913),\n",
       " ('989', 0.91380954),\n",
       " ('3277', 0.89689541),\n",
       " ('3380', 0.89161569),\n",
       " ('2619', 0.89090306),\n",
       " ('3748', 0.8904385),\n",
       " ('2703', 0.88784641),\n",
       " ('134', 0.88620925),\n",
       " ('658', 0.87769818),\n",
       " ('651', 0.87569541),\n",
       " ('859', 0.8728919),\n",
       " ('3482', 0.86906517),\n",
       " ('3517', 0.86695516),\n",
       " ('3413', 0.86299044),\n",
       " ('3065', 0.85653186),\n",
       " ('1886', 0.85407102),\n",
       " ('887', 0.85145432)]"
      ]
     },
     "execution_count": 52,
     "metadata": {},
     "output_type": "execute_result"
    }
   ],
   "source": [
    "# def recommend(self, target_user_history, N, K=10):\n",
    "\n",
    "target_user_id = '4303'\n",
    "rs.recommend(test[target_user_id][0], 20)"
   ]
  },
  {
   "cell_type": "code",
   "execution_count": 57,
   "metadata": {
    "collapsed": false
   },
   "outputs": [
    {
     "data": {
      "text/plain": [
       "array([-0.07995249, -0.03568274,  0.10432107,  0.11091466, -0.01100429,\n",
       "       -0.17950441,  0.10763099, -0.11357614,  0.16079967,  0.01536572,\n",
       "        0.16512679,  0.03932391, -0.01480475, -0.09908679,  0.06570812,\n",
       "       -0.11590304, -0.10808569, -0.05665402,  0.05365364,  0.0219524 ,\n",
       "       -0.04337854,  0.15584807, -0.03881831,  0.08431357,  0.02600622,\n",
       "       -0.12639721,  0.06112057, -0.1396686 ,  0.15059343,  0.09106894,\n",
       "       -0.04577739, -0.05692285, -0.10817996, -0.12845665,  0.01696131,\n",
       "       -0.05179565,  0.0818283 ,  0.15346935, -0.04456283,  0.11329725,\n",
       "        0.09736568, -0.01164295, -0.04671535,  0.10337068,  0.09236275,\n",
       "        0.07060608, -0.02350138, -0.16532132,  0.01778999, -0.10881312,\n",
       "        0.04054732,  0.02967958,  0.13123903,  0.05488566,  0.13757376,\n",
       "       -0.07669593,  0.20684645, -0.08336023, -0.10686736,  0.08607247,\n",
       "        0.030428  , -0.01641421,  0.03212703, -0.22401127,  0.10563564,\n",
       "        0.01048131, -0.12061931, -0.1811237 , -0.21279833, -0.02521648,\n",
       "        0.03751266, -0.03117232,  0.00780724, -0.15250529,  0.05822962,\n",
       "       -0.01858959,  0.0831608 ,  0.02071391,  0.07690767,  0.12847342,\n",
       "       -0.18235739, -0.02169916,  0.08470347, -0.12885538, -0.12490621,\n",
       "       -0.00819658, -0.14089875,  0.05963546,  0.08852564,  0.07295524,\n",
       "       -0.05082839,  0.26936078, -0.02785213, -0.02345471,  0.01845137,\n",
       "        0.06665628,  0.09476046,  0.00966896,  0.091166  , -0.0862841 ], dtype=float32)"
      ]
     },
     "execution_count": 57,
     "metadata": {},
     "output_type": "execute_result"
    }
   ],
   "source": [
    "rs.item_repr['2226']"
   ]
  },
  {
   "cell_type": "code",
   "execution_count": 61,
   "metadata": {
    "collapsed": false
   },
   "outputs": [
    {
     "data": {
      "text/plain": [
       "0.94935459"
      ]
     },
     "execution_count": 61,
     "metadata": {},
     "output_type": "execute_result"
    }
   ],
   "source": [
    "rs.user_repr[target_user_id].dot(rs.item_repr['2226']) /   (la.norm(rs.user_repr[target_user_id]) * la.norm(rs.item_repr['2226']))\n"
   ]
  },
  {
   "cell_type": "code",
   "execution_count": 62,
   "metadata": {
    "collapsed": false
   },
   "outputs": [
    {
     "data": {
      "text/plain": [
       "array([ -3.14346179e-02,  -2.43079253e-02,   4.00689878e-02,\n",
       "         3.87215279e-02,   1.89239606e-02,  -7.65962079e-02,\n",
       "         2.18911432e-02,  -5.04102521e-02,   1.05822757e-01,\n",
       "        -8.34232010e-03,   8.64890739e-02,   1.88324098e-02,\n",
       "        -1.43516874e-02,  -2.19456460e-02,   3.88069265e-02,\n",
       "        -8.38797987e-02,  -3.20274644e-02,  -5.34103960e-02,\n",
       "         1.31921144e-02,   2.05511693e-02,  -2.97581889e-02,\n",
       "         6.00219294e-02,  -1.49239525e-02,   2.18010638e-02,\n",
       "         2.54599079e-02,  -4.32962291e-02,   4.06921357e-02,\n",
       "        -1.11218400e-01,   5.54783754e-02,   2.80525591e-02,\n",
       "        -1.89394429e-02,  -3.91659401e-02,  -2.73492374e-02,\n",
       "        -6.32353276e-02,   3.01409122e-02,   3.50768282e-03,\n",
       "         4.09195423e-02,   7.28367493e-02,  -4.99162935e-02,\n",
       "         5.90917021e-02,   1.50144733e-02,  -3.69294174e-02,\n",
       "         3.81200155e-03,   6.61503747e-02,   3.84372994e-02,\n",
       "         1.30061200e-02,  -2.80600991e-02,  -9.07633752e-02,\n",
       "        -3.69095244e-02,  -6.06292970e-02,   9.93689406e-04,\n",
       "         1.96877643e-02,   7.80621618e-02,   1.99574120e-02,\n",
       "         6.73098639e-02,  -2.38831732e-02,   8.36041197e-02,\n",
       "        -5.74080348e-02,  -8.75116363e-02,   3.88346277e-02,\n",
       "         3.83230746e-02,   6.15309319e-03,  -1.92253373e-03,\n",
       "        -1.08504966e-01,   4.13196310e-02,   3.59979644e-02,\n",
       "        -5.33047840e-02,  -9.72259790e-02,  -7.60203898e-02,\n",
       "        -2.25806981e-02,   2.72785481e-02,  -3.40687558e-02,\n",
       "        -2.20441800e-02,  -6.02161214e-02,   2.05219705e-02,\n",
       "        -2.62354389e-02,   3.19429338e-02,   5.08046069e-04,\n",
       "         7.37031996e-02,   6.35758266e-02,  -9.68320668e-02,\n",
       "         4.53638472e-02,   8.49579833e-03,  -9.62562785e-02,\n",
       "        -6.92958608e-02,  -7.48761557e-03,  -7.17561692e-02,\n",
       "         3.83740440e-02,   4.33014631e-02,   2.05896422e-02,\n",
       "        -7.20534846e-02,   1.29372612e-01,  -8.25405400e-03,\n",
       "        -3.16380411e-02,   7.23950070e-05,   2.53236555e-02,\n",
       "         6.21553548e-02,  -2.21507847e-02,   7.57042319e-02,\n",
       "        -6.19760640e-02], dtype=float32)"
      ]
     },
     "execution_count": 62,
     "metadata": {},
     "output_type": "execute_result"
    }
   ],
   "source": [
    "rs.user_histor2user_repr_function(rs.model, test[target_user_id][0])"
   ]
  },
  {
   "cell_type": "code",
   "execution_count": 59,
   "metadata": {
    "collapsed": false
   },
   "outputs": [
    {
     "data": {
      "text/plain": [
       "0.94935459"
      ]
     },
     "execution_count": 59,
     "metadata": {},
     "output_type": "execute_result"
    }
   ],
   "source": [
    "item_repr['2226']\n",
    "user_repr[target_user_id].dot(item_repr['2226']) / (la.norm(user_repr[target_user_id]) * la.norm(item_repr['2226']))"
   ]
  },
  {
   "cell_type": "code",
   "execution_count": 53,
   "metadata": {
    "collapsed": true
   },
   "outputs": [],
   "source": [
    "user = target_user_id\n",
    "history, future = original_test[user]\n",
    "history_items = set([x[0] for x in history])\n",
    "candidates = all_items - history_items # filtering out those interacted\n",
    "#print 'candidates:', candidates\n",
    "\n",
    "total_user_item_comb += len(candidates)\n",
    "cand_simi_list = []\n",
    "for candy in candidates:\n",
    "    simi = user_repr[user].dot(item_repr[candy]) / (la.norm(user_repr[user]) * la.norm(item_repr[candy]))\n",
    "    cand_simi_list.append((candy, simi))\n",
    "\n",
    "    cand_simi_list.sort(key=lambda x: -1 * x[1])\n",
    "\n",
    "    "
   ]
  },
  {
   "cell_type": "code",
   "execution_count": 55,
   "metadata": {
    "collapsed": false
   },
   "outputs": [
    {
     "data": {
      "text/plain": [
       "array([-0.02998144, -0.00725607,  0.0540598 ,  0.04305745,  0.00356386,\n",
       "       -0.09771697,  0.01962578, -0.05186418,  0.10864354,  0.01012072,\n",
       "        0.09448522,  0.01894226, -0.01534213, -0.02943856,  0.05182371,\n",
       "       -0.07218101, -0.04372488, -0.03683557,  0.01982726,  0.00111637,\n",
       "       -0.02494859,  0.06807517, -0.01570932,  0.01937005,  0.01860823,\n",
       "       -0.06247325,  0.05167216, -0.09294701,  0.0587185 ,  0.03370877,\n",
       "       -0.02212591, -0.03227014, -0.03925757, -0.06762307,  0.0434934 ,\n",
       "       -0.00750151,  0.04712634,  0.08051383, -0.03738636,  0.07138214,\n",
       "        0.00261551, -0.03158722, -0.01819723,  0.05965479,  0.06039528,\n",
       "        0.02843246, -0.01186906, -0.08832191, -0.01572738, -0.04541136,\n",
       "        0.01458372,  0.03037676,  0.06580335,  0.0065573 ,  0.06968792,\n",
       "       -0.03493665,  0.09015711, -0.04899194, -0.06306034,  0.04478908,\n",
       "        0.04816107,  0.00214435,  0.01574012, -0.10736565,  0.04368715,\n",
       "        0.02015235, -0.04464936, -0.08446606, -0.0740968 , -0.02223224,\n",
       "        0.02084603, -0.00617117, -0.01916723, -0.07439318,  0.0144606 ,\n",
       "       -0.02678853,  0.0185461 ,  0.00688943,  0.05380209,  0.05691454,\n",
       "       -0.10001567,  0.03852278, -0.00131405, -0.08743956, -0.07176077,\n",
       "       -0.01055859, -0.07650903,  0.0335375 ,  0.03627299,  0.03030777,\n",
       "       -0.05928638,  0.14668947, -0.0116139 , -0.02431031, -0.00892063,\n",
       "        0.01630847,  0.05648922, -0.01886144,  0.0493325 , -0.05276548], dtype=float32)"
      ]
     },
     "execution_count": 55,
     "metadata": {},
     "output_type": "execute_result"
    }
   ],
   "source": [
    "user_repr[user]"
   ]
  },
  {
   "cell_type": "code",
   "execution_count": 54,
   "metadata": {
    "collapsed": false
   },
   "outputs": [
    {
     "data": {
      "text/plain": [
       "[('2226', 0.94935459),\n",
       " ('3888', 0.94291461),\n",
       " ('843', 0.93947029),\n",
       " ('3460', 0.92827022),\n",
       " ('989', 0.92502898),\n",
       " ('859', 0.92001593),\n",
       " ('2619', 0.91479921),\n",
       " ('134', 0.91462708),\n",
       " ('3380', 0.91417456),\n",
       " ('3277', 0.91013694),\n",
       " ('658', 0.90172535),\n",
       " ('2703', 0.90051883),\n",
       " ('651', 0.89631301),\n",
       " ('1886', 0.89338088),\n",
       " ('1714', 0.88087994),\n",
       " ('1386', 0.87979919),\n",
       " ('572', 0.87903476),\n",
       " ('3413', 0.87831783),\n",
       " ('3748', 0.87519908),\n",
       " ('3065', 0.87279391),\n",
       " ('1315', 0.86692423),\n",
       " ('3517', 0.8665778),\n",
       " ('1905', 0.86530614),\n",
       " ('3291', 0.85867208),\n",
       " ('3482', 0.85815883),\n",
       " ('3315', 0.85647124),\n",
       " ('3656', 0.85557282),\n",
       " ('2909', 0.8531782),\n",
       " ('2223', 0.85290682),\n",
       " ('2214', 0.85197717),\n",
       " ('311', 0.85053724),\n",
       " ('398', 0.8473599),\n",
       " ('2218', 0.8470124),\n",
       " ('142', 0.8462041),\n",
       " ('130', 0.84597808),\n",
       " ('127', 0.84519923),\n",
       " ('672', 0.84346282),\n",
       " ('2811', 0.8411147),\n",
       " ('887', 0.84048045),\n",
       " ('1528', 0.84038728),\n",
       " ('3631', 0.83652323),\n",
       " ('878', 0.83640128),\n",
       " ('3229', 0.83629823),\n",
       " ('584', 0.83409935),\n",
       " ('2343', 0.83335972),\n",
       " ('758', 0.83323967),\n",
       " ('3376', 0.83316481),\n",
       " ('1636', 0.83211195),\n",
       " ('1851', 0.8314212),\n",
       " ('286', 0.8310045),\n",
       " ('730', 0.8308115),\n",
       " ('2217', 0.83055145),\n",
       " ('3151', 0.82899886),\n",
       " ('3377', 0.82828557),\n",
       " ('682', 0.82441813),\n",
       " ('439', 0.82405567),\n",
       " ('1555', 0.82329059),\n",
       " ('3312', 0.82283241),\n",
       " ('2235', 0.82187432),\n",
       " ('3722', 0.81937778),\n",
       " ('2845', 0.81895),\n",
       " ('757', 0.81873453),\n",
       " ('3131', 0.81864113),\n",
       " ('1133', 0.81636369),\n",
       " ('690', 0.81341839),\n",
       " ('1548', 0.81005871),\n",
       " ('660', 0.80877078),\n",
       " ('3542', 0.80794245),\n",
       " ('827', 0.8071242),\n",
       " ('1142', 0.80564499),\n",
       " ('1360', 0.80484664),\n",
       " ('2608', 0.80307972),\n",
       " ('3899', 0.80288792),\n",
       " ('3202', 0.79822457),\n",
       " ('789', 0.79815125),\n",
       " ('3057', 0.79805499),\n",
       " ('1118', 0.79794371),\n",
       " ('579', 0.79620832),\n",
       " ('1820', 0.79600412),\n",
       " ('2869', 0.79255623),\n",
       " ('3205', 0.79201233),\n",
       " ('396', 0.79102504),\n",
       " ('792', 0.78946954),\n",
       " ('3336', 0.7890203),\n",
       " ('763', 0.78805882),\n",
       " ('1908', 0.78706217),\n",
       " ('2823', 0.7854588),\n",
       " ('985', 0.78539169),\n",
       " ('591', 0.7830649),\n",
       " ('3212', 0.78156203),\n",
       " ('3352', 0.78090358),\n",
       " ('526', 0.7789405),\n",
       " ('666', 0.77812409),\n",
       " ('3472', 0.77750921),\n",
       " ('607', 0.77608186),\n",
       " ('3522', 0.77540064),\n",
       " ('3136', 0.77349442),\n",
       " ('1630', 0.77287644),\n",
       " ('1115', 0.77258456),\n",
       " ('2855', 0.77241409),\n",
       " ('3140', 0.77223206),\n",
       " ('701', 0.77091497),\n",
       " ('2213', 0.76996672),\n",
       " ('2209', 0.76803964),\n",
       " ('2760', 0.76634759),\n",
       " ('966', 0.76591831),\n",
       " ('796', 0.76567769),\n",
       " ('3778', 0.76035798),\n",
       " ('1796', 0.76010776),\n",
       " ('2742', 0.75811154),\n",
       " ('167', 0.75759703),\n",
       " ('2556', 0.75620735),\n",
       " ('1364', 0.75596946),\n",
       " ('644', 0.7557146),\n",
       " ('3353', 0.75485009),\n",
       " ('411', 0.7508468),\n",
       " ('884', 0.7505753),\n",
       " ('1685', 0.74960232),\n",
       " ('2557', 0.74917191),\n",
       " ('582', 0.74909711),\n",
       " ('641', 0.74848688),\n",
       " ('2821', 0.74812353),\n",
       " ('3290', 0.7474981),\n",
       " ('3207', 0.74714321),\n",
       " ('696', 0.74712783),\n",
       " ('3314', 0.74541634),\n",
       " ('726', 0.74534947),\n",
       " ('1040', 0.74357736),\n",
       " ('1553', 0.74237669),\n",
       " ('1622', 0.74135667),\n",
       " ('2765', 0.73977518),\n",
       " ('3687', 0.73944032),\n",
       " ('2299', 0.73802716),\n",
       " ('712', 0.73757154),\n",
       " ('3184', 0.73664111),\n",
       " ('406', 0.73485422),\n",
       " ('1852', 0.73444945),\n",
       " ('2510', 0.73201829),\n",
       " ('3164', 0.73164654),\n",
       " ('3905', 0.72865719),\n",
       " ('2277', 0.72864717),\n",
       " ('3001', 0.72823954),\n",
       " ('3056', 0.72818148),\n",
       " ('1930', 0.72800052),\n",
       " ('1430', 0.72646242),\n",
       " ('2930', 0.72395408),\n",
       " ('397', 0.7238515),\n",
       " ('2215', 0.72250968),\n",
       " ('874', 0.72200739),\n",
       " ('3419', 0.72131062),\n",
       " ('2484', 0.72066021),\n",
       " ('1486', 0.72043759),\n",
       " ('3887', 0.71905881),\n",
       " ('3292', 0.71831089),\n",
       " ('3867', 0.71821821),\n",
       " ('3890', 0.71812117),\n",
       " ('3313', 0.7178719),\n",
       " ('3025', 0.71767318),\n",
       " ('2576', 0.71529609),\n",
       " ('679', 0.71363229),\n",
       " ('3321', 0.71344399),\n",
       " ('623', 0.71253741),\n",
       " ('3283', 0.71232152),\n",
       " ('1764', 0.71120477),\n",
       " ('643', 0.71096319),\n",
       " ('634', 0.70895153),\n",
       " ('939', 0.70872223),\n",
       " ('560', 0.70762086),\n",
       " ('652', 0.70625472),\n",
       " ('2172', 0.70541173),\n",
       " ('2074', 0.70417309),\n",
       " ('895', 0.70283765),\n",
       " ('2964', 0.70156562),\n",
       " ('3126', 0.70059782),\n",
       " ('600', 0.69963753),\n",
       " ('98', 0.6994518),\n",
       " ('751', 0.69938439),\n",
       " ('2578', 0.69903284),\n",
       " ('1864', 0.69754708),\n",
       " ('2298', 0.6971826),\n",
       " ('2584', 0.69620138),\n",
       " ('2663', 0.6946156),\n",
       " ('598', 0.69446284),\n",
       " ('1071', 0.69428003),\n",
       " ('2892', 0.69427842),\n",
       " ('136', 0.69417858),\n",
       " ('1510', 0.69408548),\n",
       " ('3346', 0.69367868),\n",
       " ('3242', 0.69251519),\n",
       " ('755', 0.69227093),\n",
       " ('96', 0.69213474),\n",
       " ('1659', 0.69064987),\n",
       " ('3495', 0.68990862),\n",
       " ('1728', 0.68971354),\n",
       " ('3898', 0.68967909),\n",
       " ('3463', 0.68889886),\n",
       " ('756', 0.68887144),\n",
       " ('578', 0.68834448),\n",
       " ('138', 0.6875208),\n",
       " ('108', 0.68705094),\n",
       " ('1850', 0.68689466),\n",
       " ('1543', 0.68477058),\n",
       " ('749', 0.68459845),\n",
       " ('90', 0.68410939),\n",
       " ('295', 0.68286443),\n",
       " ('687', 0.68208718),\n",
       " ('2998', 0.68127716),\n",
       " ('189', 0.68075562),\n",
       " ('2783', 0.6806677),\n",
       " ('1561', 0.67974865),\n",
       " ('1565', 0.67843604),\n",
       " ('120', 0.67839873),\n",
       " ('2187', 0.67830998),\n",
       " ('2233', 0.6775679),\n",
       " ('993', 0.67725646),\n",
       " ('3232', 0.67702097),\n",
       " ('67', 0.67695093),\n",
       " ('129', 0.67644024),\n",
       " ('1872', 0.67565519),\n",
       " ('814', 0.67554313),\n",
       " ('561', 0.67386842),\n",
       " ('3637', 0.67383027),\n",
       " ('3058', 0.67352134),\n",
       " ('580', 0.67267925),\n",
       " ('3648', 0.67172134),\n",
       " ('2063', 0.67138815),\n",
       " ('664', 0.6705274),\n",
       " ('99', 0.67029059),\n",
       " ('1522', 0.67019981),\n",
       " ('702', 0.66968614),\n",
       " ('3759', 0.66941333),\n",
       " ('3906', 0.66936719),\n",
       " ('554', 0.66929609),\n",
       " ('3236', 0.66925377),\n",
       " ('197', 0.66859025),\n",
       " ('1098', 0.66809428),\n",
       " ('1767', 0.6671046),\n",
       " ('863', 0.66664004),\n",
       " ('200', 0.66635436),\n",
       " ('1519', 0.66561192),\n",
       " ('2227', 0.6648612),\n",
       " ('2945', 0.66476315),\n",
       " ('862', 0.66449863),\n",
       " ('1404', 0.6642642),\n",
       " ('2191', 0.66422427),\n",
       " ('3149', 0.66357744),\n",
       " ('1076', 0.66322929),\n",
       " ('1087', 0.66294456),\n",
       " ('3459', 0.66280967),\n",
       " ('1116', 0.66229033),\n",
       " ('1898', 0.66211861),\n",
       " ('2332', 0.66107434),\n",
       " ('2185', 0.66019571),\n",
       " ('1401', 0.65970296),\n",
       " ('1743', 0.65965205),\n",
       " ('2503', 0.65912497),\n",
       " ('3141', 0.65897334),\n",
       " ('1038', 0.65884233),\n",
       " ('649', 0.65866667),\n",
       " ('2778', 0.65823233),\n",
       " ('1749', 0.65731043),\n",
       " ('3575', 0.65687877),\n",
       " ('3544', 0.65684366),\n",
       " ('2842', 0.65676773),\n",
       " ('525', 0.65648329),\n",
       " ('2814', 0.65634477),\n",
       " ('3621', 0.65619296),\n",
       " ('3944', 0.65577531),\n",
       " ('297', 0.65572971),\n",
       " ('1504', 0.65553838),\n",
       " ('359', 0.65515572),\n",
       " ('3891', 0.65471953),\n",
       " ('2383', 0.65465325),\n",
       " ('1181', 0.65435392),\n",
       " ('776', 0.65411133),\n",
       " ('462', 0.65398878),\n",
       " ('3295', 0.65391684),\n",
       " ('3106', 0.65386945),\n",
       " ('1412', 0.65341401),\n",
       " ('2813', 0.65332246),\n",
       " ('219', 0.65323794),\n",
       " ('1151', 0.65284252),\n",
       " ('3772', 0.65273833),\n",
       " ('2244', 0.65202075),\n",
       " ('3767', 0.65159273),\n",
       " ('2933', 0.65129924),\n",
       " ('2128', 0.65092176),\n",
       " ('2796', 0.65053856),\n",
       " ('430', 0.6499812),\n",
       " ('131', 0.64989793),\n",
       " ('2062', 0.64979959),\n",
       " ('3912', 0.64978188),\n",
       " ('2675', 0.64964098),\n",
       " ('746', 0.64958572),\n",
       " ('2131', 0.64958215),\n",
       " ('2970', 0.64910978),\n",
       " ('2056', 0.64903027),\n",
       " ('1558', 0.64896137),\n",
       " ('1026', 0.64864558),\n",
       " ('228', 0.64829546),\n",
       " ('3862', 0.64769483),\n",
       " ('1549', 0.64756095),\n",
       " ('1114', 0.64721012),\n",
       " ('31', 0.64679587),\n",
       " ('2449', 0.6464144),\n",
       " ('3818', 0.64563715),\n",
       " ('3437', 0.64557976),\n",
       " ('656', 0.64541757),\n",
       " ('614', 0.64516944),\n",
       " ('1668', 0.64514667),\n",
       " ('3657', 0.64512736),\n",
       " ('3143', 0.64457101),\n",
       " ('3625', 0.64420325),\n",
       " ('452', 0.64415944),\n",
       " ('2068', 0.64382124),\n",
       " ('2756', 0.64371896),\n",
       " ('1520', 0.64311302),\n",
       " ('2053', 0.64305866),\n",
       " ('2466', 0.6426872),\n",
       " ('384', 0.64267594),\n",
       " ('1328', 0.64253426),\n",
       " ('2627', 0.64249754),\n",
       " ('1351', 0.64224863),\n",
       " ('1134', 0.64218289),\n",
       " ('557', 0.642012),\n",
       " ('1273', 0.64198524),\n",
       " ('2386', 0.64197028),\n",
       " ('2545', 0.64166158),\n",
       " ('3161', 0.64116734),\n",
       " ('958', 0.64029443),\n",
       " ('2658', 0.64016497),\n",
       " ('2057', 0.64012301),\n",
       " ('3626', 0.63996941),\n",
       " ('1998', 0.63990343),\n",
       " ('422', 0.63958138),\n",
       " ('705', 0.63951904),\n",
       " ('1119', 0.63941866),\n",
       " ('3047', 0.63933474),\n",
       " ('2246', 0.63879102),\n",
       " ('287', 0.63875896),\n",
       " ('3588', 0.63861859),\n",
       " ('3497', 0.63858259),\n",
       " ('868', 0.63838679),\n",
       " ('907', 0.63830096),\n",
       " ('2862', 0.63812864),\n",
       " ('1444', 0.63809931),\n",
       " ('2850', 0.63809872),\n",
       " ('3003', 0.63807207),\n",
       " ('2317', 0.63799042),\n",
       " ('2849', 0.63796288),\n",
       " ('3533', 0.63791698),\n",
       " ('2452', 0.63790655),\n",
       " ('3666', 0.6378777),\n",
       " ('1826', 0.63775581),\n",
       " ('103', 0.6376968),\n",
       " ('2342', 0.63753116),\n",
       " ('972', 0.63739455),\n",
       " ('479', 0.63730395),\n",
       " ('1082', 0.63683897),\n",
       " ('1871', 0.63674927),\n",
       " ('2962', 0.63674337),\n",
       " ('3667', 0.63657004),\n",
       " ('220', 0.63654971),\n",
       " ('564', 0.63638532),\n",
       " ('2368', 0.63609725),\n",
       " ('3272', 0.63601559),\n",
       " ('3092', 0.63583404),\n",
       " ('3187', 0.63580287),\n",
       " ('731', 0.63541222),\n",
       " ('1305', 0.6354109),\n",
       " ('2847', 0.63522291),\n",
       " ('1574', 0.63481015),\n",
       " ('528', 0.6347692),\n",
       " ('1567', 0.6347149),\n",
       " ('2055', 0.63465965),\n",
       " ('59', 0.63454193),\n",
       " ('244', 0.63439238),\n",
       " ('1332', 0.63438857),\n",
       " ('2307', 0.63433498),\n",
       " ('1856', 0.63428897),\n",
       " ('1121', 0.63426375),\n",
       " ('3790', 0.6341542),\n",
       " ('3014', 0.63408953),\n",
       " ('1135', 0.63383043),\n",
       " ('2538', 0.6338104),\n",
       " ('2358', 0.63364249),\n",
       " ('2104', 0.63344717),\n",
       " ('2809', 0.6331135),\n",
       " ('1184', 0.63268638),\n",
       " ('385', 0.6325888),\n",
       " ('488', 0.63245684),\n",
       " ('369', 0.6323601),\n",
       " ('1508', 0.632204),\n",
       " ('1551', 0.63199961),\n",
       " ('1791', 0.63197625),\n",
       " ('2839', 0.63190895),\n",
       " ('2737', 0.63186055),\n",
       " ('823', 0.63184255),\n",
       " ('3832', 0.63174534),\n",
       " ('3075', 0.63161922),\n",
       " ('1406', 0.63152558),\n",
       " ('1807', 0.63147545),\n",
       " ('2873', 0.63146365),\n",
       " ('2198', 0.63141721),\n",
       " ('2928', 0.63120693),\n",
       " ('1861', 0.63097405),\n",
       " ('824', 0.6305728),\n",
       " ('281', 0.6305297),\n",
       " ('970', 0.63049644),\n",
       " ('3103', 0.63039494),\n",
       " ('2441', 0.6301676),\n",
       " ('1889', 0.63000602),\n",
       " ('2031', 0.62989801),\n",
       " ('3642', 0.62982243),\n",
       " ('1539', 0.62971753),\n",
       " ('2868', 0.62965864),\n",
       " ('280', 0.62960368),\n",
       " ('2481', 0.62956685),\n",
       " ('2077', 0.62944597),\n",
       " ('148', 0.62922138),\n",
       " ('2295', 0.62919062),\n",
       " ('2051', 0.62908447),\n",
       " ('3306', 0.62903947),\n",
       " ('1675', 0.62903309),\n",
       " ('184', 0.62890589),\n",
       " ('1854', 0.62885809),\n",
       " ('1051', 0.62885189),\n",
       " ('3137', 0.62883621),\n",
       " ('1056', 0.62865126),\n",
       " ('437', 0.62843508),\n",
       " ('1534', 0.62838739),\n",
       " ('3344', 0.62827265),\n",
       " ('3674', 0.6282717),\n",
       " ('3000', 0.6282168),\n",
       " ('1511', 0.62801254),\n",
       " ('1696', 0.62781513),\n",
       " ('2435', 0.62771153),\n",
       " ('2851', 0.62765479),\n",
       " ('1843', 0.62755382),\n",
       " ('2955', 0.62751383),\n",
       " ('2952', 0.62738651),\n",
       " ('278', 0.6273644),\n",
       " ('1746', 0.6273309),\n",
       " ('2650', 0.62729424),\n",
       " ('55', 0.62711775),\n",
       " ('263', 0.62702316),\n",
       " ('2151', 0.62686193),\n",
       " ('3562', 0.6268208),\n",
       " ('2982', 0.62673479),\n",
       " ('1878', 0.62671518),\n",
       " ('1458', 0.62667716),\n",
       " ('1326', 0.62661976),\n",
       " ('3434', 0.62659508),\n",
       " ('433', 0.62644869),\n",
       " ('1988', 0.62621075),\n",
       " ('3810', 0.62612492),\n",
       " ('1943', 0.62612057),\n",
       " ('1341', 0.62609553),\n",
       " ('3797', 0.62607503),\n",
       " ('3443', 0.62602353),\n",
       " ('3570', 0.62600607),\n",
       " ('1564', 0.62582415),\n",
       " ('3799', 0.62563515),\n",
       " ('544', 0.62556928),\n",
       " ('2240', 0.62547618),\n",
       " ('2024', 0.62538785),\n",
       " ('1896', 0.62538552),\n",
       " ('2799', 0.62528253),\n",
       " ('3374', 0.62527257),\n",
       " ('3228', 0.62526435),\n",
       " ('3211', 0.62510222),\n",
       " ('854', 0.62478858),\n",
       " ('3002', 0.62478244),\n",
       " ('3781', 0.62476707),\n",
       " ('3749', 0.62465698),\n",
       " ('997', 0.62464064),\n",
       " ('533', 0.62455183),\n",
       " ('2631', 0.62448245),\n",
       " ('2705', 0.62440735),\n",
       " ('3771', 0.62416428),\n",
       " ('1187', 0.6241129),\n",
       " ('2022', 0.62407231),\n",
       " ('3333', 0.62402338),\n",
       " ('3691', 0.62392372),\n",
       " ('735', 0.62365091),\n",
       " ('627', 0.62356007),\n",
       " ('2682', 0.62355423),\n",
       " ('2509', 0.62347901),\n",
       " ('282', 0.62333024),\n",
       " ('3547', 0.62329876),\n",
       " ('585', 0.62328196),\n",
       " ('373', 0.62327063),\n",
       " ('1096', 0.62325269),\n",
       " ('2691', 0.62316096),\n",
       " ('415', 0.62313509),\n",
       " ('2932', 0.62312853),\n",
       " ('254', 0.62291336),\n",
       " ('3794', 0.62278092),\n",
       " ('1679', 0.62272829),\n",
       " ('2800', 0.6226083),\n",
       " ('3734', 0.62228781),\n",
       " ('803', 0.62198246),\n",
       " ('418', 0.6218791),\n",
       " ('444', 0.62174827),\n",
       " ('725', 0.62159759),\n",
       " ('680', 0.62157673),\n",
       " ('2309', 0.62149191),\n",
       " ('1570', 0.62132341),\n",
       " ('3783', 0.6211611),\n",
       " ('1493', 0.62114561),\n",
       " ('2033', 0.62100601),\n",
       " ('1855', 0.62069499),\n",
       " ('2610', 0.62061632),\n",
       " ('1023', 0.62033266),\n",
       " ('26', 0.62033069),\n",
       " ('3776', 0.62020713),\n",
       " ('3937', 0.62006295),\n",
       " ('390', 0.61982608),\n",
       " ('61', 0.61971176),\n",
       " ('294', 0.61959136),\n",
       " ('2204', 0.61944127),\n",
       " ('458', 0.61935693),\n",
       " ('1660', 0.61931944),\n",
       " ('1063', 0.6192956),\n",
       " ('3577', 0.61926955),\n",
       " ('354', 0.61923778),\n",
       " ('3557', 0.61912477),\n",
       " ('1349', 0.61911106),\n",
       " ('3026', 0.6190837),\n",
       " ('463', 0.61907154),\n",
       " ('1839', 0.61892772),\n",
       " ('2260', 0.61883402),\n",
       " ('892', 0.61866093),\n",
       " ('2768', 0.61862081),\n",
       " ('2944', 0.61856395),\n",
       " ('2818', 0.61825627),\n",
       " ('2257', 0.61805284),\n",
       " ('2727', 0.61792344),\n",
       " ('1190', 0.61789298),\n",
       " ('2992', 0.61787093),\n",
       " ('1515', 0.61785865),\n",
       " ('1893', 0.61768395),\n",
       " ('139', 0.61751145),\n",
       " ('2878', 0.61746395),\n",
       " ('767', 0.61735886),\n",
       " ('2979', 0.61730814),\n",
       " ('365', 0.61729562),\n",
       " ('3901', 0.61729372),\n",
       " ('1752', 0.61718243),\n",
       " ('2281', 0.61716288),\n",
       " ('347', 0.61709845),\n",
       " ('3816', 0.61700392),\n",
       " ('2884', 0.61687976),\n",
       " ('443', 0.61682993),\n",
       " ('1825', 0.61639333),\n",
       " ('1844', 0.61631733),\n",
       " ('3673', 0.61628371),\n",
       " ('2073', 0.61621249),\n",
       " ('1612', 0.61605906),\n",
       " ('2834', 0.61596453),\n",
       " ('3109', 0.61587691),\n",
       " ('553', 0.61576581),\n",
       " ('2693', 0.61572987),\n",
       " ('3320', 0.61572933),\n",
       " ('665', 0.61572611),\n",
       " ('274', 0.6155991),\n",
       " ('101', 0.61534667),\n",
       " ('2586', 0.61519712),\n",
       " ('1724', 0.61494809),\n",
       " ('1346', 0.61492509),\n",
       " ('2681', 0.61481625),\n",
       " ('3672', 0.61472827),\n",
       " ('2697', 0.61472201),\n",
       " ('483', 0.61457098),\n",
       " ('786', 0.61454356),\n",
       " ('1664', 0.61448133),\n",
       " ('3378', 0.61430699),\n",
       " ('2292', 0.61426967),\n",
       " ('1232', 0.61422497),\n",
       " ('1585', 0.61419177),\n",
       " ('2238', 0.61404604),\n",
       " ('1906', 0.61332786),\n",
       " ('2032', 0.61318916),\n",
       " ('1899', 0.6131658),\n",
       " ('3029', 0.61310369),\n",
       " ('2385', 0.61306959),\n",
       " ('1922', 0.61306393),\n",
       " ('408', 0.6129604),\n",
       " ('1770', 0.61290574),\n",
       " ('1055', 0.61290419),\n",
       " ('1427', 0.61279768),\n",
       " ('1879', 0.61275762),\n",
       " ('2069', 0.61266601),\n",
       " ('961', 0.61264366),\n",
       " ('3008', 0.61262488),\n",
       " ('851', 0.61260921),\n",
       " ('2180', 0.61260027),\n",
       " ('1853', 0.6125263),\n",
       " ('781', 0.6125198),\n",
       " ('583', 0.61238736),\n",
       " ('3367', 0.61237413),\n",
       " ('1123', 0.61235559),\n",
       " ('3171', 0.61226135),\n",
       " ('3442', 0.612243),\n",
       " ('2192', 0.6122089),\n",
       " ('3641', 0.61213684),\n",
       " ('3843', 0.61201382),\n",
       " ('1399', 0.61200923),\n",
       " ('4', 0.61188877),\n",
       " ('3050', 0.61173844),\n",
       " ('1925', 0.61163235),\n",
       " ('3833', 0.61154509),\n",
       " ('2897', 0.61151314),\n",
       " ('1804', 0.61143076),\n",
       " ('2963', 0.61136711),\n",
       " ('3293', 0.61134326),\n",
       " ('1170', 0.61130804),\n",
       " ('867', 0.61128199),\n",
       " ('2065', 0.611233),\n",
       " ('3924', 0.61122864),\n",
       " ('1692', 0.61120993),\n",
       " ('556', 0.61118424),\n",
       " ('3805', 0.61096042),\n",
       " ('2786', 0.61095804),\n",
       " ('1811', 0.61092293),\n",
       " ('1902', 0.61090559),\n",
       " ('3385', 0.6105538),\n",
       " ('414', 0.61053252),\n",
       " ('513', 0.61048079),\n",
       " ('2561', 0.61040515),\n",
       " ('1572', 0.61030036),\n",
       " ('338', 0.61022735),\n",
       " ('1782', 0.61015731),\n",
       " ('2165', 0.610102),\n",
       " ('1881', 0.61007416),\n",
       " ('100', 0.60998708),\n",
       " ('482', 0.60979438),\n",
       " ('315', 0.6097824),\n",
       " ('2066', 0.60974151),\n",
       " ('1571', 0.60968494),\n",
       " ('2211', 0.60964084),\n",
       " ('3021', 0.60963875),\n",
       " ('619', 0.60938632),\n",
       " ('3886', 0.60937643),\n",
       " ('2035', 0.60921472),\n",
       " ('2898', 0.60916406),\n",
       " ('456', 0.60902911),\n",
       " ('1419', 0.60887015),\n",
       " ('1004', 0.60856551),\n",
       " ('2844', 0.60836983),\n",
       " ('331', 0.60835052),\n",
       " ('984', 0.6082477),\n",
       " ('3399', 0.60822529),\n",
       " ('355', 0.60822308),\n",
       " ('3372', 0.60810435),\n",
       " ('1940', 0.6080482),\n",
       " ('2754', 0.60802186),\n",
       " ('2852', 0.60801631),\n",
       " ('1336', 0.60801589),\n",
       " ('268', 0.60798866),\n",
       " ('2585', 0.60797864),\n",
       " ('1631', 0.60778165),\n",
       " ('2347', 0.60772908),\n",
       " ('245', 0.60769355),\n",
       " ('45', 0.60754424),\n",
       " ('2775', 0.60752791),\n",
       " ('3947', 0.60741138),\n",
       " ('3682', 0.60739404),\n",
       " ('1131', 0.60733104),\n",
       " ('3024', 0.60733056),\n",
       " ('132', 0.6072194),\n",
       " ('1415', 0.60715854),\n",
       " ('3900', 0.60714072),\n",
       " ('375', 0.6069718),\n",
       " ('3665', 0.6069122),\n",
       " ('389', 0.60685223),\n",
       " ('959', 0.6066972),\n",
       " ('1112', 0.60661727),\n",
       " ('93', 0.60654825),\n",
       " ('3275', 0.60649288),\n",
       " ('630', 0.60644537),\n",
       " ('2044', 0.60637462),\n",
       " ('49', 0.60624015),\n",
       " ('3768', 0.6061976),\n",
       " ('575', 0.60619694),\n",
       " ('1550', 0.60600364),\n",
       " ('2425', 0.60585999),\n",
       " ('806', 0.60580134),\n",
       " ('2075', 0.60569346),\n",
       " ('567', 0.60569072),\n",
       " ('1323', 0.60568088),\n",
       " ('2523', 0.60565788),\n",
       " ('3030', 0.60563338),\n",
       " ('2037', 0.60562617),\n",
       " ('1044', 0.60560656),\n",
       " ('1414', 0.60558087),\n",
       " ('2139', 0.60549086),\n",
       " ('2885', 0.60548574),\n",
       " ('503', 0.60545218),\n",
       " ('243', 0.60536253),\n",
       " ('3940', 0.60532832),\n",
       " ('2715', 0.60526258),\n",
       " ('121', 0.60524166),\n",
       " ('893', 0.60521305),\n",
       " ('2887', 0.60503775),\n",
       " ('3931', 0.60498506),\n",
       " ('2101', 0.60490698),\n",
       " ('2440', 0.60486746),\n",
       " ('2202', 0.60481381),\n",
       " ('1164', 0.60473293),\n",
       " ('1126', 0.60459483),\n",
       " ('2079', 0.60457397),\n",
       " ('3031', 0.60455889),\n",
       " ('2491', 0.60454261),\n",
       " ('599', 0.60452646),\n",
       " ('1006', 0.60452181),\n",
       " ('3401', 0.60442668),\n",
       " ('1516', 0.60434568),\n",
       " ('3775', 0.60433495),\n",
       " ('1495', 0.604222),\n",
       " ('1726', 0.604195),\n",
       " ('1798', 0.60417712),\n",
       " ('2835', 0.60415894),\n",
       " ('392', 0.60414046),\n",
       " ('659', 0.60413903),\n",
       " ('460', 0.60411948),\n",
       " ('2535', 0.60407335),\n",
       " ('760', 0.603863),\n",
       " ('2016', 0.60382712),\n",
       " ('1477', 0.60378045),\n",
       " ('3943', 0.60376352),\n",
       " ('453', 0.60372317),\n",
       " ('1869', 0.603688),\n",
       " ('3592', 0.60367566),\n",
       " ('2418', 0.60335129),\n",
       " ('3218', 0.60329086),\n",
       " ('3620', 0.60327858),\n",
       " ('3732', 0.60326231),\n",
       " ('1989', 0.60322183),\n",
       " ('3770', 0.60315752),\n",
       " ('1759', 0.60304558),\n",
       " ('3342', 0.60298544),\n",
       " ('3611', 0.60293055),\n",
       " ('1966', 0.602916),\n",
       " ('2276', 0.60286301),\n",
       " ('3318', 0.60284573),\n",
       " ('3402', 0.60283607),\n",
       " ('3680', 0.60282886),\n",
       " ('1651', 0.60280883),\n",
       " ('3808', 0.60278642),\n",
       " ('2285', 0.60275096),\n",
       " ('241', 0.60274023),\n",
       " ('1144', 0.60273278),\n",
       " ('1295', 0.6026805),\n",
       " ('2084', 0.60264778),\n",
       " ('2956', 0.60256457),\n",
       " ('2350', 0.60237849),\n",
       " ('3632', 0.60230249),\n",
       " ('3838', 0.60228074),\n",
       " ('427', 0.60222048),\n",
       " ('149', 0.60213548),\n",
       " ('2487', 0.60208976),\n",
       " ('522', 0.6020509),\n",
       " ('113', 0.60204488),\n",
       " ('2685', 0.60201818),\n",
       " ('2205', 0.60199523),\n",
       " ('407', 0.60174477),\n",
       " ('1464', 0.60173821),\n",
       " ('1613', 0.60169595),\n",
       " ('1218', 0.6015566),\n",
       " ('2866', 0.60154599),\n",
       " ('1846', 0.60151589),\n",
       " ('473', 0.6014874),\n",
       " ('1209', 0.60140085),\n",
       " ('547', 0.60119933),\n",
       " ('78', 0.60101378),\n",
       " ('2149', 0.6010021),\n",
       " ('2159', 0.6009779),\n",
       " ('1928', 0.60094309),\n",
       " ('44', 0.60093307),\n",
       " ('183', 0.60093069),\n",
       " ('1472', 0.6008417),\n",
       " ('2472', 0.60081249),\n",
       " ('191', 0.60081005),\n",
       " ('3158', 0.60079819),\n",
       " ('3529', 0.60078782),\n",
       " ('3926', 0.60074782),\n",
       " ('1681', 0.60062647),\n",
       " ('3139', 0.60060668),\n",
       " ('2129', 0.60053307),\n",
       " ('3017', 0.60053104),\n",
       " ('2348', 0.60052848),\n",
       " ('3135', 0.60048932),\n",
       " ('1099', 0.60048854),\n",
       " ('3132', 0.60047752),\n",
       " ('3679', 0.60042995),\n",
       " ('1642', 0.60037619),\n",
       " ('909', 0.60031956),\n",
       " ('1289', 0.60029989),\n",
       " ('2988', 0.60026795),\n",
       " ('3605', 0.60018051),\n",
       " ('870', 0.60016948),\n",
       " ('2095', 0.60015345),\n",
       " ('662', 0.60014385),\n",
       " ('255', 0.60012609),\n",
       " ('882', 0.60005623),\n",
       " ('2060', 0.60000026),\n",
       " ('3480', 0.59993225),\n",
       " ('459', 0.59988827),\n",
       " ('2312', 0.59970582),\n",
       " ('327', 0.59956563),\n",
       " ('3761', 0.59956336),\n",
       " ('102', 0.59952015),\n",
       " ('888', 0.59949684),\n",
       " ('174', 0.599356),\n",
       " ('1647', 0.59927684),\n",
       " ('3294', 0.59924191),\n",
       " ('3192', 0.5991962),\n",
       " ('3391', 0.5991652),\n",
       " ('1025', 0.59913522),\n",
       " ('2201', 0.59901148),\n",
       " ('3581', 0.59894639),\n",
       " ('1990', 0.59873962),\n",
       " ('2148', 0.59865999),\n",
       " ('540', 0.59863216),\n",
       " ('3760', 0.59857589),\n",
       " ('1695', 0.59852415),\n",
       " ('3343', 0.59848529),\n",
       " ('1904', 0.59847623),\n",
       " ('3686', 0.59846133),\n",
       " ('617', 0.59840596),\n",
       " ('2141', 0.59833527),\n",
       " ('2099', 0.59833097),\n",
       " ('1425', 0.59829336),\n",
       " ('2924', 0.59828848),\n",
       " ('3154', 0.59826034),\n",
       " ('2741', 0.59820771),\n",
       " ('3389', 0.59812558),\n",
       " ('210', 0.59806675),\n",
       " ('351', 0.59805447),\n",
       " ('1053', 0.59803766),\n",
       " ('2265', 0.59803116),\n",
       " ('3896', 0.59802902),\n",
       " ('1410', 0.59800804),\n",
       " ('3655', 0.59794527),\n",
       " ('609', 0.59794378),\n",
       " ('2843', 0.59793574),\n",
       " ('3689', 0.5979256),\n",
       " ('125', 0.59785372),\n",
       " ('3769', 0.59779787),\n",
       " ('829', 0.59765953),\n",
       " ('681', 0.59760195),\n",
       " ('3932', 0.59759212),\n",
       " ('2361', 0.5975191),\n",
       " ('974', 0.59746701),\n",
       " ('1161', 0.59745532),\n",
       " ('2577', 0.59740746),\n",
       " ('3181', 0.59740514),\n",
       " ('1417', 0.59727371),\n",
       " ('603', 0.59702694),\n",
       " ('3015', 0.59697098),\n",
       " ('308', 0.59689629),\n",
       " ('2511', 0.59679991),\n",
       " ('3764', 0.59675932),\n",
       " ('2034', 0.59675652),\n",
       " ('2725', 0.59672904),\n",
       " ('3854', 0.59667563),\n",
       " ('935', 0.59667367),\n",
       " ('2611', 0.59660023),\n",
       " ('3909', 0.59656405),\n",
       " ('3885', 0.5965569),\n",
       " ('2711', 0.59636921),\n",
       " ('3645', 0.59624791),\n",
       " ('1978', 0.59623551),\n",
       " ('2045', 0.59607494),\n",
       " ('3661', 0.59605211),\n",
       " ('1979', 0.59600568),\n",
       " ('3262', 0.59549183),\n",
       " ('563', 0.59544033),\n",
       " ('1111', 0.59537739),\n",
       " ('537', 0.59534949),\n",
       " ('1389', 0.59525216),\n",
       " ('2415', 0.59524119),\n",
       " ('2589', 0.59519714),\n",
       " ('346', 0.59517962),\n",
       " ('1575', 0.59514391),\n",
       " ('391', 0.59496105),\n",
       " ('3877', 0.59494108),\n",
       " ('3884', 0.59489942),\n",
       " ('1236', 0.5948959),\n",
       " ('3942', 0.59480453),\n",
       " ('2373', 0.59480065),\n",
       " ('3784', 0.5947842),\n",
       " ('2374', 0.59476554),\n",
       " ('1034', 0.59473097),\n",
       " ('1086', 0.59467804),\n",
       " ('209', 0.59462285),\n",
       " ('1980', 0.59460711),\n",
       " ('782', 0.59452611),\n",
       " ('2960', 0.59451234),\n",
       " ('1138', 0.59440082),\n",
       " ('3559', 0.59435296),\n",
       " ('3486', 0.59429461),\n",
       " ('3319', 0.59427828),\n",
       " ('2419', 0.59427345),\n",
       " ('1531', 0.59426159),\n",
       " ('1329', 0.59421176),\n",
       " ('2661', 0.59405208),\n",
       " ('3572', 0.59397262),\n",
       " ('3795', 0.59394717),\n",
       " ('715', 0.59393126),\n",
       " ('536', 0.59386683),\n",
       " ('3742', 0.59376609),\n",
       " ('1395', 0.59374452),\n",
       " ('3949', 0.59372652),\n",
       " ('709', 0.59368455),\n",
       " ('3518', 0.59351075),\n",
       " ('1822', 0.59347951),\n",
       " ('798', 0.5934478),\n",
       " ('3027', 0.59337538),\n",
       " ('3487', 0.59335345),\n",
       " ('3806', 0.59329438),\n",
       " ('2203', 0.59326494),\n",
       " ('3403', 0.59323829),\n",
       " ('2305', 0.59322017),\n",
       " ('3736', 0.59318066),\n",
       " ('2789', 0.59311748),\n",
       " ('2286', 0.59310055),\n",
       " ('2614', 0.59308076),\n",
       " ('3804', 0.59305859),\n",
       " ('517', 0.59305364),\n",
       " ('519', 0.59304452),\n",
       " ('808', 0.59297156),\n",
       " ('3116', 0.59288293),\n",
       " ('1865', 0.5928598),\n",
       " ('2059', 0.59285289),\n",
       " ('3013', 0.59277624),\n",
       " ('3902', 0.59272861),\n",
       " ('2417', 0.59268451),\n",
       " ('499', 0.59266043),\n",
       " ('2824', 0.59265721),\n",
       " ('2156', 0.59260249),\n",
       " ('929', 0.59258854),\n",
       " ('2387', 0.59250253),\n",
       " ('2275', 0.59250075),\n",
       " ('3610', 0.59247243),\n",
       " ('18', 0.59243768),\n",
       " ('1874', 0.59240675),\n",
       " ('3737', 0.59234816),\n",
       " ('1829', 0.59234416),\n",
       " ('2296', 0.5923416),\n",
       " ('3830', 0.59228748),\n",
       " ('1070', 0.59225321),\n",
       " ('301', 0.59221643),\n",
       " ('326', 0.59214151),\n",
       " ('3048', 0.59204084),\n",
       " ('2573', 0.59199274),\n",
       " ('1857', 0.59190869),\n",
       " ('2620', 0.59190744),\n",
       " ('2911', 0.59187627),\n",
       " ('2787', 0.59176117),\n",
       " ('906', 0.59155083),\n",
       " ('2488', 0.59148026),\n",
       " ('2341', 0.59140986),\n",
       " ('106', 0.59140438),\n",
       " ('5', 0.59132773),\n",
       " ('1173', 0.59125137),\n",
       " ('1383', 0.59118509),\n",
       " ('1050', 0.59118021),\n",
       " ('1502', 0.59111899),\n",
       " ('962', 0.59098166),\n",
       " ('2552', 0.59095955),\n",
       " ('931', 0.59094405),\n",
       " ('2058', 0.59083247),\n",
       " ('1581', 0.59081048),\n",
       " ('1388', 0.59071112),\n",
       " ('445', 0.59050852),\n",
       " ('3913', 0.5905059),\n",
       " ('2566', 0.5904752),\n",
       " ('376', 0.59046829),\n",
       " ('3925', 0.59041339),\n",
       " ('638', 0.59040856),\n",
       " ('3757', 0.59038627),\n",
       " ('2876', 0.59034079),\n",
       " ('2410', 0.5903185),\n",
       " ('2479', 0.59017348),\n",
       " ('2877', 0.59016168),\n",
       " ('900', 0.5901584),\n",
       " ('1596', 0.59014076),\n",
       " ('3677', 0.59003645),\n",
       " ('948', 0.58998907),\n",
       " ('3788', 0.58991152),\n",
       " ('1064', 0.5898934),\n",
       " ('305', 0.58986044),\n",
       " ('1224', 0.58978653),\n",
       " ('3034', 0.58972692),\n",
       " ('97', 0.5896861),\n",
       " ('470', 0.58965915),\n",
       " ('340', 0.58962494),\n",
       " ('1753', 0.5895943),\n",
       " ...]"
      ]
     },
     "execution_count": 54,
     "metadata": {},
     "output_type": "execute_result"
    }
   ],
   "source": [
    "cand_simi_list"
   ]
  },
  {
   "cell_type": "code",
   "execution_count": null,
   "metadata": {
    "collapsed": true
   },
   "outputs": [],
   "source": []
  },
  {
   "cell_type": "code",
   "execution_count": null,
   "metadata": {
    "collapsed": true
   },
   "outputs": [],
   "source": []
  },
  {
   "cell_type": "code",
   "execution_count": null,
   "metadata": {
    "collapsed": true
   },
   "outputs": [],
   "source": []
  },
  {
   "cell_type": "code",
   "execution_count": null,
   "metadata": {
    "collapsed": true
   },
   "outputs": [],
   "source": []
  },
  {
   "cell_type": "code",
   "execution_count": 35,
   "metadata": {
    "collapsed": false,
    "scrolled": false
   },
   "outputs": [
    {
     "data": {
      "text/plain": [
       "True"
      ]
     },
     "execution_count": 35,
     "metadata": {},
     "output_type": "execute_result"
    }
   ],
   "source": [
    "rs.item_info == item_info"
   ]
  },
  {
   "cell_type": "code",
   "execution_count": 36,
   "metadata": {
    "collapsed": false
   },
   "outputs": [
    {
     "data": {
      "text/plain": [
       "True"
      ]
     },
     "execution_count": 36,
     "metadata": {},
     "output_type": "execute_result"
    }
   ],
   "source": [
    "rs.user_item_interaction == user_item_interaction"
   ]
  },
  {
   "cell_type": "code",
   "execution_count": 40,
   "metadata": {
    "collapsed": false
   },
   "outputs": [
    {
     "data": {
      "text/plain": [
       "True"
      ]
     },
     "execution_count": 40,
     "metadata": {},
     "output_type": "execute_result"
    }
   ],
   "source": [
    "rs.user_repr.keys() == user_repr.keys()"
   ]
  },
  {
   "cell_type": "code",
   "execution_count": 41,
   "metadata": {
    "collapsed": false
   },
   "outputs": [
    {
     "ename": "ValueError",
     "evalue": "The truth value of an array with more than one element is ambiguous. Use a.any() or a.all()",
     "output_type": "error",
     "traceback": [
      "\u001b[0;31m---------------------------------------------------------------------------\u001b[0m",
      "\u001b[0;31mValueError\u001b[0m                                Traceback (most recent call last)",
      "\u001b[0;32m<ipython-input-41-d14025b396fa>\u001b[0m in \u001b[0;36m<module>\u001b[0;34m()\u001b[0m\n\u001b[0;32m----> 1\u001b[0;31m \u001b[0mrs\u001b[0m\u001b[0;34m.\u001b[0m\u001b[0muser_repr\u001b[0m\u001b[0;34m.\u001b[0m\u001b[0mvalues\u001b[0m\u001b[0;34m(\u001b[0m\u001b[0;34m)\u001b[0m \u001b[0;34m==\u001b[0m \u001b[0muser_repr\u001b[0m\u001b[0;34m.\u001b[0m\u001b[0mvalues\u001b[0m\u001b[0;34m(\u001b[0m\u001b[0;34m)\u001b[0m\u001b[0;34m\u001b[0m\u001b[0m\n\u001b[0m",
      "\u001b[0;31mValueError\u001b[0m: The truth value of an array with more than one element is ambiguous. Use a.any() or a.all()"
     ]
    }
   ],
   "source": [
    "rs.user_repr.values() == user_repr.values()"
   ]
  },
  {
   "cell_type": "code",
   "execution_count": 48,
   "metadata": {
    "collapsed": false
   },
   "outputs": [
    {
     "name": "stdout",
     "output_type": "stream",
     "text": [
      "[-0.02998144 -0.00725607  0.0540598   0.04305745  0.00356386 -0.09771697\n",
      "  0.01962578 -0.05186418  0.10864354  0.01012072  0.09448522  0.01894226\n",
      " -0.01534213 -0.02943856  0.05182371 -0.07218101 -0.04372488 -0.03683557\n",
      "  0.01982726  0.00111637 -0.02494859  0.06807517 -0.01570932  0.01937005\n",
      "  0.01860823 -0.06247325  0.05167216 -0.09294701  0.0587185   0.03370877\n",
      " -0.02212591 -0.03227014 -0.03925757 -0.06762307  0.0434934  -0.00750151\n",
      "  0.04712634  0.08051383 -0.03738636  0.07138214  0.00261551 -0.03158722\n",
      " -0.01819723  0.05965479  0.06039528  0.02843246 -0.01186906 -0.08832191\n",
      " -0.01572738 -0.04541136  0.01458372  0.03037676  0.06580335  0.0065573\n",
      "  0.06968792 -0.03493665  0.09015711 -0.04899194 -0.06306034  0.04478908\n",
      "  0.04816107  0.00214435  0.01574012 -0.10736565  0.04368715  0.02015235\n",
      " -0.04464936 -0.08446606 -0.0740968  -0.02223224  0.02084603 -0.00617117\n",
      " -0.01916723 -0.07439318  0.0144606  -0.02678853  0.0185461   0.00688943\n",
      "  0.05380209  0.05691454 -0.10001567  0.03852278 -0.00131405 -0.08743956\n",
      " -0.07176077 -0.01055859 -0.07650903  0.0335375   0.03627299  0.03030777\n",
      " -0.05928638  0.14668947 -0.0116139  -0.02431031 -0.00892063  0.01630847\n",
      "  0.05648922 -0.01886144  0.0493325  -0.05276548]\n",
      "[-0.02998144 -0.00725607  0.0540598   0.04305745  0.00356386 -0.09771697\n",
      "  0.01962578 -0.05186418  0.10864354  0.01012072  0.09448522  0.01894226\n",
      " -0.01534213 -0.02943856  0.05182371 -0.07218101 -0.04372488 -0.03683557\n",
      "  0.01982726  0.00111637 -0.02494859  0.06807517 -0.01570932  0.01937005\n",
      "  0.01860823 -0.06247325  0.05167216 -0.09294701  0.0587185   0.03370877\n",
      " -0.02212591 -0.03227014 -0.03925757 -0.06762307  0.0434934  -0.00750151\n",
      "  0.04712634  0.08051383 -0.03738636  0.07138214  0.00261551 -0.03158722\n",
      " -0.01819723  0.05965479  0.06039528  0.02843246 -0.01186906 -0.08832191\n",
      " -0.01572738 -0.04541136  0.01458372  0.03037676  0.06580335  0.0065573\n",
      "  0.06968792 -0.03493665  0.09015711 -0.04899194 -0.06306034  0.04478908\n",
      "  0.04816107  0.00214435  0.01574012 -0.10736565  0.04368715  0.02015235\n",
      " -0.04464936 -0.08446606 -0.0740968  -0.02223224  0.02084603 -0.00617117\n",
      " -0.01916723 -0.07439318  0.0144606  -0.02678853  0.0185461   0.00688943\n",
      "  0.05380209  0.05691454 -0.10001567  0.03852278 -0.00131405 -0.08743956\n",
      " -0.07176077 -0.01055859 -0.07650903  0.0335375   0.03627299  0.03030777\n",
      " -0.05928638  0.14668947 -0.0116139  -0.02431031 -0.00892063  0.01630847\n",
      "  0.05648922 -0.01886144  0.0493325  -0.05276548]\n"
     ]
    }
   ],
   "source": [
    "print rs.user_repr[target_user_id]\n",
    "print user_repr[target_user_id]"
   ]
  },
  {
   "cell_type": "code",
   "execution_count": 45,
   "metadata": {
    "collapsed": false
   },
   "outputs": [
    {
     "name": "stderr",
     "output_type": "stream",
     "text": [
      "2017-04-06 16:27:40,705 : WARNING : direct access to vocab will not be supported in future gensim releases, please use model.wv.vocab\n"
     ]
    },
    {
     "data": {
      "text/plain": [
       "['2031', '1869', '1868', '643', '344', '345', '346', '347', '340', '341']"
      ]
     },
     "execution_count": 45,
     "metadata": {},
     "output_type": "execute_result"
    }
   ],
   "source": [
    "rs.item_repr.vocab.keys()[:10]"
   ]
  },
  {
   "cell_type": "code",
   "execution_count": null,
   "metadata": {
    "collapsed": true
   },
   "outputs": [],
   "source": []
  },
  {
   "cell_type": "code",
   "execution_count": 46,
   "metadata": {
    "collapsed": false,
    "scrolled": true
   },
   "outputs": [
    {
     "data": {
      "text/plain": [
       "array([-0.04877592,  0.01849231,  0.10109659,  0.1397278 ,  0.12087935,\n",
       "       -0.04696242,  0.1468624 , -0.07833583,  0.02836458, -0.17617485,\n",
       "        0.12662537,  0.08742664, -0.04179047,  0.0499889 ,  0.03761353,\n",
       "       -0.13730173, -0.1029531 ,  0.05231122,  0.05665444, -0.02207289,\n",
       "        0.01274252,  0.24177912,  0.03602125,  0.0461578 ,  0.13127564,\n",
       "       -0.0843027 ,  0.03458912, -0.1926301 ,  0.08642396,  0.13020296,\n",
       "       -0.12585181, -0.01364238,  0.08896869, -0.06179394,  0.02958413,\n",
       "       -0.1513056 , -0.02232856,  0.08107794, -0.11408406,  0.13833445,\n",
       "        0.02560141, -0.02423916, -0.11250423, -0.00788555,  0.18677661,\n",
       "       -0.11209998,  0.13096553, -0.18044022,  0.11421954, -0.00474986,\n",
       "       -0.00888   ,  0.07077996,  0.10984486,  0.02613745, -0.01384122,\n",
       "        0.03172965,  0.10286706, -0.09545483, -0.17666063,  0.07804651,\n",
       "        0.0917109 ,  0.04619632,  0.07485413, -0.09183019, -0.00828521,\n",
       "       -0.06225332, -0.12762855, -0.19186321, -0.00336274, -0.04255933,\n",
       "        0.05271956, -0.1480449 , -0.25853223,  0.02076481,  0.07776741,\n",
       "        0.01682495,  0.09309268,  0.00253752, -0.03471933,  0.09679353,\n",
       "       -0.21976306,  0.0253582 ,  0.01378434, -0.12301139, -0.21292575,\n",
       "       -0.09183084, -0.06038867, -0.01728481,  0.09132   , -0.12169049,\n",
       "       -0.14351653,  0.08093361, -0.03551872,  0.00535046,  0.00359667,\n",
       "        0.02646431,  0.03940769, -0.02098444,  0.09167922, -0.01396081], dtype=float32)"
      ]
     },
     "execution_count": 46,
     "metadata": {},
     "output_type": "execute_result"
    }
   ],
   "source": [
    "rs.item_repr['2031']"
   ]
  },
  {
   "cell_type": "code",
   "execution_count": 47,
   "metadata": {
    "collapsed": false
   },
   "outputs": [
    {
     "data": {
      "text/plain": [
       "array([-0.04877592,  0.01849231,  0.10109659,  0.1397278 ,  0.12087935,\n",
       "       -0.04696242,  0.1468624 , -0.07833583,  0.02836458, -0.17617485,\n",
       "        0.12662537,  0.08742664, -0.04179047,  0.0499889 ,  0.03761353,\n",
       "       -0.13730173, -0.1029531 ,  0.05231122,  0.05665444, -0.02207289,\n",
       "        0.01274252,  0.24177912,  0.03602125,  0.0461578 ,  0.13127564,\n",
       "       -0.0843027 ,  0.03458912, -0.1926301 ,  0.08642396,  0.13020296,\n",
       "       -0.12585181, -0.01364238,  0.08896869, -0.06179394,  0.02958413,\n",
       "       -0.1513056 , -0.02232856,  0.08107794, -0.11408406,  0.13833445,\n",
       "        0.02560141, -0.02423916, -0.11250423, -0.00788555,  0.18677661,\n",
       "       -0.11209998,  0.13096553, -0.18044022,  0.11421954, -0.00474986,\n",
       "       -0.00888   ,  0.07077996,  0.10984486,  0.02613745, -0.01384122,\n",
       "        0.03172965,  0.10286706, -0.09545483, -0.17666063,  0.07804651,\n",
       "        0.0917109 ,  0.04619632,  0.07485413, -0.09183019, -0.00828521,\n",
       "       -0.06225332, -0.12762855, -0.19186321, -0.00336274, -0.04255933,\n",
       "        0.05271956, -0.1480449 , -0.25853223,  0.02076481,  0.07776741,\n",
       "        0.01682495,  0.09309268,  0.00253752, -0.03471933,  0.09679353,\n",
       "       -0.21976306,  0.0253582 ,  0.01378434, -0.12301139, -0.21292575,\n",
       "       -0.09183084, -0.06038867, -0.01728481,  0.09132   , -0.12169049,\n",
       "       -0.14351653,  0.08093361, -0.03551872,  0.00535046,  0.00359667,\n",
       "        0.02646431,  0.03940769, -0.02098444,  0.09167922, -0.01396081], dtype=float32)"
      ]
     },
     "execution_count": 47,
     "metadata": {},
     "output_type": "execute_result"
    }
   ],
   "source": [
    "item_repr['2031']"
   ]
  },
  {
   "cell_type": "code",
   "execution_count": 38,
   "metadata": {
    "collapsed": false
   },
   "outputs": [
    {
     "data": {
      "text/plain": [
       "False"
      ]
     },
     "execution_count": 38,
     "metadata": {},
     "output_type": "execute_result"
    }
   ],
   "source": [
    "rs.item_repr == item_repr"
   ]
  },
  {
   "cell_type": "code",
   "execution_count": 39,
   "metadata": {
    "collapsed": false
   },
   "outputs": [
    {
     "data": {
      "text/plain": [
       "True"
      ]
     },
     "execution_count": 39,
     "metadata": {},
     "output_type": "execute_result"
    }
   ],
   "source": [
    "rs.all_items == all_items"
   ]
  },
  {
   "cell_type": "code",
   "execution_count": null,
   "metadata": {
    "collapsed": true
   },
   "outputs": [],
   "source": []
  },
  {
   "cell_type": "code",
   "execution_count": null,
   "metadata": {
    "collapsed": true
   },
   "outputs": [],
   "source": []
  },
  {
   "cell_type": "code",
   "execution_count": null,
   "metadata": {
    "collapsed": true
   },
   "outputs": [],
   "source": []
  },
  {
   "cell_type": "code",
   "execution_count": null,
   "metadata": {
    "collapsed": true
   },
   "outputs": [],
   "source": []
  },
  {
   "cell_type": "code",
   "execution_count": null,
   "metadata": {
    "collapsed": true
   },
   "outputs": [],
   "source": []
  },
  {
   "cell_type": "code",
   "execution_count": null,
   "metadata": {
    "collapsed": true
   },
   "outputs": [],
   "source": []
  },
  {
   "cell_type": "code",
   "execution_count": null,
   "metadata": {
    "collapsed": true
   },
   "outputs": [],
   "source": []
  },
  {
   "cell_type": "code",
   "execution_count": null,
   "metadata": {
    "collapsed": true
   },
   "outputs": [],
   "source": []
  },
  {
   "cell_type": "code",
   "execution_count": null,
   "metadata": {
    "collapsed": true
   },
   "outputs": [],
   "source": []
  },
  {
   "cell_type": "code",
   "execution_count": null,
   "metadata": {
    "collapsed": true
   },
   "outputs": [],
   "source": []
  },
  {
   "cell_type": "code",
   "execution_count": 33,
   "metadata": {
    "collapsed": false
   },
   "outputs": [
    {
     "name": "stderr",
     "output_type": "stream",
     "text": [
      "2017-04-06 16:23:56,003 : INFO : loading Word2Vec object from /home/wsyj/dissertation__recommendation_system__experiment_2/dissertation__recommendation_system__experiment/main_modelnum_features=100_min_count=1_window=1_iter=30.model\n",
      "2017-04-06 16:23:56,012 : INFO : loading wv recursively from /home/wsyj/dissertation__recommendation_system__experiment_2/dissertation__recommendation_system__experiment/main_modelnum_features=100_min_count=1_window=1_iter=30.model.wv.* with mmap=None\n",
      "2017-04-06 16:23:56,012 : INFO : setting ignored attribute syn0norm to None\n",
      "2017-04-06 16:23:56,013 : INFO : setting ignored attribute cum_table to None\n",
      "2017-04-06 16:23:56,013 : INFO : loaded /home/wsyj/dissertation__recommendation_system__experiment_2/dissertation__recommendation_system__experiment/main_modelnum_features=100_min_count=1_window=1_iter=30.model\n"
     ]
    },
    {
     "name": "stdout",
     "output_type": "stream",
     "text": [
      "sort_by_time: False\n",
      "total_user_item_comb: 4387464\n",
      "metric calculation: time consumption: 0\n",
      "metrics: {'recall': 6.8827000206481e-05, 'precision': 0.0004583333333333333, 'f1': 0.00011968164681946024}\n"
     ]
    }
   ],
   "source": [
    "\n",
    "import logging\n",
    "logging.basicConfig(format='%(asctime)s : %(levelname)s : %(message)s', level=logging.INFO)\n",
    "import gensim\n",
    "from gensim import corpora, models, similarities\n",
    "import os\n",
    "import utility_synopsis\n",
    "import math\n",
    "import numpy as np\n",
    "from numpy import linalg as la\n",
    "from scipy.spatial.distance import cosine\n",
    "import pandas as pd\n",
    "import matplotlib.pyplot as plt\n",
    "from utility_extract_data import extract_data_from_file_and_generate_train_and_test\n",
    "import datetime\n",
    "import cPickle\n",
    "\n",
    "def extract_item_info(filename, delimiter, genre_delimiter):\n",
    "    data = {}\n",
    "\n",
    "    with open(filename , 'r') as f:\n",
    "        for i, line in enumerate(f):\n",
    "            itemId, title, genre_list = map(lambda x: x.strip(), line.split(delimiter))\n",
    "            \n",
    "            data[itemId] = (title, genre_list.split(genre_delimiter))\n",
    "    return data\n",
    "\n",
    "\n",
    "def extract_user_item_interaction(filename, delimiter):\n",
    "    data = {}\n",
    "\n",
    "    with open(filename , 'r') as f:\n",
    "        for i, line in enumerate(f):\n",
    "            userId, movieId, rating, timestamp = line.split(delimiter)\n",
    "            #userId = int(userId)\n",
    "            #movieId = int(movieId)\n",
    "            rating = float(rating)\n",
    "            timestamp = int(timestamp)\n",
    "\n",
    "            if userId not in data:\n",
    "                data[userId] = []\n",
    "            data[userId].append((movieId, rating, timestamp))\n",
    "    \n",
    "    # order by time\n",
    "    for userId in data:\n",
    "        data[userId].sort(key=lambda x: x[2]) \n",
    "    return data\n",
    "\n",
    "\n",
    "def user_history2user_repr__simple_average(model, target_user_history): # target_user_history: It should_be_a_list_of_tuples_included_items.\n",
    "    #print 'target_user_history:', target_user_history\n",
    "    items_existed_in_model = filter(lambda x: x[0] in model, target_user_history)\n",
    "    #print 'items_existed_in_model:', items_existed_in_model[0]\n",
    "    items_translated_to_vecs = map(lambda x: model[x[0]], items_existed_in_model)\n",
    "    #print 'items_translated_to_vecs:', items_translated_to_vecs[0]\n",
    "    return np.average(items_translated_to_vecs, axis=0)   \n",
    "\n",
    "\n",
    "def calculate_metrics(test, rec):\n",
    "    starttime = datetime.datetime.now()\n",
    "    hit = 0\n",
    "\n",
    "    all__for_recall = 0\n",
    "    all__for_precision = 0\n",
    "    for user in test.keys():\n",
    "        history = test[user][0]\n",
    "        answer = test[user][1]\n",
    "        tu = [x[0] for x in answer]\n",
    "        rank = rec[user] # self.recommend(history, N)\n",
    "        #print 'rank:', rank\n",
    "        for item, pui in rank:\n",
    "            if item in tu:\n",
    "                hit += 1\n",
    "        all__for_recall += len(tu)\n",
    "        all__for_precision += len(rank) #Note: In book RSP, the author used 'all += N'\n",
    "\n",
    "    metric_recall = None\n",
    "    metric_precision = None\n",
    "    metric_f1 = None\n",
    "    if 0 == all__for_recall:\n",
    "        metric_recall = 0\n",
    "    else:\n",
    "        metric_recall = hit / (all__for_recall * 1.0)\n",
    "\n",
    "    if 0 == all__for_precision:\n",
    "        metric_precision = 0\n",
    "    else:\n",
    "        metric_precision = hit / (all__for_precision * 1.0)\n",
    "\n",
    "    if 0 == all__for_recall or 0 == all__for_precision:\n",
    "        metric_f1 = 0\n",
    "    else:\n",
    "        metric_f1 = 2/(1./metric_precision + 1./metric_recall)\n",
    "\n",
    "    endtime = datetime.datetime.now()\n",
    "    interval = (endtime - starttime).seconds\n",
    "    print 'metric calculation: time consumption: %d' % (interval)\n",
    "    return {'recall': metric_recall, 'precision': metric_precision, 'f1': metric_f1}\n",
    "\n",
    "\n",
    "\n",
    "item_file_name, item_file_delimiter, genre_delimiter = os.path.sep.join(['ml-1m', 'movies.dat']), '::', '|'\n",
    "item_info = extract_item_info(item_file_name, item_file_delimiter, genre_delimiter)\n",
    "\n",
    "\n",
    "rating_file_name, rating_file_delimiter = os.path.sep.join(['ml-1m', 'ratings.dat']), '::'\n",
    "user_item_interaction = extract_user_item_interaction(rating_file_name, rating_file_delimiter)\n",
    "\n",
    "model_path = '/home/wsyj/dissertation__recommendation_system__experiment_2/dissertation__recommendation_system__experiment/main_modelnum_features=100_min_count=1_window=1_iter=30.model'\n",
    "\n",
    "#model = gensim.models.Word2Vec.load('/home/wsyj/dissertation__recommendation_system__experiment_2/dissertation__recommendation_system__experiment/main_modelnum_features=200_min_count=5_window=2.model' )\n",
    "model = gensim.models.Word2Vec.load(model_path)\n",
    "\n",
    "#user_history2user_repr__simple_average(model, user_item_interaction['5989'])   \n",
    "\n",
    "# calculate user representation dict\n",
    "user_repr = {user: user_history2user_repr__simple_average(model, user_item_interaction[user]) \n",
    "             for user in user_item_interaction}\n",
    "\n",
    "# item representation\n",
    "item_repr = model\n",
    "#print len(item_repr)\n",
    "\n",
    "all_items = set(model.wv.vocab.keys())\n",
    "\n",
    "# load train and test datasets\n",
    "\n",
    "data_filename, delimiter, data_set = os.path.sep.join(['ml-1m', 'ratings.dat']), '::', '1M'\n",
    "#data_filename, delimiter = os.path.sep.join(['ml-10M100K', 'ratings.dat']), '::'\n",
    "#data_filename, delimiter, data_set = os.path.sep.join(['ml-100k', 'u.data']), '\\t', '100K'\n",
    "\n",
    "N = 20\n",
    "seed = 2 \n",
    "K = 10\n",
    "train_percent = 0.8\n",
    "test_data_inner_ratio = 0.8\n",
    "test = None\n",
    "train, original_test = extract_data_from_file_and_generate_train_and_test(data_filename, train_percent, seed, delimiter, test_data_inner_ratio)\n",
    "#train, test = extract_data_from_file_and_generate_train_and_test(data_filename, 3, 0, seed, delimiter)\n",
    "\n",
    "\n",
    "# main: core of content-based recommendation\n",
    "\n",
    "total_user_item_comb = 0\n",
    "rec = {}\n",
    "for user in original_test:\n",
    "    history, future = original_test[user]\n",
    "    history_items = set([x[0] for x in history])\n",
    "    candidates = all_items - history_items # filtering out those interacted\n",
    "    #print 'candidates:', candidates\n",
    "\n",
    "    total_user_item_comb += len(candidates)\n",
    "    cand_simi_list = []\n",
    "    for candy in candidates:\n",
    "        simi = user_repr[user].dot(item_repr[candy]) / (la.norm(user_repr[user]) * la.norm(item_repr[candy]))\n",
    "        cand_simi_list.append((candy, simi))\n",
    "\n",
    "    cand_simi_list.sort(key=lambda x: -1 * x[1])\n",
    "\n",
    "    rec[user] = cand_simi_list[:N]\n",
    "\n",
    "print 'total_user_item_comb:', total_user_item_comb\n",
    "\n",
    "metrics = calculate_metrics(original_test, rec)\n",
    "cPickle.dump(rec, open('try2.output.dmp', 'w'))\n",
    "print \"metrics:\", metrics\n",
    "\n",
    "\n"
   ]
  }
 ],
 "metadata": {
  "kernelspec": {
   "display_name": "Python 2",
   "language": "python",
   "name": "python2"
  },
  "language_info": {
   "codemirror_mode": {
    "name": "ipython",
    "version": 2
   },
   "file_extension": ".py",
   "mimetype": "text/x-python",
   "name": "python",
   "nbconvert_exporter": "python",
   "pygments_lexer": "ipython2",
   "version": "2.7.13"
  }
 },
 "nbformat": 4,
 "nbformat_minor": 2
}
