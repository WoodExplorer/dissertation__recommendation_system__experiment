{
 "cells": [
  {
   "cell_type": "code",
   "execution_count": 7,
   "metadata": {
    "collapsed": true
   },
   "outputs": [],
   "source": [
    "import numpy as np\n",
    "import pandas as pd\n",
    "import matplotlib.pyplot as plt\n",
    "import matplotlib.font_manager as font_manager"
   ]
  },
  {
   "cell_type": "code",
   "execution_count": 1,
   "metadata": {
    "collapsed": false
   },
   "outputs": [],
   "source": [
    "import sqlite3\n",
    "import os\n",
    "import random"
   ]
  },
  {
   "cell_type": "code",
   "execution_count": 2,
   "metadata": {
    "collapsed": true
   },
   "outputs": [],
   "source": [
    "db_path = '/home/wsyj/dissertation__recommendation_system__experiment_2/dissertation__recommendation_system__experiment/my_metrics.db'\n",
    "cx = sqlite3.connect(db_path)\n",
    "cur = cx.cursor()"
   ]
  },
  {
   "cell_type": "code",
   "execution_count": 3,
   "metadata": {
    "collapsed": false,
    "scrolled": true
   },
   "outputs": [
    {
     "data": {
      "text/plain": [
       "[(u'tmp',),\n",
       " (u'tmp2',),\n",
       " (u'metrics',),\n",
       " (u'sqlite_sequence',),\n",
       " (u'metrics_N_20',),\n",
       " (u'metrics_N_20__iter_4__batch_words_1',),\n",
       " (u'metrics_N_20__iter_4__batch_words_10000',),\n",
       " (u'metrics_N_20__iter_4__batch_words_10000__da_1M',),\n",
       " (u'metrics_N_20__iter_5__batch_words_10000__da_1M',),\n",
       " (u'metrics_N_20__iter_10__batch_words_10000__da_1M',),\n",
       " (u'metrics_N_20__iter_20__batch_words_10000__da_1M',),\n",
       " (u'metrics_N_20__iter_40__batch_words_10000__da_1M',),\n",
       " (u'metrics_N_20__iter_80__batch_words_10000__da_1M',),\n",
       " (u'metrics_N_20__iter_60__batch_words_10000__da_1M',),\n",
       " (u'metrics_N_20__iter_30__batch_words_10000__da_1M',),\n",
       " (u'metrics_N_20__iter_35__batch_words_10000__da_1M',),\n",
       " (u'ttratio__metrics_N_20__iter_35__batch_words_10000__da_1M',),\n",
       " (u'ttratio_tiratio__metrics_N_20__iter_35__batch_words_10000__da_1M',),\n",
       " (u'metrics__normalized_user_repr__N_20__iter_35__batch_words_10000__da_1M',),\n",
       " (u'metrics__normalized_user_repr__N_20__iter_30__batch_words_10000__da_1M',),\n",
       " (u'metrics__chap4_exp2_across_variants__N_20__iter_30__da_1M',),\n",
       " (u'metrics__chap4_exp4_time_complexity__N_20__iter_30__da_1M',),\n",
       " (u'metrics__chap4_exp3_word2vec_hyper__N_20__iter_30__da_1M',),\n",
       " (u'metrics__chap4_exp4_time_complexity__SVD__N_20__da_1M',),\n",
       " (u'metrics__chap4_exp4_time_complexity__content_based__N_20__da_1M',),\n",
       " (u'metrics__chap4_exp4_time_complexity__CF__N_20__da_1M',),\n",
       " (u'tmp1',),\n",
       " (u'metrics__chap4_observe_CF_when_K_varies__N_20__da_1M',),\n",
       " (u'metrics__chap4_observe_word2ve_when_K_varies__N_20__iter_30__da_1M',),\n",
       " (u'metrcis__chap2_exp3_coefficient',),\n",
       " (u'metrcis__chap2_exp4_time_complexity_redo',),\n",
       " (u'metrics__chap4_exp1_across_32_variants__N_20___da_1M',),\n",
       " (u'metrics__chap4_exp_X_time_coef__N_20___da_1M',),\n",
       " (u'metrics__chap4_exp_X_mc__N_20___da_1M',),\n",
       " (u'metrics__chap4_exp_X_window__N_20___da_1M',),\n",
       " (u'metrics__chap4_exp_X_size__N_20___da_1M',),\n",
       " (u'metrics__chap4_exp_X_learning_rate__N_20___da_1M',),\n",
       " (u'metrics__chap4_exp_X_iter__N_20___da_1M',),\n",
       " (u'metrics__chap4_exp_X_K__N_20___da_1M',),\n",
       " (u'metrics__chap4_exp_X_K__simple_CF__N_20___da_1M',),\n",
       " (u'metrics__chap4_exp_X_time_overhead__N_20___da_1M',),\n",
       " (u'metrics__chap4_exp_X_time_overhead__CF__N_20__da_1M',),\n",
       " (u'metrics__chap4_exp_X_time_complexity__SVD__N_20__da_1M',),\n",
       " (u'metrics__chap4_exp_X_time_complexity__content_based__N_20__da_1M',)]"
      ]
     },
     "execution_count": 3,
     "metadata": {},
     "output_type": "execute_result"
    }
   ],
   "source": [
    "cur.execute('SELECT name FROM sqlite_master')\n",
    "cur.fetchall()"
   ]
  },
  {
   "cell_type": "code",
   "execution_count": 4,
   "metadata": {
    "collapsed": true
   },
   "outputs": [],
   "source": [
    "table_name = 'metrics__chap4_exp_X_mc__N_20___da_1M'\n",
    "\n",
    "cur.execute('select * from %s' % (table_name))\n",
    "r = cur.fetchall()\n",
    "\n"
   ]
  },
  {
   "cell_type": "code",
   "execution_count": 6,
   "metadata": {
    "collapsed": false,
    "scrolled": true
   },
   "outputs": [
    {
     "name": "stdout",
     "output_type": "stream",
     "text": [
      "(1, u'1', u'rating_tfidf', 0, u'CF', 0, 5, 100, 0.025, 5, 10, 20, 0.3254166666666667, 0.04886717014660151, 0.08497396924181676, u'2017-04-08 21:04:47')\n",
      "(2, u'1', u'rating_tfidf', 0, u'CF', 300, 5, 100, 0.025, 5, 10, 20, 0.3139166666666667, 0.047140238141420716, 0.0819710479216194, u'2017-04-08 21:05:09')\n",
      "(3, u'1', u'rating_tfidf', 0, u'CF', 600, 5, 100, 0.025, 5, 10, 20, 0.3064799331103679, 0.0458700671376102, 0.07979710570857891, u'2017-04-08 21:05:27')\n",
      "(4, u'1', u'rating_tfidf', 0, u'CF', 900, 5, 100, 0.025, 5, 10, 20, 0.3069737954353339, 0.04544459113633377, 0.07916896027381581, u'2017-04-08 21:05:42')\n",
      "(5, u'1', u'rating_tfidf', 0, u'CF', 1200, 5, 100, 0.025, 5, 10, 20, 0.2955907534246575, 0.043204585129613754, 0.07538991489292012, u'2017-04-08 21:05:56')\n",
      "(6, u'1', u'rating_tfidf', 0, u'CF', 1500, 5, 100, 0.025, 5, 10, 20, 0.29118432769367764, 0.04092078012276234, 0.0717573416867364, u'2017-04-08 21:06:09')\n",
      "(7, u'1', u'rating_tfidf', 0, u'CF', 1800, 5, 100, 0.025, 5, 10, 20, 0.27415215398716775, 0.037429374112288125, 0.06586618659884058, u'2017-04-08 21:06:21')\n",
      "(8, u'1', u'rating_tfidf', 0, u'CF', 2100, 5, 100, 0.025, 5, 10, 20, 0.3085034013605442, 0.034050594102151784, 0.06133178557542221, u'2017-04-08 21:06:32')\n",
      "(9, u'1', u'rating_tfidf', 0, u'CF', 2400, 5, 100, 0.025, 5, 10, 20, 0.40555555555555556, 0.019183962057551886, 0.03663498246515435, u'2017-04-08 21:06:37')\n"
     ]
    }
   ],
   "source": [
    "for x in r:\n",
    "    print x"
   ]
  },
  {
   "cell_type": "code",
   "execution_count": 17,
   "metadata": {
    "collapsed": true
   },
   "outputs": [],
   "source": [
    "target_index = 5\n",
    "horizontal_coordinates = [x[target_index] for x in r]"
   ]
  },
  {
   "cell_type": "code",
   "execution_count": 18,
   "metadata": {
    "collapsed": false
   },
   "outputs": [],
   "source": [
    "indexes = [-4, -3, -2]\n",
    "precision_list, recall_list, f1_list = ([x[index] for x in r] for index in indexes)"
   ]
  },
  {
   "cell_type": "code",
   "execution_count": 14,
   "metadata": {
    "collapsed": false,
    "scrolled": true
   },
   "outputs": [
    {
     "data": {
      "text/plain": [
       "[0.3254166666666667,\n",
       " 0.3139166666666667,\n",
       " 0.3064799331103679,\n",
       " 0.3069737954353339,\n",
       " 0.2955907534246575,\n",
       " 0.29118432769367764,\n",
       " 0.27415215398716775,\n",
       " 0.3085034013605442,\n",
       " 0.40555555555555556]"
      ]
     },
     "execution_count": 14,
     "metadata": {},
     "output_type": "execute_result"
    }
   ],
   "source": [
    "precision_list"
   ]
  },
  {
   "cell_type": "code",
   "execution_count": 32,
   "metadata": {
    "collapsed": true
   },
   "outputs": [],
   "source": [
    "x_label = u'流行度阈值mc'\n",
    "y_label = u'推荐效果评估指标'"
   ]
  },
  {
   "cell_type": "code",
   "execution_count": 38,
   "metadata": {
    "collapsed": false
   },
   "outputs": [
    {
     "data": {
      "image/png": "[encoded data removed]",
      "text/plain": [
       "<matplotlib.figure.Figure at 0xa8f6bf8c>"
      ]
     },
     "metadata": {},
     "output_type": "display_data"
    }
   ],
   "source": [
    "\n",
    "prop = font_manager.FontProperties(fname='/home/wsyj/Downloads/simsun.ttc')\n",
    "plt.plot(horizontal_coordinates, recall_list, label=u'recall', marker='*')\n",
    "plt.plot(horizontal_coordinates, precision_list, label=u'precision', marker='^')\n",
    "plt.plot(horizontal_coordinates, f1_list, label=u'f1', marker='o')\n",
    "plt.legend( prop=prop )\n",
    "plt.xlabel(x_label, fontproperties=prop ) \n",
    "plt.ylabel(y_label, fontproperties=prop)\n",
    "\n",
    "# setting graph size\n",
    "fig = plt.gcf()\n",
    "fig.set_size_inches(12, 8, forward=True)\n",
    "\n",
    "plt.show()"
   ]
  },
  {
   "cell_type": "code",
   "execution_count": null,
   "metadata": {
    "collapsed": false,
    "scrolled": true
   },
   "outputs": [],
   "source": []
  },
  {
   "cell_type": "code",
   "execution_count": null,
   "metadata": {
    "collapsed": true
   },
   "outputs": [],
   "source": []
  },
  {
   "cell_type": "code",
   "execution_count": null,
   "metadata": {
    "collapsed": true
   },
   "outputs": [],
   "source": [
    "\"\"\"Code above is for poking-around purpose. Code below will be more serious.\"\"\""
   ]
  },
  {
   "cell_type": "code",
   "execution_count": 39,
   "metadata": {
    "collapsed": true
   },
   "outputs": [],
   "source": [
    "def draw_graph(table_name, target_index, value_index_list, x_label, y_label, label_list, marker_list):\n",
    "    assert(len(value_index_list) == len(label_list))\n",
    "    assert(len(label_list) == len(marker_list))\n",
    "    \n",
    "    #table_name = 'metrics__chap4_exp_X_mc__N_20___da_1M'\n",
    "\n",
    "    cur.execute('select * from %s' % (table_name))\n",
    "    r = cur.fetchall()\n",
    "\n",
    "    #target_index = 5\n",
    "    horizontal_coordinates = [x[target_index] for x in r]\n",
    "\n",
    "    #value_index_list = [-4, -3, -2]\n",
    "    #precision_list, recall_list, f1_list = ([x[index] for x in r] for index in value_index_list)\n",
    "    value_list_list = [[x[index] for x in r] for index in value_index_list]\n",
    "    \n",
    "\n",
    "    #x_label = u'流行度阈值mc'\n",
    "    #y_label = u'推荐效果评估指标'\n",
    "\n",
    "\n",
    "    \n",
    "    #plt.plot(horizontal_coordinates, recall_list, label=u'recall', marker='*')\n",
    "    #plt.plot(horizontal_coordinates, precision_list, label=u'precision', marker='^')\n",
    "    #plt.plot(horizontal_coordinates, f1_list, label=u'f1', marker='o')\n",
    "    \n",
    "    for value_list, label, marker in zip(value_list_list, label_list, marker_list):\n",
    "        plt.plot(horizontal_coordinates, value_list, label=label, marker=marker)\n",
    "        \n",
    "    prop = font_manager.FontProperties(fname='/home/wsyj/Downloads/simsun.ttc')\n",
    "    \n",
    "    plt.legend( prop=prop )\n",
    "    plt.xlabel(x_label, fontproperties=prop ) \n",
    "    plt.ylabel(y_label, fontproperties=prop)\n",
    "\n",
    "    # setting graph size\n",
    "    fig = plt.gcf()\n",
    "    fig.set_size_inches(12, 8, forward=True)\n",
    "\n",
    "    plt.show()"
   ]
  },
  {
   "cell_type": "code",
   "execution_count": 41,
   "metadata": {
    "collapsed": false,
    "scrolled": true
   },
   "outputs": [
    {
     "data": {
      "image/png": "[encoded data removed]",
      "text/plain": [
       "<matplotlib.figure.Figure at 0xa8ee41cc>"
      ]
     },
     "metadata": {},
     "output_type": "display_data"
    }
   ],
   "source": [
    "\n",
    "target_index = 5\n",
    "table_name = 'metrics__chap4_exp_X_mc__N_20___da_1M'\n",
    "x_label = u'流行度阈值mc'\n",
    "\n",
    "y_label = u'推荐效果评估指标'\n",
    "value_index_list = [-4, -3, -2]\n",
    "label_list = [\"precision\", \"recall\", \"f1\"]\n",
    "marker_list = [\"^\", \"*\", \"o\"]\n",
    "draw_graph(table_name, target_index, value_index_list, x_label, y_label, label_list, marker_list)\n"
   ]
  },
  {
   "cell_type": "code",
   "execution_count": null,
   "metadata": {
    "collapsed": true
   },
   "outputs": [],
   "source": []
  },
  {
   "cell_type": "code",
   "execution_count": null,
   "metadata": {
    "collapsed": false,
    "scrolled": false
   },
   "outputs": [],
   "source": []
  },
  {
   "cell_type": "code",
   "execution_count": null,
   "metadata": {
    "collapsed": true
   },
   "outputs": [],
   "source": []
  },
  {
   "cell_type": "code",
   "execution_count": null,
   "metadata": {
    "collapsed": true
   },
   "outputs": [],
   "source": []
  },
  {
   "cell_type": "code",
   "execution_count": null,
   "metadata": {
    "collapsed": true
   },
   "outputs": [],
   "source": []
  }
 ],
 "metadata": {
  "kernelspec": {
   "display_name": "Python 2",
   "language": "python",
   "name": "python2"
  },
  "language_info": {
   "codemirror_mode": {
    "name": "ipython",
    "version": 2
   },
   "file_extension": ".py",
   "mimetype": "text/x-python",
   "name": "python",
   "nbconvert_exporter": "python",
   "pygments_lexer": "ipython2",
   "version": "2.7.13"
  }
 },
 "nbformat": 4,
 "nbformat_minor": 2
}
