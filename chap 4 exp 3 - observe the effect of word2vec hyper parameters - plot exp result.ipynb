{
 "cells": [
  {
   "cell_type": "code",
   "execution_count": null,
   "metadata": {
    "collapsed": true
   },
   "outputs": [],
   "source": [
    "\"\"\" The experiment to observe the effect of word2vec hyper parameters on\n",
    "precision, recall and f1 is carried out by executing script try1.py with options:\n",
    "\n",
    "    python try1.py observe_word2vec_hyperpara min_count\n",
    "    python try1.py observe_word2vec_hyperpara window\n",
    "\n",
    "Data collected is stored in the table named 'metrics__chap4_exp3_...'.\n",
    "This notebook only serves as a convenient way to visualize that data.\n",
    "\"\"\""
   ]
  },
  {
   "cell_type": "code",
   "execution_count": 1,
   "metadata": {
    "collapsed": true
   },
   "outputs": [],
   "source": [
    "import sqlite3\n",
    "import collections as coll\n",
    "import pandas as pd\n",
    "import matplotlib.pyplot as plt\n",
    "import itertools"
   ]
  },
  {
   "cell_type": "code",
   "execution_count": 2,
   "metadata": {
    "collapsed": true
   },
   "outputs": [],
   "source": [
    "table_name = 'metrics__chap4_exp3_word2vec_hyper__N_20__iter_30__da_1M'"
   ]
  },
  {
   "cell_type": "code",
   "execution_count": 3,
   "metadata": {
    "collapsed": true
   },
   "outputs": [],
   "source": [
    "cx = sqlite3.connect('my_metrics.db')\n",
    "cur = cx.cursor()"
   ]
  },
  {
   "cell_type": "code",
   "execution_count": 4,
   "metadata": {
    "collapsed": false
   },
   "outputs": [],
   "source": [
    "cur.execute('select * from %s' % table_name)\n",
    "data = cur.fetchall()\n",
    "\n",
    "for x in data:\n",
    "    row_id, s, mc, w, precision, recall, f1, time = x\n",
    "    #print '%20s\\t%15.9g\\t%15.9g\\t%15.9g' % (variant, precision, recall, f1)\n",
    "    #print"
   ]
  },
  {
   "cell_type": "code",
   "execution_count": 10,
   "metadata": {
    "collapsed": true
   },
   "outputs": [],
   "source": [
    "# obsolete\n",
    "\n",
    "row_id, s, mc, w, prec, reca, f1, time = 'row_id', 's', 'mc', 'w', 'prec', 'reca', 'f1', 'time'\n",
    "columns = [row_id, s, mc, w, prec, reca, f1, time]\n",
    "i_d = dict(zip(*[columns, range(len(columns))]))"
   ]
  },
  {
   "cell_type": "code",
   "execution_count": 12,
   "metadata": {
    "collapsed": false,
    "scrolled": true
   },
   "outputs": [
    {
     "data": {
      "text/plain": [
       "{'f1': 6,\n",
       " 'mc': 2,\n",
       " 'prec': 4,\n",
       " 'reca': 5,\n",
       " 'row_id': 0,\n",
       " 's': 1,\n",
       " 'time': 7,\n",
       " 'w': 3}"
      ]
     },
     "execution_count": 12,
     "metadata": {},
     "output_type": "execute_result"
    }
   ],
   "source": [
    "# obsolete\n",
    "\n",
    "i_d"
   ]
  },
  {
   "cell_type": "code",
   "execution_count": 13,
   "metadata": {
    "collapsed": true
   },
   "outputs": [],
   "source": [
    "# obsolete\n",
    "\n",
    "def gi(k): # get index\n",
    "    global i_d\n",
    "    return id_d[k]"
   ]
  },
  {
   "cell_type": "code",
   "execution_count": 9,
   "metadata": {
    "collapsed": true
   },
   "outputs": [],
   "source": [
    "\n",
    "def observe_min_count_or_dict(data):\n",
    "    min_count_dict = coll.defaultdict(list)\n",
    "    for x in data:\n",
    "        row_id, s, mc, w, prec, reca, f1, time = x\n",
    "        min_count_dict[mc].append((s, f1))\n",
    "\n",
    "    for mc in min_count_dict:\n",
    "        min_count_dict[mc].sort(key=lambda x: x[0])\n",
    "\n",
    "    min_count_avg_dict = coll.defaultdict(list)\n",
    "    for mc in min_count_dict:\n",
    "        for k, g in itertools.groupby(min_count_dict[mc], key=lambda x: x[0]):\n",
    "            #for m in g:\n",
    "            #    print m\n",
    "            tmp_f1 = [m[1] for m in g]\n",
    "            min_count_avg_dict[mc].append((k, sum(tmp_f1) * 1. / len(tmp_f1)))\n",
    "\n",
    "    print min_count_avg_dict\n",
    "\n",
    "    # tricky: use first key of min_count_avg_dict as index, fetch the value, \n",
    "    # which is a list l, and assign [x[0] for x in l] to indexes.\n",
    "    indexes = [x[0] for x in min_count_avg_dict[min_count_avg_dict.keys()[0]]]\n",
    "\n",
    "    values = zip(*[[x[1] for x in min_count_avg_dict[min_count]] for min_count in min_count_avg_dict])\n",
    "    df = pd.DataFrame(values, index=indexes, columns=min_count_avg_dict.keys())\n",
    "    df.plot()\n",
    "\n",
    "    fig = plt.gcf()\n",
    "    fig.set_size_inches(12, 8, forward=True)\n",
    "    \n",
    "    plt.show()\n"
   ]
  },
  {
   "cell_type": "code",
   "execution_count": 10,
   "metadata": {
    "collapsed": false,
    "scrolled": false
   },
   "outputs": [
    {
     "name": "stdout",
     "output_type": "stream",
     "text": [
      "defaultdict(<type 'list'>, {1: [(100, 0.08415904602847336), (120, 0.08464348469434942), (140, 0.08461111624895959), (160, 0.08448953057594073), (180, 0.08454363068877933), (200, 0.08446377843780753)], 3: [(100, 0.08605110406319191), (120, 0.0863002594915706), (140, 0.08628393926700431), (160, 0.08629808346162844), (180, 0.08606960031770036), (200, 0.08597603103018699)], 5: [(100, 0.08613379320099443), (120, 0.08636554038983577), (140, 0.08608700855723775), (160, 0.0859901752248111), (180, 0.08634704413532729), (200, 0.08636010031498034)]})\n"
     ]
    },
    {
     "data": {
      "image/png": "[encoded data removed]",
      "text/plain": [
       "<matplotlib.figure.Figure at 0xa8f9b64c>"
      ]
     },
     "metadata": {},
     "output_type": "display_data"
    }
   ],
   "source": [
    "observe_min_count_or_dict(data)"
   ]
  },
  {
   "cell_type": "code",
   "execution_count": 11,
   "metadata": {
    "collapsed": false
   },
   "outputs": [
    {
     "name": "stdout",
     "output_type": "stream",
     "text": [
      "defaultdict(<type 'list'>, {1: [(100, 0.08609707269572028), (120, 0.08659701557493432), (140, 0.08647243786074499), (160, 0.08640470892879487), (180, 0.08636962044597733), (200, 0.08630497422311197)], 3: [(100, 0.08311999173108622), (120, 0.08316242431495856), (140, 0.08319506476409115), (160, 0.08313522394068143), (180, 0.08324402543779003), (200, 0.08330809743053175)], 5: [(100, 0.08131279886411237), (120, 0.08168925204410812), (140, 0.08173059661300938), (160, 0.08149232133434156), (180, 0.0814270404360764), (200, 0.08142824934159983)]})\n"
     ]
    },
    {
     "data": {
      "image/png": "[encoded data removed]",
      "text/plain": [
       "<matplotlib.figure.Figure at 0xa8e7552c>"
      ]
     },
     "metadata": {},
     "output_type": "display_data"
    }
   ],
   "source": [
    "# tricky!\n",
    "# To reuse code, I reorganize the data: swap the place of mc and w in the original data!\n",
    "\n",
    "data_for_observation_of_effect_of_window = [    (row_id, s, w, mc, prec, reca, f1, time) \n",
    "                                            for (row_id, s, mc, w, prec, reca, f1, time) in data]\n",
    "observe_min_count_or_dict(data_for_observation_of_effect_of_window)"
   ]
  },
  {
   "cell_type": "code",
   "execution_count": 8,
   "metadata": {
    "collapsed": false
   },
   "outputs": [
    {
     "name": "stdout",
     "output_type": "stream",
     "text": [
      "355\n",
      "355\n"
     ]
    }
   ],
   "source": [
    "print len(data)\n",
    "print len(data_for_observation_of_effect_of_window)"
   ]
  },
  {
   "cell_type": "code",
   "execution_count": null,
   "metadata": {
    "collapsed": true
   },
   "outputs": [],
   "source": []
  },
  {
   "cell_type": "code",
   "execution_count": 32,
   "metadata": {
    "collapsed": false
   },
   "outputs": [
    {
     "name": "stdout",
     "output_type": "stream",
     "text": [
      "defaultdict(<type 'list'>, {1: [(100, 0.08422389831478021), (120, 0.08473757326173537), (140, 0.0846716329604574), (160, 0.0845730522100469), (180, 0.08451337623739036), (200, 0.08439902133053351)], 3: [(100, 0.08606561092947305), (120, 0.08627958720711996), (140, 0.0862856317347371), (160, 0.08631464546729942), (180, 0.08605956640185591), (200, 0.08592326230408932)], 5: [(100, 0.08615386103268335), (120, 0.08635816606614284), (140, 0.0861091315283165), (160, 0.08599307659806733), (180, 0.08637614853580383), (200, 0.08637614853580386)]})\n"
     ]
    },
    {
     "data": {
      "image/png": "[encoded data removed]",
      "text/plain": [
       "<matplotlib.figure.Figure at 0xaa0d27cc>"
      ]
     },
     "metadata": {},
     "output_type": "display_data"
    }
   ],
   "source": [
    "# observe the effect of min_count\n",
    "\n",
    "min_count_dict = coll.defaultdict(list)\n",
    "for x in data:\n",
    "    row_id, s, mc, w, prec, reca, f1, time = x\n",
    "    min_count_dict[mc].append((s, f1))\n",
    "\n",
    "for mc in min_count_dict:\n",
    "    min_count_dict[mc].sort(key=lambda x: x[0])\n",
    "    \n",
    "min_count_avg_dict = coll.defaultdict(list)\n",
    "for mc in min_count_dict:\n",
    "    for k, g in itertools.groupby(min_count_dict[mc], key=lambda x: x[0]):\n",
    "        #for m in g:\n",
    "        #    print m\n",
    "        tmp_f1 = [m[1] for m in g]\n",
    "        min_count_avg_dict[mc].append((k, sum(tmp_f1) * 1. / len(tmp_f1)))\n",
    "        \n",
    "print min_count_avg_dict\n",
    "\n",
    "# tricky: use first key of min_count_avg_dict as index, fetch the value, \n",
    "# which is a list l, and assign [x[0] for x in l] to indexes.\n",
    "indexes = [x[0] for x in min_count_avg_dict[min_count_avg_dict.keys()[0]]]\n",
    "\n",
    "values = zip(*[[x[1] for x in min_count_avg_dict[min_count]] for min_count in min_count_avg_dict])\n",
    "df = pd.DataFrame(values, index=indexes, columns=min_count_avg_dict.keys())\n",
    "df.plot()\n",
    "plt.show()"
   ]
  },
  {
   "cell_type": "code",
   "execution_count": 23,
   "metadata": {
    "collapsed": false
   },
   "outputs": [
    {
     "name": "stdout",
     "output_type": "stream",
     "text": [
      "a <itertools._grouper object at 0xaa0d346c>\n",
      "('a', 1)\n",
      "('a', 2)\n",
      "b <itertools._grouper object at 0xaa0d348c>\n",
      "('b', 3)\n",
      "c <itertools._grouper object at 0xaa0d346c>\n",
      "('c', 4)\n"
     ]
    }
   ],
   "source": [
    "for k, g in itertools.groupby([('a', 1), ('a', 2), ('b', 3), ('c', 4)], key=lambda x: x[0]):\n",
    "    print k, g\n",
    "    for m in g:\n",
    "        print m"
   ]
  },
  {
   "cell_type": "code",
   "execution_count": null,
   "metadata": {
    "collapsed": true
   },
   "outputs": [],
   "source": []
  },
  {
   "cell_type": "code",
   "execution_count": null,
   "metadata": {
    "collapsed": true
   },
   "outputs": [],
   "source": []
  },
  {
   "cell_type": "code",
   "execution_count": null,
   "metadata": {
    "collapsed": true
   },
   "outputs": [],
   "source": []
  }
 ],
 "metadata": {
  "kernelspec": {
   "display_name": "Python 2",
   "language": "python",
   "name": "python2"
  },
  "language_info": {
   "codemirror_mode": {
    "name": "ipython",
    "version": 2
   },
   "file_extension": ".py",
   "mimetype": "text/x-python",
   "name": "python",
   "nbconvert_exporter": "python",
   "pygments_lexer": "ipython2",
   "version": "2.7.13"
  }
 },
 "nbformat": 4,
 "nbformat_minor": 2
}
