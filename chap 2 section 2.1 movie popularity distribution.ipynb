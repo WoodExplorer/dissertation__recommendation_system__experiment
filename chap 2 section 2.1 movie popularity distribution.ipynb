{
 "cells": [
  {
   "cell_type": "code",
   "execution_count": 20,
   "metadata": {
    "collapsed": true
   },
   "outputs": [],
   "source": [
    "import collections as coll\n",
    "import os\n",
    "import numpy as np\n",
    "import pandas as pd\n",
    "import matplotlib.pyplot as plt\n",
    "import matplotlib.font_manager as font_manager"
   ]
  },
  {
   "cell_type": "code",
   "execution_count": 18,
   "metadata": {
    "collapsed": false
   },
   "outputs": [
    {
     "name": "stdout",
     "output_type": "stream",
     "text": [
      "Counter({1: 2, 2: 2, 3: 1})\n",
      "[(1, 2), (2, 2), (3, 1)]\n"
     ]
    }
   ],
   "source": [
    "d = [1, 2, 1, 2, 3]\n",
    "c = coll.Counter(d)\n",
    "print c\n",
    "print c.items()"
   ]
  },
  {
   "cell_type": "code",
   "execution_count": 25,
   "metadata": {
    "collapsed": false,
    "scrolled": true
   },
   "outputs": [
    {
     "data": {
      "image/png": "[encoded data removed]",
      "text/plain": [
       "<matplotlib.figure.Figure at 0xa8af1bec>"
      ]
     },
     "metadata": {},
     "output_type": "display_data"
    }
   ],
   "source": [
    "tmp_df = pd.DataFrame(data=[(1,100), (2, 20), (3,3)])\n",
    "\n",
    "tmp_ax = tmp_df.plot()\n",
    "tmp_legend = tmp_ax.legend()\n",
    "font = font_manager.FontProperties(fname='/home/wsyj/Downloads/simsun.ttc')\n",
    "\n",
    "for text in tmp_legend.texts:\n",
    "    text.set_font_properties(font)\n",
    "    \n",
    "plt.xlabel(u'中文', fontproperties=font)\n",
    "plt.show()"
   ]
  },
  {
   "cell_type": "code",
   "execution_count": 27,
   "metadata": {
    "collapsed": false
   },
   "outputs": [
    {
     "name": "stdout",
     "output_type": "stream",
     "text": [
      "Help on method hist_frame in module pandas.tools.plotting:\n",
      "\n",
      "hist_frame(data, column=None, by=None, grid=True, xlabelsize=None, xrot=None, ylabelsize=None, yrot=None, ax=None, sharex=False, sharey=False, figsize=None, layout=None, bins=10, **kwds) method of pandas.core.frame.DataFrame instance\n",
      "    Draw histogram of the DataFrame's series using matplotlib / pylab.\n",
      "    \n",
      "    Parameters\n",
      "    ----------\n",
      "    data : DataFrame\n",
      "    column : string or sequence\n",
      "        If passed, will be used to limit data to a subset of columns\n",
      "    by : object, optional\n",
      "        If passed, then used to form histograms for separate groups\n",
      "    grid : boolean, default True\n",
      "        Whether to show axis grid lines\n",
      "    xlabelsize : int, default None\n",
      "        If specified changes the x-axis label size\n",
      "    xrot : float, default None\n",
      "        rotation of x axis labels\n",
      "    ylabelsize : int, default None\n",
      "        If specified changes the y-axis label size\n",
      "    yrot : float, default None\n",
      "        rotation of y axis labels\n",
      "    ax : matplotlib axes object, default None\n",
      "    sharex : boolean, default True if ax is None else False\n",
      "        In case subplots=True, share x axis and set some x axis labels to\n",
      "        invisible; defaults to True if ax is None otherwise False if an ax\n",
      "        is passed in; Be aware, that passing in both an ax and sharex=True\n",
      "        will alter all x axis labels for all subplots in a figure!\n",
      "    sharey : boolean, default False\n",
      "        In case subplots=True, share y axis and set some y axis labels to\n",
      "        invisible\n",
      "    figsize : tuple\n",
      "        The size of the figure to create in inches by default\n",
      "    layout: (optional) a tuple (rows, columns) for the layout of the histograms\n",
      "    bins: integer, default 10\n",
      "        Number of histogram bins to be used\n",
      "    kwds : other plotting keyword arguments\n",
      "        To be passed to hist function\n",
      "\n"
     ]
    }
   ],
   "source": [
    "help(tmp_df.hist)"
   ]
  },
  {
   "cell_type": "code",
   "execution_count": null,
   "metadata": {
    "collapsed": true
   },
   "outputs": [],
   "source": []
  },
  {
   "cell_type": "code",
   "execution_count": null,
   "metadata": {
    "collapsed": true
   },
   "outputs": [],
   "source": []
  },
  {
   "cell_type": "code",
   "execution_count": null,
   "metadata": {
    "collapsed": true
   },
   "outputs": [],
   "source": []
  },
  {
   "cell_type": "code",
   "execution_count": 10,
   "metadata": {
    "collapsed": false
   },
   "outputs": [],
   "source": [
    "#data_filename, delimiter, data_set = os.path.sep.join(['ml-100k', 'u.data']), '\\t', '100K'\n",
    "data_filename, delimiter, data_set = os.path.sep.join(['ml-1m', 'ratings.dat']), '::', '1M'\n",
    "#data_filename, delimiter, data_set = os.path.sep.join(['ml-10M100K', 'ratings.dat']), '::', '10M'\n"
   ]
  },
  {
   "cell_type": "code",
   "execution_count": 11,
   "metadata": {
    "collapsed": true
   },
   "outputs": [],
   "source": [
    "\n",
    "def extract_movies_from_file(filename, delimiter):\n",
    "    train = None\n",
    "    data = []\n",
    "\n",
    "    with open(filename , 'r') as f:\n",
    "        for i, line in enumerate(f):\n",
    "            userId, movieId, rating, timestamp = line.split(delimiter)\n",
    "            #userId = int(userId)\n",
    "            movieId = int(movieId)\n",
    "            #rating = float(rating)\n",
    "            #timestamp = int(timestamp)\n",
    "\n",
    "            data.append(movieId)\n",
    "    \n",
    "    return data"
   ]
  },
  {
   "cell_type": "code",
   "execution_count": 12,
   "metadata": {
    "collapsed": true
   },
   "outputs": [],
   "source": [
    "movies = extract_movies_from_file(data_filename, delimiter)\n"
   ]
  },
  {
   "cell_type": "code",
   "execution_count": 13,
   "metadata": {
    "collapsed": false
   },
   "outputs": [
    {
     "data": {
      "text/plain": [
       "1000209"
      ]
     },
     "execution_count": 13,
     "metadata": {},
     "output_type": "execute_result"
    }
   ],
   "source": [
    "# When using ml-1m dataset, len(movies) should be around 1 million.\n",
    "len(movies)"
   ]
  },
  {
   "cell_type": "code",
   "execution_count": 32,
   "metadata": {
    "collapsed": true
   },
   "outputs": [],
   "source": [
    "movie_freq = coll.Counter(movies)"
   ]
  },
  {
   "cell_type": "code",
   "execution_count": 33,
   "metadata": {
    "collapsed": false
   },
   "outputs": [
    {
     "data": {
      "text/plain": [
       "3706"
      ]
     },
     "execution_count": 33,
     "metadata": {},
     "output_type": "execute_result"
    }
   ],
   "source": [
    "len(movie_freq)"
   ]
  },
  {
   "cell_type": "code",
   "execution_count": 34,
   "metadata": {
    "collapsed": false
   },
   "outputs": [
    {
     "data": {
      "text/plain": [
       "3706"
      ]
     },
     "execution_count": 34,
     "metadata": {},
     "output_type": "execute_result"
    }
   ],
   "source": [
    "movie_ids = movie_freq.keys()\n",
    "len(movie_ids)"
   ]
  },
  {
   "cell_type": "code",
   "execution_count": 35,
   "metadata": {
    "collapsed": true
   },
   "outputs": [],
   "source": [
    "movie_freq = movie_freq.items()"
   ]
  },
  {
   "cell_type": "code",
   "execution_count": 21,
   "metadata": {
    "collapsed": true
   },
   "outputs": [],
   "source": [
    "#movie_freq.sort(key=lambda x: x[1] * (-1))"
   ]
  },
  {
   "cell_type": "code",
   "execution_count": 24,
   "metadata": {
    "collapsed": false
   },
   "outputs": [
    {
     "data": {
      "text/plain": [
       "[(2858, 3428),\n",
       " (260, 2991),\n",
       " (1196, 2990),\n",
       " (1210, 2883),\n",
       " (480, 2672),\n",
       " (2028, 2653),\n",
       " (589, 2649),\n",
       " (2571, 2590),\n",
       " (1270, 2583),\n",
       " (593, 2578)]"
      ]
     },
     "execution_count": 24,
     "metadata": {},
     "output_type": "execute_result"
    }
   ],
   "source": [
    "#movie_freq[:10]"
   ]
  },
  {
   "cell_type": "code",
   "execution_count": 47,
   "metadata": {
    "collapsed": false
   },
   "outputs": [
    {
     "data": {
      "image/png": "[encoded data removed]",
      "text/plain": [
       "<matplotlib.figure.Figure at 0xa8bd1a8c>"
      ]
     },
     "metadata": {},
     "output_type": "display_data"
    }
   ],
   "source": [
    "freq_list = [x[1] for x in movie_freq]\n",
    "df = pd.DataFrame(data=freq_list)\n",
    "\n",
    "ax, = df.hist(bins=30)\n",
    "ax = ax[0]\n",
    "#legend = ax.legend()\n",
    "#font = font_manager.FontProperties(fname='/home/wsyj/Downloads/simsun.ttc')\n",
    "#\n",
    "#for text in legend.texts:\n",
    "#    text.set_font_properties(font)\n",
    "#    \n",
    "ax.set_title('')\n",
    "ax.set_xlim([0, 1500])\n",
    "plt.xlabel(u'电影流行度', fontproperties=font)\n",
    "plt.ylabel(u'电影数(部)', fontproperties=font)\n",
    "\n",
    "fig = plt.gcf()\n",
    "fig.set_size_inches(12, 8, forward=True)\n",
    "plt.show()"
   ]
  },
  {
   "cell_type": "code",
   "execution_count": 40,
   "metadata": {
    "collapsed": false
   },
   "outputs": [
    {
     "name": "stdout",
     "output_type": "stream",
     "text": [
      "Axes(0.125,0.125;0.775x0.755)\n"
     ]
    }
   ],
   "source": [
    "print ax"
   ]
  },
  {
   "cell_type": "code",
   "execution_count": null,
   "metadata": {
    "collapsed": true
   },
   "outputs": [],
   "source": []
  },
  {
   "cell_type": "code",
   "execution_count": null,
   "metadata": {
    "collapsed": true
   },
   "outputs": [],
   "source": []
  }
 ],
 "metadata": {
  "kernelspec": {
   "display_name": "Python 2",
   "language": "python",
   "name": "python2"
  },
  "language_info": {
   "codemirror_mode": {
    "name": "ipython",
    "version": 2
   },
   "file_extension": ".py",
   "mimetype": "text/x-python",
   "name": "python",
   "nbconvert_exporter": "python",
   "pygments_lexer": "ipython2",
   "version": "2.7.13"
  }
 },
 "nbformat": 4,
 "nbformat_minor": 2
}
