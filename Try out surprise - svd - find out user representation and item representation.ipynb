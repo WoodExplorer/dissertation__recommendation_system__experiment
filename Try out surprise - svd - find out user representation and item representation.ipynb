{
 "cells": [
  {
   "cell_type": "code",
   "execution_count": 1,
   "metadata": {
    "collapsed": false,
    "scrolled": false
   },
   "outputs": [
    {
     "name": "stdout",
     "output_type": "stream",
     "text": [
      "Evaluating RMSE, MAE of algorithm SVD.\n",
      "\n",
      "------------\n",
      "Fold 1\n",
      "RMSE: 0.9451\n",
      "MAE:  0.7484\n",
      "------------\n",
      "Fold 2\n",
      "RMSE: 0.9450\n",
      "MAE:  0.7431\n",
      "------------\n",
      "Fold 3\n",
      "RMSE: 0.9414\n",
      "MAE:  0.7417\n",
      "------------\n",
      "------------\n",
      "Mean RMSE: 0.9438\n",
      "Mean MAE : 0.7444\n",
      "------------\n",
      "------------\n",
      "        Fold 1  Fold 2  Fold 3  Mean    \n",
      "MAE     0.7484  0.7431  0.7417  0.7444  \n",
      "RMSE    0.9451  0.9450  0.9414  0.9438  \n"
     ]
    }
   ],
   "source": [
    "from surprise import SVD\n",
    "from surprise import Dataset\n",
    "from surprise import evaluate, print_perf\n",
    "\n",
    "\n",
    "# Load the movielens-100k dataset (download it if needed),\n",
    "# and split it into 3 folds for cross-validation.\n",
    "data = Dataset.load_builtin('ml-100k')\n",
    "data.split(n_folds=3)\n",
    "\n",
    "# We'll use the famous SVD algorithm.\n",
    "algo = SVD()\n",
    "\n",
    "# Evaluate performances of our algorithm on the dataset.\n",
    "perf = evaluate(algo, data, measures=['RMSE', 'MAE'])\n",
    "\n",
    "print_perf(perf)\n",
    "\n"
   ]
  },
  {
   "cell_type": "code",
   "execution_count": 2,
   "metadata": {
    "collapsed": false
   },
   "outputs": [
    {
     "data": {
      "text/plain": [
       "['__doc__',\n",
       " '__init__',\n",
       " '__module__',\n",
       " '__qualname__',\n",
       " 'bi',\n",
       " 'biased',\n",
       " 'bsl_options',\n",
       " 'bu',\n",
       " 'compute_baselines',\n",
       " 'compute_similarities',\n",
       " 'estimate',\n",
       " 'lr_bi',\n",
       " 'lr_bu',\n",
       " 'lr_pu',\n",
       " 'lr_qi',\n",
       " 'n_epochs',\n",
       " 'n_factors',\n",
       " 'predict',\n",
       " 'pu',\n",
       " 'qi',\n",
       " 'reg_bi',\n",
       " 'reg_bu',\n",
       " 'reg_pu',\n",
       " 'reg_qi',\n",
       " 'sgd',\n",
       " 'sim_options',\n",
       " 'test',\n",
       " 'train',\n",
       " 'trainset',\n",
       " 'verbose']"
      ]
     },
     "execution_count": 2,
     "metadata": {},
     "output_type": "execute_result"
    }
   ],
   "source": [
    "dir(algo)"
   ]
  },
  {
   "cell_type": "code",
   "execution_count": 3,
   "metadata": {
    "collapsed": false
   },
   "outputs": [
    {
     "data": {
      "text/plain": [
       "array([[ 0.09242794,  0.09242794,  0.09242794, ...,  0.09242794,\n",
       "         0.09242794,  0.09242794],\n",
       "       [ 0.07207758,  0.07207758,  0.07207758, ...,  0.07207758,\n",
       "         0.07207758,  0.07207758],\n",
       "       [ 0.1221947 ,  0.1221947 ,  0.1221947 , ...,  0.1221947 ,\n",
       "         0.1221947 ,  0.1221947 ],\n",
       "       ..., \n",
       "       [ 0.03560846,  0.03560846,  0.03560846, ...,  0.03560846,\n",
       "         0.03560846,  0.03560846],\n",
       "       [ 0.09573976,  0.09573976,  0.09573976, ...,  0.09573976,\n",
       "         0.09573976,  0.09573976],\n",
       "       [ 0.04885726,  0.04885726,  0.04885726, ...,  0.04885726,\n",
       "         0.04885726,  0.04885726]])"
      ]
     },
     "execution_count": 3,
     "metadata": {},
     "output_type": "execute_result"
    }
   ],
   "source": [
    "algo.pu"
   ]
  },
  {
   "cell_type": "code",
   "execution_count": 4,
   "metadata": {
    "collapsed": false
   },
   "outputs": [
    {
     "data": {
      "text/plain": [
       "<bound method SVD.sgd of <surprise.prediction_algorithms.matrix_factorization.SVD instance at 0xb68c578c>>"
      ]
     },
     "execution_count": 4,
     "metadata": {},
     "output_type": "execute_result"
    }
   ],
   "source": [
    "algo.sgd"
   ]
  },
  {
   "cell_type": "code",
   "execution_count": null,
   "metadata": {
    "collapsed": true
   },
   "outputs": [],
   "source": []
  }
 ],
 "metadata": {
  "kernelspec": {
   "display_name": "Python 2",
   "language": "python",
   "name": "python2"
  },
  "language_info": {
   "codemirror_mode": {
    "name": "ipython",
    "version": 2
   },
   "file_extension": ".py",
   "mimetype": "text/x-python",
   "name": "python",
   "nbconvert_exporter": "python",
   "pygments_lexer": "ipython2",
   "version": "2.7.13"
  }
 },
 "nbformat": 4,
 "nbformat_minor": 2
}
