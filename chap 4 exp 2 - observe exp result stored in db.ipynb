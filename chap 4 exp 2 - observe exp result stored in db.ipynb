{
 "cells": [
  {
   "cell_type": "code",
   "execution_count": null,
   "metadata": {
    "collapsed": true
   },
   "outputs": [],
   "source": [
    "\"\"\" The experiment is carried out by try1.py, with '--compare_variants=True' option.\n",
    "\n",
    "This notebook is merely for observation purpose.\n",
    "\"\"\""
   ]
  },
  {
   "cell_type": "code",
   "execution_count": 1,
   "metadata": {
    "collapsed": true
   },
   "outputs": [],
   "source": [
    "import sqlite3\n"
   ]
  },
  {
   "cell_type": "code",
   "execution_count": 2,
   "metadata": {
    "collapsed": true
   },
   "outputs": [],
   "source": [
    "table_name = 'metrics__chap4_exp2_across_variants__N_20__iter_30__da_1M'"
   ]
  },
  {
   "cell_type": "code",
   "execution_count": 3,
   "metadata": {
    "collapsed": true
   },
   "outputs": [],
   "source": [
    "cx = sqlite3.connect('my_metrics.db')\n",
    "cur = cx.cursor()"
   ]
  },
  {
   "cell_type": "code",
   "execution_count": 31,
   "metadata": {
    "collapsed": false
   },
   "outputs": [
    {
     "name": "stdout",
     "output_type": "stream",
     "text": [
      "              rating\t    0.329583333\t   0.0494928701\t   0.0860619842\n",
      "         rating_time\t    0.295208333\t   0.0443308451\t   0.0770858607\n",
      "         simple_time\t        0.29225\t   0.0438865981\t   0.0763133701\n",
      "              simple\t    0.329583333\t   0.0494928701\t   0.0860619842\n",
      "        simple_tfidf\t    0.324708333\t   0.0487608011\t   0.0847890067\n",
      "   simple_time_tfidf\t    0.295541667\t   0.0443809011\t   0.0771729019\n",
      "   rating_time_tfidf\t        0.29775\t   0.0447125221\t   0.0777495498\n",
      "        rating_tfidf\t    0.331583333\t   0.0497932061\t   0.0865842314\n"
     ]
    }
   ],
   "source": [
    "cur.execute('select * from %s' % table_name)\n",
    "r = cur.fetchall()\n",
    "\n",
    "for x in r:\n",
    "    #print x[-5:-1]\n",
    "    \n",
    "    variant, precision, recall, f1 = x[-5:-1]\n",
    "    print '%20s\\t%15.9g\\t%15.9g\\t%15.9g' % (variant, precision, recall, f1)\n",
    "    #print"
   ]
  },
  {
   "cell_type": "code",
   "execution_count": null,
   "metadata": {
    "collapsed": true
   },
   "outputs": [],
   "source": [
    "cx.close()"
   ]
  },
  {
   "cell_type": "code",
   "execution_count": null,
   "metadata": {
    "collapsed": true
   },
   "outputs": [],
   "source": []
  },
  {
   "cell_type": "code",
   "execution_count": null,
   "metadata": {
    "collapsed": true
   },
   "outputs": [],
   "source": []
  },
  {
   "cell_type": "code",
   "execution_count": null,
   "metadata": {
    "collapsed": true
   },
   "outputs": [],
   "source": []
  }
 ],
 "metadata": {
  "kernelspec": {
   "display_name": "Python 2",
   "language": "python",
   "name": "python2"
  },
  "language_info": {
   "codemirror_mode": {
    "name": "ipython",
    "version": 2
   },
   "file_extension": ".py",
   "mimetype": "text/x-python",
   "name": "python",
   "nbconvert_exporter": "python",
   "pygments_lexer": "ipython2",
   "version": "2.7.13"
  }
 },
 "nbformat": 4,
 "nbformat_minor": 2
}
