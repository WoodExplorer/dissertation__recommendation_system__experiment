{
 "cells": [
  {
   "cell_type": "code",
   "execution_count": 1,
   "metadata": {
    "collapsed": false
   },
   "outputs": [
    {
     "name": "stderr",
     "output_type": "stream",
     "text": [
      "2017-04-06 16:19:12,013 : INFO : 'pattern' package not found; tag filters are not available for English\n",
      "2017-04-06 16:19:13,527 : INFO : loading Word2Vec object from /home/wsyj/dissertation__recommendation_system__experiment_2/dissertation__recommendation_system__experiment/main_modelnum_features=100_min_count=1_window=1_iter=30.model\n",
      "2017-04-06 16:19:13,536 : INFO : loading wv recursively from /home/wsyj/dissertation__recommendation_system__experiment_2/dissertation__recommendation_system__experiment/main_modelnum_features=100_min_count=1_window=1_iter=30.model.wv.* with mmap=None\n",
      "2017-04-06 16:19:13,536 : INFO : setting ignored attribute syn0norm to None\n",
      "2017-04-06 16:19:13,536 : INFO : setting ignored attribute cum_table to None\n",
      "2017-04-06 16:19:13,537 : INFO : loaded /home/wsyj/dissertation__recommendation_system__experiment_2/dissertation__recommendation_system__experiment/main_modelnum_features=100_min_count=1_window=1_iter=30.model\n"
     ]
    },
    {
     "name": "stdout",
     "output_type": "stream",
     "text": [
      "sort_by_time: False\n",
      "total_user_item_comb: 4387464\n",
      "metric calculation: time consumption: 0\n",
      "metrics: {'recall': 6.8827000206481e-05, 'precision': 0.0004583333333333333, 'f1': 0.00011968164681946024}\n"
     ]
    }
   ],
   "source": []
  }
 ],
 "metadata": {
  "kernelspec": {
   "display_name": "Python 2",
   "language": "python",
   "name": "python2"
  },
  "language_info": {
   "codemirror_mode": {
    "name": "ipython",
    "version": 2
   },
   "file_extension": ".py",
   "mimetype": "text/x-python",
   "name": "python",
   "nbconvert_exporter": "python",
   "pygments_lexer": "ipython2",
   "version": "2.7.13"
  }
 },
 "nbformat": 4,
 "nbformat_minor": 2
}
