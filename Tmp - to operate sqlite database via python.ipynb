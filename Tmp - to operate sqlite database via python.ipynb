{
 "cells": [
  {
   "cell_type": "code",
   "execution_count": 1,
   "metadata": {
    "collapsed": true
   },
   "outputs": [],
   "source": [
    "import sqlite3\n"
   ]
  },
  {
   "cell_type": "code",
   "execution_count": 2,
   "metadata": {
    "collapsed": true
   },
   "outputs": [],
   "source": [
    "cx = sqlite3.connect('my_metrics.db')\n",
    "cur = cx.cursor()\n"
   ]
  },
  {
   "cell_type": "code",
   "execution_count": 6,
   "metadata": {
    "collapsed": false,
    "scrolled": true
   },
   "outputs": [
    {
     "data": {
      "text/plain": [
       "[(u'tmp',),\n",
       " (u'tmp2',),\n",
       " (u'metrics',),\n",
       " (u'sqlite_sequence',),\n",
       " (u'metrics_N_20',),\n",
       " (u'metrics_N_20__iter_4__batch_words_1',),\n",
       " (u'metrics_N_20__iter_4__batch_words_10000',),\n",
       " (u'metrics_N_20__iter_4__batch_words_10000__da_1M',),\n",
       " (u'metrics_N_20__iter_5__batch_words_10000__da_1M',),\n",
       " (u'metrics_N_20__iter_10__batch_words_10000__da_1M',),\n",
       " (u'metrics_N_20__iter_20__batch_words_10000__da_1M',),\n",
       " (u'metrics_N_20__iter_40__batch_words_10000__da_1M',),\n",
       " (u'metrics_N_20__iter_80__batch_words_10000__da_1M',),\n",
       " (u'metrics_N_20__iter_60__batch_words_10000__da_1M',),\n",
       " (u'metrics_N_20__iter_30__batch_words_10000__da_1M',),\n",
       " (u'metrics_N_20__iter_35__batch_words_10000__da_1M',),\n",
       " (u'ttratio__metrics_N_20__iter_35__batch_words_10000__da_1M',),\n",
       " (u'ttratio_tiratio__metrics_N_20__iter_35__batch_words_10000__da_1M',),\n",
       " (u'metrics__normalized_user_repr__N_20__iter_35__batch_words_10000__da_1M',),\n",
       " (u'metrics__normalized_user_repr__N_20__iter_30__batch_words_10000__da_1M',),\n",
       " (u'metrics__chap4_exp2_across_variants__N_20__iter_30__da_1M',),\n",
       " (u'metrics__chap4_exp4_time_complexity__N_20__iter_30__da_1M',),\n",
       " (u'metrics__chap4_exp3_word2vec_hyper__N_20__iter_30__da_1M',),\n",
       " (u'metrics__chap4_exp4_time_complexity__SVD__N_20__da_1M',),\n",
       " (u'metrics__chap4_exp4_time_complexity__content_based__N_20__da_1M',),\n",
       " (u'metrics__chap4_exp4_time_complexity__CF__N_20__da_1M',),\n",
       " (u'tmp1',),\n",
       " (u'metrics__chap4_observe_CF_when_K_varies__N_20__da_1M',),\n",
       " (u'metrics__chap4_observe_word2ve_when_K_varies__N_20__iter_30__da_1M',),\n",
       " (u'metrcis__chap2_exp3_coefficient',),\n",
       " (u'metrcis__chap2_exp4_time_complexity_redo',),\n",
       " (u'metrics__chap4_exp1_across_32_variants__N_20___da_1M',)]"
      ]
     },
     "execution_count": 6,
     "metadata": {},
     "output_type": "execute_result"
    }
   ],
   "source": [
    "cur.execute('SELECT name FROM sqlite_master')\n",
    "cur.fetchall()"
   ]
  },
  {
   "cell_type": "code",
   "execution_count": 4,
   "metadata": {
    "collapsed": false,
    "scrolled": true
   },
   "outputs": [
    {
     "data": {
      "text/plain": [
       "<sqlite3.Cursor at 0xb46ce560>"
      ]
     },
     "execution_count": 4,
     "metadata": {},
     "output_type": "execute_result"
    }
   ],
   "source": [
    "cur.execute('drop table metrics__chap4_exp1_across_32_variants__N_20__iter_30__da_1M')"
   ]
  },
  {
   "cell_type": "code",
   "execution_count": null,
   "metadata": {
    "collapsed": true
   },
   "outputs": [],
   "source": []
  },
  {
   "cell_type": "code",
   "execution_count": 10,
   "metadata": {
    "collapsed": false
   },
   "outputs": [
    {
     "name": "stdout",
     "output_type": "stream",
     "text": [
      "(1, u'0', u'rating', u'CF', 5, 5, 100, 0.025, 5, 0.30983333333333335, 0.04652705213958116, 0.08090479324995513, u'2017-04-06 14:44:05')\n",
      "(2, u'0', u'rating', u'content-based', 5, 5, 100, 0.025, 5, 0.3095, 0.04647699613943099, 0.08081775205226824, u'2017-04-06 14:44:24')\n"
     ]
    }
   ],
   "source": [
    "cur.execute('select * from metrics__chap4_exp1_across_32_variants__N_20___da_1M')\n",
    "r = cur.fetchall()\n",
    "for i in r:\n",
    "    print i"
   ]
  }
 ],
 "metadata": {
  "kernelspec": {
   "display_name": "Python 2",
   "language": "python",
   "name": "python2"
  },
  "language_info": {
   "codemirror_mode": {
    "name": "ipython",
    "version": 2
   },
   "file_extension": ".py",
   "mimetype": "text/x-python",
   "name": "python",
   "nbconvert_exporter": "python",
   "pygments_lexer": "ipython2",
   "version": "2.7.13"
  }
 },
 "nbformat": 4,
 "nbformat_minor": 2
}
