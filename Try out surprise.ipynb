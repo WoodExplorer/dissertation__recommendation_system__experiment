{
 "cells": [
  {
   "cell_type": "code",
   "execution_count": 1,
   "metadata": {
    "collapsed": false,
    "scrolled": true
   },
   "outputs": [
    {
     "name": "stdout",
     "output_type": "stream",
     "text": [
      "Dataset ml-100k could not be found. Do you want to download it? [Y/n] Y\n",
      "Trying to download dataset from http://files.grouplens.org/datasets/movielens/ml-100k.zip...\n",
      "Done! Dataset ml-100k has been saved to /home/wsyj/.surprise_data/ml-100k\n",
      "Evaluating RMSE, MAE of algorithm SVD.\n",
      "\n",
      "------------\n",
      "Fold 1\n",
      "RMSE: 0.9425\n",
      "MAE:  0.7421\n",
      "------------\n",
      "Fold 2\n",
      "RMSE: 0.9418\n",
      "MAE:  0.7434\n",
      "------------\n",
      "Fold 3\n",
      "RMSE: 0.9465\n",
      "MAE:  0.7473\n",
      "------------\n",
      "------------\n",
      "Mean RMSE: 0.9436\n",
      "Mean MAE : 0.7443\n",
      "------------\n",
      "------------\n",
      "        Fold 1  Fold 2  Fold 3  Mean    \n",
      "MAE     0.7421  0.7434  0.7473  0.7443  \n",
      "RMSE    0.9425  0.9418  0.9465  0.9436  \n"
     ]
    }
   ],
   "source": [
    "from surprise import SVD\n",
    "from surprise import Dataset\n",
    "from surprise import evaluate, print_perf\n",
    "\n",
    "\n",
    "# Load the movielens-100k dataset (download it if needed),\n",
    "# and split it into 3 folds for cross-validation.\n",
    "data = Dataset.load_builtin('ml-100k')\n",
    "data.split(n_folds=3)\n",
    "\n",
    "# We'll use the famous SVD algorithm.\n",
    "algo = SVD()\n",
    "\n",
    "# Evaluate performances of our algorithm on the dataset.\n",
    "perf = evaluate(algo, data, measures=['RMSE', 'MAE'])\n",
    "\n",
    "print_perf(perf)\n",
    "\n"
   ]
  },
  {
   "cell_type": "code",
   "execution_count": 2,
   "metadata": {
    "collapsed": false,
    "scrolled": true
   },
   "outputs": [
    {
     "data": {
      "text/plain": [
       "['__doc__',\n",
       " '__init__',\n",
       " '__module__',\n",
       " '__qualname__',\n",
       " 'bi',\n",
       " 'biased',\n",
       " 'bsl_options',\n",
       " 'bu',\n",
       " 'compute_baselines',\n",
       " 'compute_similarities',\n",
       " 'estimate',\n",
       " 'lr_bi',\n",
       " 'lr_bu',\n",
       " 'lr_pu',\n",
       " 'lr_qi',\n",
       " 'n_epochs',\n",
       " 'n_factors',\n",
       " 'predict',\n",
       " 'pu',\n",
       " 'qi',\n",
       " 'reg_bi',\n",
       " 'reg_bu',\n",
       " 'reg_pu',\n",
       " 'reg_qi',\n",
       " 'sgd',\n",
       " 'sim_options',\n",
       " 'test',\n",
       " 'train',\n",
       " 'trainset',\n",
       " 'verbose']"
      ]
     },
     "execution_count": 2,
     "metadata": {},
     "output_type": "execute_result"
    }
   ],
   "source": [
    "dir(algo)"
   ]
  },
  {
   "cell_type": "code",
   "execution_count": 4,
   "metadata": {
    "collapsed": false
   },
   "outputs": [
    {
     "name": "stdout",
     "output_type": "stream",
     "text": [
      "Help on method predict in module surprise.prediction_algorithms.algo_base:\n",
      "\n",
      "predict(self, uid, iid, r_ui, clip=True, verbose=False) method of surprise.prediction_algorithms.matrix_factorization.SVD instance\n",
      "    Compute the rating prediction for given user and item.\n",
      "    \n",
      "    The ``predict`` method converts raw ids to inner ids and then calls the\n",
      "    ``estimate`` method which is defined in every derived class. If the\n",
      "    prediction is impossible (for whatever reason), the prediction is set\n",
      "    to the global mean of all ratings.\n",
      "    \n",
      "    Args:\n",
      "        uid: (Raw) id of the user. See :ref:`this note<raw_inner_note>`.\n",
      "        iid: (Raw) id of the item. See :ref:`this note<raw_inner_note>`.\n",
      "        r_ui(float): The true rating :math:`r_{ui}`.\n",
      "        clip(bool): Whether to clip the estimation into the rating scale.\n",
      "            For example, if :math:`\\hat{r}_{ui}` is :math:`5.5` while the\n",
      "            rating scale is :math:`[1, 5]`, then :math:`\\hat{r}_{ui}` is\n",
      "            set to :math:`5`. Same goes if :math:`\\hat{r}_{ui} < 1`.\n",
      "            Default is ``True``.\n",
      "        verbose(bool): Whether to print details of the prediction.  Default\n",
      "            is False.\n",
      "    \n",
      "    Returns:\n",
      "        A :obj:`Prediction            <surprise.prediction_algorithms.predictions.Prediction>` object.\n",
      "\n"
     ]
    }
   ],
   "source": [
    "help(algo.predict)"
   ]
  },
  {
   "cell_type": "code",
   "execution_count": 5,
   "metadata": {
    "collapsed": false
   },
   "outputs": [
    {
     "name": "stdout",
     "output_type": "stream",
     "text": [
      "Help on method train in module surprise.prediction_algorithms.matrix_factorization:\n",
      "\n",
      "train(...) method of surprise.prediction_algorithms.matrix_factorization.SVD instance\n",
      "\n"
     ]
    }
   ],
   "source": [
    "help(algo.train)"
   ]
  },
  {
   "cell_type": "code",
   "execution_count": 6,
   "metadata": {
    "collapsed": true
   },
   "outputs": [],
   "source": [
    "# from https://github.com/NicolasHug/Surprise/blob/master/examples/load_custom_dataset.py\n",
    "\n",
    "import os\n",
    "\n",
    "#from surprise import BaselineOnly\n",
    "from surprise import Dataset\n",
    "#from surprise import evaluate\n",
    "from surprise import Reader\n",
    "\n",
    "# path to dataset file\n",
    "#file_path = os.path.expanduser('~/.surprise_data/ml-100k/ml-100k/u.data')\n",
    "file_path = '/home/wsyj/dissertation__recommendation_system__experiment_2/dissertation__recommendation_system__experiment/ml-1m/ratings.dat'\n",
    "\n",
    "# As we're loading a custom dataset, we need to define a reader. In the\n",
    "# movielens-100k dataset, each line has the following format:\n",
    "# 'user item rating timestamp', separated by '\\t' characters.\n",
    "reader = Reader(line_format='user item rating timestamp', sep='::')\n",
    "\n",
    "data = Dataset.load_from_file(file_path, reader=reader)\n",
    "data.split(n_folds=5)\n",
    "\n",
    "## We'll use an algorithm that predicts baseline estimates.\n",
    "#algo = BaselineOnly()\n",
    "#\n",
    "## Evaluate performances of our algorithm on the dataset.\n",
    "#evaluate(algo, data)"
   ]
  },
  {
   "cell_type": "code",
   "execution_count": 9,
   "metadata": {
    "collapsed": true
   },
   "outputs": [],
   "source": [
    "\n",
    "# We'll use the famous SVD algorithm.\n",
    "algo = SVD()\n",
    "\n",
    "first_train = None\n",
    "first_test = None\n",
    "for trainset, testset in data.folds():\n",
    "    first_train, first_test = trainset, testset\n",
    "    \n",
    "# train and test algorithm.\n",
    "algo.train(first_train)\n",
    "predictions = algo.test(first_test)\n"
   ]
  },
  {
   "cell_type": "code",
   "execution_count": 10,
   "metadata": {
    "collapsed": false
   },
   "outputs": [
    {
     "data": {
      "text/plain": [
       "Prediction(uid='4543', iid='3852', r_ui=4.0, est=3.7678666099129741, details={u'was_impossible': False})"
      ]
     },
     "execution_count": 10,
     "metadata": {},
     "output_type": "execute_result"
    }
   ],
   "source": [
    "predictions[0]"
   ]
  },
  {
   "cell_type": "code",
   "execution_count": 11,
   "metadata": {
    "collapsed": false
   },
   "outputs": [
    {
     "data": {
      "text/plain": [
       "('4543', '3852', 4.0)"
      ]
     },
     "execution_count": 11,
     "metadata": {},
     "output_type": "execute_result"
    }
   ],
   "source": [
    "first_test[0]"
   ]
  },
  {
   "cell_type": "code",
   "execution_count": null,
   "metadata": {
    "collapsed": true
   },
   "outputs": [],
   "source": []
  },
  {
   "cell_type": "code",
   "execution_count": null,
   "metadata": {
    "collapsed": true
   },
   "outputs": [],
   "source": []
  },
  {
   "cell_type": "code",
   "execution_count": null,
   "metadata": {
    "collapsed": true
   },
   "outputs": [],
   "source": []
  },
  {
   "cell_type": "code",
   "execution_count": null,
   "metadata": {
    "collapsed": true
   },
   "outputs": [],
   "source": []
  },
  {
   "cell_type": "code",
   "execution_count": 7,
   "metadata": {
    "collapsed": false,
    "scrolled": false
   },
   "outputs": [
    {
     "data": {
      "text/plain": [
       "['__doc__',\n",
       " '__init__',\n",
       " '__module__',\n",
       " 'build_full_trainset',\n",
       " 'construct_testset',\n",
       " 'construct_trainset',\n",
       " 'folds',\n",
       " 'load_builtin',\n",
       " 'load_from_file',\n",
       " 'load_from_folds',\n",
       " 'n_folds',\n",
       " 'ratings_file',\n",
       " 'raw_folds',\n",
       " 'raw_ratings',\n",
       " 'read_ratings',\n",
       " 'reader',\n",
       " 'shuffle',\n",
       " 'split']"
      ]
     },
     "execution_count": 7,
     "metadata": {},
     "output_type": "execute_result"
    }
   ],
   "source": [
    "dir(data)\n"
   ]
  },
  {
   "cell_type": "code",
   "execution_count": 8,
   "metadata": {
    "collapsed": false
   },
   "outputs": [
    {
     "name": "stdout",
     "output_type": "stream",
     "text": [
      "<surprise.dataset.DatasetAutoFolds instance at 0xa93b6e0c>\n"
     ]
    }
   ],
   "source": [
    "print data"
   ]
  },
  {
   "cell_type": "code",
   "execution_count": null,
   "metadata": {
    "collapsed": true
   },
   "outputs": [],
   "source": []
  }
 ],
 "metadata": {
  "kernelspec": {
   "display_name": "Python 2",
   "language": "python",
   "name": "python2"
  },
  "language_info": {
   "codemirror_mode": {
    "name": "ipython",
    "version": 2
   },
   "file_extension": ".py",
   "mimetype": "text/x-python",
   "name": "python",
   "nbconvert_exporter": "python",
   "pygments_lexer": "ipython2",
   "version": "2.7.13"
  }
 },
 "nbformat": 4,
 "nbformat_minor": 2
}
