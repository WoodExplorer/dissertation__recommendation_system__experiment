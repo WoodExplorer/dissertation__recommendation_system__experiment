{
 "cells": [
  {
   "cell_type": "code",
   "execution_count": 6,
   "metadata": {
    "collapsed": true
   },
   "outputs": [],
   "source": [
    "import sqlite3\n",
    "import pandas as pd\n",
    "import gensim\n",
    "import numpy as np\n",
    "import matplotlib.pyplot as plt\n",
    "from time import time\n",
    "from sklearn.cluster import KMeans\n",
    "from sklearn import metrics\n",
    "import os"
   ]
  },
  {
   "cell_type": "code",
   "execution_count": 15,
   "metadata": {
    "collapsed": true
   },
   "outputs": [],
   "source": [
    "# obsolete\n",
    "\n",
    "#cx = sqlite3.connect('/home/wsyj/dissertation__imdb/005_scrapy_hello/tutorial/tutorial/spiders/my_db.db')"
   ]
  },
  {
   "cell_type": "code",
   "execution_count": 2,
   "metadata": {
    "collapsed": true
   },
   "outputs": [],
   "source": [
    "# load word2vec model\n",
    "model_path = '/home/wsyj/dissertation__recommendation_system__experiment_2/dissertation__recommendation_system__experiment/main_modelnum_features=100_min_count=1_window=1_iter=30.model'\n",
    "\n",
    "#model = gensim.models.Word2Vec.load('/home/wsyj/dissertation__recommendation_system__experiment_2/dissertation__recommendation_system__experiment/main_modelnum_features=200_min_count=5_window=2.model' )\n",
    "model = gensim.models.Word2Vec.load(model_path)"
   ]
  },
  {
   "cell_type": "code",
   "execution_count": 16,
   "metadata": {
    "collapsed": true
   },
   "outputs": [],
   "source": [
    "# obsolete\n",
    "\n",
    "#cur.execute('select distinct(item_id) from items_with_synopsis')\n",
    "#r = cur.fetchall()\n",
    "#r = [x[0] for x in r]"
   ]
  },
  {
   "cell_type": "code",
   "execution_count": 34,
   "metadata": {
    "collapsed": false
   },
   "outputs": [],
   "source": [
    "obsolete\n",
    "\n",
    "vec_list = []\n",
    "for item in r:\n",
    "    key = str(item)\n",
    "    if key not in model:\n",
    "        continue\n",
    "    vec_list.append(model[key])\n",
    "data = np.array(vec_list    )"
   ]
  },
  {
   "cell_type": "code",
   "execution_count": 3,
   "metadata": {
    "collapsed": true
   },
   "outputs": [],
   "source": [
    "vec_list = []\n",
    "for key in model.vocab:\n",
    "    vec_list.append(model[key])\n",
    "data = np.array(vec_list)"
   ]
  },
  {
   "cell_type": "code",
   "execution_count": 4,
   "metadata": {
    "collapsed": false
   },
   "outputs": [],
   "source": [
    "obsolete\n",
    "\n",
    "# get all genres\n",
    "cur = cx.cursor()\n",
    "\n",
    "cur.execute('select genres from genres_of_items_with_synopsis')\n",
    "\n",
    "ret = cur.fetchall()\n",
    "len(ret)\n",
    "#442\n",
    "ret = [x[0] for x in ret]\n",
    "len(ret)\n",
    "#442\n",
    "ret[0]\n",
    "ret = ','.join(ret)\n",
    "ret = ret.split(',')\n",
    "len(ret)\n",
    "#1300\n",
    "len(set(ret))\n",
    "#21\n",
    "all_genres = set(ret)\n",
    "all_genres = list(all_genres)\n",
    "all_genres.sort()\n",
    "\n",
    "print all_genres"
   ]
  },
  {
   "cell_type": "code",
   "execution_count": 4,
   "metadata": {
    "collapsed": true
   },
   "outputs": [],
   "source": [
    "all_genres = [\"Action\",\n",
    "\"Adventure\",\n",
    "\"Animation\",\n",
    "\"Children's\",\n",
    "\"Comedy\",\n",
    "\"Crime\",\n",
    "\"Documentary\",\n",
    "\"Drama\",\n",
    "\"Fantasy\",\n",
    "\"Film-Noir\",\n",
    "\"Horror\",\n",
    "\"Musical\",\n",
    "\"Mystery\",\n",
    "\"Romance\",\n",
    "\"Sci-Fi\",\n",
    "\"Thriller\",\n",
    "\"War\",\n",
    "\"Western\",]"
   ]
  },
  {
   "cell_type": "code",
   "execution_count": 8,
   "metadata": {
    "collapsed": true
   },
   "outputs": [],
   "source": [
    "def extract_genres(filename, delimiter, genre_delimiter):\n",
    "    data = {}\n",
    "\n",
    "    with open(filename , 'r') as f:\n",
    "        for i, line in enumerate(f):\n",
    "            itemId, title, genre_list = map(lambda x: x.strip(), line.split(delimiter))\n",
    "            \n",
    "            data[itemId] = genre_list.split(genre_delimiter)\n",
    "    return data\n",
    "\n",
    "\n",
    "item_file_name, item_file_delimiter, genre_delimiter = os.path.sep.join(['ml-1m', 'movies.dat']), '::', '|'\n",
    "item_info = extract_genres(item_file_name, item_file_delimiter, genre_delimiter)"
   ]
  },
  {
   "cell_type": "code",
   "execution_count": 31,
   "metadata": {
    "collapsed": true
   },
   "outputs": [],
   "source": [
    "\n",
    "\n",
    "# find out genres of items in a cluster\n",
    "def find_out_genres_of_items_in_a_cluster(cluster_label, y_pred, model):\n",
    "    c = data[y_pred == cluster_label]\n",
    "    \n",
    "    item_genres_list = []\n",
    "    for member in c:\n",
    "        item_id, simi = model.most_similar([member], topn=1)[0]\n",
    "        assert(simi > 0.99999)\n",
    "        \n",
    "        #cur.execute('select genres from genres_of_items_with_synopsis where item_id = %s' % item_id)\n",
    "        #ret = cur.fetchall()\n",
    "        #ret = [x[0] for x in ret]\n",
    "        #assert(1 == len(ret))\n",
    "        #\n",
    "        #item_genres_list.append((item_id, ret))\n",
    "        \n",
    "        item_genres_list.append((item_id, [','.join(item_info[item_id])]))\n",
    "    return item_genres_list\n",
    "\n"
   ]
  },
  {
   "cell_type": "code",
   "execution_count": 10,
   "metadata": {
    "collapsed": true
   },
   "outputs": [],
   "source": [
    "# find out genre distribution for items belonging to a single cluster\n",
    "def find_genre_dist(item_genres_list):\n",
    "    #print item_genres_list\n",
    "    dist_dist = reduce(lambda x, y: (None, x[1] + y[1]), item_genres_list)\n",
    "    dist_dist = dist_dist[1]\n",
    "    dist_dist = [x.split(',') for x in dist_dist]\n",
    "    dist_dist = reduce(lambda x, y: x + y, dist_dist)\n",
    "    \n",
    "    genre_set = set(dist_dist)\n",
    "    genre_unique_list = list(genre_set)\n",
    "    \n",
    "    dist = [(x, list(dist_dist).count(x)) for x in genre_unique_list]\n",
    "    dist.sort(key=lambda x: -1 * x[1])\n",
    "    \n",
    "    return dist"
   ]
  },
  {
   "cell_type": "code",
   "execution_count": 11,
   "metadata": {
    "collapsed": true
   },
   "outputs": [],
   "source": [
    "def bench_k_means(estimator, name, data, sample_size=300):\n",
    "    t0 = time()\n",
    "    estimator.fit(data)\n",
    "\n",
    "    print('% 9s   %.2fs    %.3f'\n",
    "          % (name, (time() - t0), \n",
    "             metrics.silhouette_score(data, estimator.labels_,\n",
    "                                      metric='euclidean',\n",
    "                                      sample_size=sample_size)\n",
    "))\n",
    "    \n",
    "    y_pred = estimator.predict(data)\n",
    "    return y_pred"
   ]
  },
  {
   "cell_type": "code",
   "execution_count": 47,
   "metadata": {
    "collapsed": false,
    "scrolled": true
   },
   "outputs": [
    {
     "name": "stdout",
     "output_type": "stream",
     "text": [
      "n_digits=38   k-means++   11.35s    0.116\n",
      "n_digits=39   k-means++   10.69s    0.107\n",
      "n_digits=40   k-means++   11.02s    0.108\n",
      "n_digits=41   k-means++   11.23s    0.111\n",
      "n_digits=42   k-means++   11.27s    0.113\n",
      "n_digits=43   k-means++   11.50s    0.114\n",
      "n_digits=44   k-means++   11.86s    0.114\n",
      "n_digits=45   k-means++   11.77s    0.088\n",
      "n_digits=46   k-means++   11.78s    0.104\n"
     ]
    },
    {
     "data": {
      "text/plain": [
       "0"
      ]
     },
     "execution_count": 47,
     "metadata": {},
     "output_type": "execute_result"
    }
   ],
   "source": [
    "pred_result_map = {}\n",
    "score_map = {}\n",
    "prm = pred_result_map\n",
    "sample_size = 300\n",
    "#for n_digits in range(51, 91):\n",
    "for n_digits in range(38, 47):\n",
    "#for n_digits in range(31, 51):\n",
    "#for n_digits in range(15, 31):\n",
    "#for n_digits in range(2, 15):\n",
    "    name = 'k-means++'\n",
    "    t0 = time()\n",
    "    estimator = KMeans(init=name, n_clusters=n_digits, n_init=100)\n",
    "    estimator.fit(data)\n",
    "    \n",
    "    silhouette_score = metrics.silhouette_score(data, estimator.labels_, metric='euclidean', sample_size=sample_size)\n",
    "    print('n_digits=%d   % 9s   %.2fs    %.3f' % (n_digits, name, (time() - t0), silhouette_score))\n",
    "    prm[n_digits] = estimator.labels_\n",
    "    score_map[n_digits] = silhouette_score\n",
    "\n",
    "'''\n",
    "1M:\n",
    "\n",
    "n_digits=2   k-means++   3.88s    0.037    0.037\n",
    "n_digits=3   k-means++   4.65s    0.028    0.035\n",
    "n_digits=4   k-means++   5.23s    0.042    0.044\n",
    "n_digits=5   k-means++   5.54s    0.053    0.053\n",
    "n_digits=6   k-means++   6.12s    0.055    0.055\n",
    "n_digits=7   k-means++   6.15s    0.054    0.057\n",
    "n_digits=8   k-means++   6.26s    0.070    0.059\n",
    "n_digits=9   k-means++   6.59s    0.066    0.071\n",
    "n_digits=10   k-means++   6.56s    0.071    0.067\n",
    "n_digits=11   k-means++   6.49s    0.075    0.068\n",
    "n_digits=12   k-means++   6.90s    0.076    0.077\n",
    "n_digits=13   k-means++   6.82s    0.089    0.076\n",
    "n_digits=14   k-means++   7.07s    0.085    0.086\n",
    "n_digits=15   k-means++   6.86s    0.080\n",
    "\n",
    "n_digits=16   k-means++   7.28s    0.094\n",
    "n_digits=17   k-means++   7.72s    0.089\n",
    "n_digits=18   k-means++   7.46s    0.090\n",
    "n_digits=19   k-means++   7.58s    0.095\n",
    "n_digits=20   k-means++   7.51s    0.093\n",
    "n_digits=21   k-means++   8.14s    0.083\n",
    "n_digits=22   k-means++   8.21s    0.103\n",
    "n_digits=23   k-means++   8.23s    0.089\n",
    "n_digits=24   k-means++   8.13s    0.115\n",
    "n_digits=25   k-means++   8.56s    0.109\n",
    "n_digits=26   k-means++   8.65s    0.113\n",
    "n_digits=27   k-means++   8.58s    0.103\n",
    "n_digits=28   k-means++   8.58s    0.105\n",
    "n_digits=29   k-means++   9.17s    0.107\n",
    "n_digits=30   k-means++   9.44s    0.100\n",
    "\n",
    "n_digits=31   k-means++   9.10s    0.114    0.114\n",
    "n_digits=32   k-means++   9.33s    0.120    0.087\n",
    "n_digits=33   k-means++   9.39s    0.111    0.113\n",
    "n_digits=34   k-means++   9.86s    0.111    0.116\n",
    "n_digits=35   k-means++   9.69s    0.113    0.112\n",
    "n_digits=36   k-means++   10.15s    0.123    0.108\n",
    "n_digits=37   k-means++   10.02s    0.128    0.110\n",
    "n_digits=38   k-means++   10.28s    0.107    0.110\n",
    "n_digits=39   k-means++   10.69s    0.119    0.127\n",
    "n_digits=40   k-means++   10.45s    0.114    0.109\n",
    "n_digits=41   k-means++   10.86s    0.108    0.108\n",
    "n_digits=42   k-means++   10.91s    0.139    0.118\n",
    "n_digits=43   k-means++   11.24s    0.113    0.113\n",
    "n_digits=44   k-means++   11.12s    0.118\n",
    "n_digits=45   k-means++   11.43s    0.107\n",
    "n_digits=46   k-means++   12.03s    0.110\n",
    "n_digits=47   k-means++   11.40s    0.114\n",
    "n_digits=48   k-means++   11.75s    0.114\n",
    "n_digits=49   k-means++   12.11s    0.105\n",
    "n_digits=50   k-means++   12.45s    0.109\n",
    "\n",
    "n_digits=51   k-means++   13.07s    0.110\n",
    "n_digits=52   k-means++   12.67s    0.121\n",
    "n_digits=53   k-means++   13.02s    0.127\n",
    "n_digits=54   k-means++   13.27s    0.121\n",
    "n_digits=55   k-means++   13.35s    0.101\n",
    "n_digits=56   k-means++   13.07s    0.125\n",
    "n_digits=57   k-means++   13.40s    0.114\n",
    "n_digits=58   k-means++   13.50s    0.126\n",
    "n_digits=59   k-means++   13.50s    0.127\n",
    "n_digits=60   k-means++   13.75s    0.108\n",
    "n_digits=61   k-means++   14.26s    0.101\n",
    "n_digits=62   k-means++   14.27s    0.122\n",
    "n_digits=63   k-means++   14.27s    0.114\n",
    "n_digits=64   k-means++   14.22s    0.115\n",
    "n_digits=65   k-means++   14.28s    0.102\n",
    "n_digits=66   k-means++   14.58s    0.102\n",
    "n_digits=67   k-means++   16.68s    0.114\n",
    "n_digits=68   k-means++   16.74s    0.090\n",
    "n_digits=69   k-means++   15.77s    0.104\n",
    "n_digits=70   k-means++   17.07s    0.121\n",
    "n_digits=71   k-means++   15.93s    0.107\n",
    "n_digits=72   k-means++   16.52s    0.107\n",
    "n_digits=73   k-means++   16.92s    0.110\n",
    "n_digits=74   k-means++   15.63s    0.095\n",
    "n_digits=75   k-means++   15.82s    0.105\n",
    "n_digits=76   k-means++   15.77s    0.111\n",
    "n_digits=77   k-means++   16.23s    0.099\n",
    "n_digits=78   k-means++   15.94s    0.094\n",
    "\n",
    "'''\n",
    "\n",
    "\n",
    "0"
   ]
  },
  {
   "cell_type": "code",
   "execution_count": 23,
   "metadata": {
    "collapsed": false
   },
   "outputs": [
    {
     "data": {
      "text/plain": [
       "0"
      ]
     },
     "execution_count": 23,
     "metadata": {},
     "output_type": "execute_result"
    }
   ],
   "source": [
    "0"
   ]
  },
  {
   "cell_type": "code",
   "execution_count": 26,
   "metadata": {
    "collapsed": false
   },
   "outputs": [
    {
     "data": {
      "text/plain": [
       "420"
      ]
     },
     "execution_count": 26,
     "metadata": {},
     "output_type": "execute_result"
    }
   ],
   "source": [
    "len(data)"
   ]
  },
  {
   "cell_type": "code",
   "execution_count": 27,
   "metadata": {
    "collapsed": false
   },
   "outputs": [
    {
     "data": {
      "text/plain": [
       "420"
      ]
     },
     "execution_count": 27,
     "metadata": {},
     "output_type": "execute_result"
    }
   ],
   "source": [
    "len(prm[2])"
   ]
  },
  {
   "cell_type": "code",
   "execution_count": 32,
   "metadata": {
    "collapsed": false
   },
   "outputs": [
    {
     "data": {
      "text/plain": [
       "array([0, 1, 2, 3, 4])"
      ]
     },
     "execution_count": 32,
     "metadata": {},
     "output_type": "execute_result"
    }
   ],
   "source": [
    "np.arange(5)"
   ]
  },
  {
   "cell_type": "code",
   "execution_count": 52,
   "metadata": {
    "collapsed": false
   },
   "outputs": [
    {
     "data": {
      "image/png": "[encoded data removed]",
      "text/plain": [
       "<matplotlib.figure.Figure at 0xa8039d4c>"
      ]
     },
     "metadata": {},
     "output_type": "display_data"
    }
   ],
   "source": [
    "igl_0 = find_out_genres_of_items_in_a_cluster(0, prm[42], model) \n",
    "igl_1 = find_out_genres_of_items_in_a_cluster(1, prm[42], model)\n",
    "\n",
    "gd0 = find_genre_dist(igl_0)\n",
    "gd1 = find_genre_dist(igl_1)\n",
    "d0 = dict(gd0)\n",
    "d1 = dict(gd1)\n",
    "\n",
    "for g in all_genres:\n",
    "        if g not in d0:\n",
    "            d0[g] = 0\n",
    "for g in all_genres:\n",
    "        if g not in d1:\n",
    "            d1[g] = 0\n",
    "assert(set(d0.keys()) == set(d1.keys()))\n",
    "\n",
    "d0_list = [d0[x] for x in all_genres]\n",
    "d1_list = [d1[x] for x in all_genres]\n",
    "\n",
    "d0_list_copy = d0_list[:]\n",
    "d0_list = np.array(d0_list) * 1. / sum(d0_list)\n",
    "\n",
    "d1_list_copy = d1_list[:]\n",
    "d1_list = np.array(d1_list) * 1. / sum(d1_list)\n",
    "\n",
    "indexes = np.arange(len(all_genres))\n",
    "\n",
    "plt.bar(indexes - 0.2, d0_list, 0.2)\n",
    "plt.bar(indexes + 0.2, d1_list, 0.2)\n",
    "\n",
    "fig = plt.gcf()\n",
    "fig.set_size_inches(18.5, 10.5, forward=True)\n",
    "\n",
    "plt.show()"
   ]
  },
  {
   "cell_type": "code",
   "execution_count": 46,
   "metadata": {
    "collapsed": false
   },
   "outputs": [
    {
     "data": {
      "text/plain": [
       "array([[ 0.99321386,  0.75671044,  0.30852014,  0.88138383],\n",
       "       [ 0.9018056 ,  0.83133961,  0.85739764,  0.11274636],\n",
       "       [ 0.17011929,  0.04722505,  0.32742641,  0.09792062],\n",
       "       [ 0.8520923 ,  0.59405983,  0.25410066,  0.60249242],\n",
       "       [ 0.89672469,  0.75811936,  0.56734156,  0.4017995 ],\n",
       "       [ 0.71067348,  0.65310533,  0.91731789,  0.75193156],\n",
       "       [ 0.40863394,  0.99321166,  0.15616005,  0.7209536 ],\n",
       "       [ 0.58074293,  0.60950924,  0.05539113,  0.87947365],\n",
       "       [ 0.82367301,  0.72787372,  0.72459668,  0.69413191],\n",
       "       [ 0.88005554,  0.35739363,  0.7782555 ,  0.03277105]])"
      ]
     },
     "execution_count": 46,
     "metadata": {},
     "output_type": "execute_result"
    }
   ],
   "source": [
    "np.random.rand(10, 4)"
   ]
  },
  {
   "cell_type": "code",
   "execution_count": 51,
   "metadata": {
    "collapsed": false,
    "scrolled": true
   },
   "outputs": [
    {
     "name": "stdout",
     "output_type": "stream",
     "text": [
      "[ 0.09333333  0.04888889  0.00888889  0.00888889  0.08444444  0.09333333\n",
      "  0.18666667  0.03111111  0.02666667  0.          0.01333333  0.03111111\n",
      "  0.00888889  0.01333333  0.06222222  0.05333333  0.06222222  0.\n",
      "  0.14666667  0.02222222  0.00444444]\n",
      "[ 0.07079646  0.06293019  0.01376598  0.02163225  0.12291052  0.06686332\n",
      "  0.1927237   0.03441495  0.04228122  0.00589971  0.01376598  0.03048181\n",
      "  0.00983284  0.01769912  0.03048181  0.08652901  0.04818092  0.00589971\n",
      "  0.093412    0.0186824   0.01081613]\n",
      "[(0.093333333333333338, 0.070796460176991149), (0.048888888888888891, 0.062930186823992137), (0.0088888888888888889, 0.01376597836774828), (0.0088888888888888889, 0.021632251720747297), (0.084444444444444447, 0.12291052114060963), (0.093333333333333338, 0.066863323500491637), (0.18666666666666668, 0.1927236971484759), (0.03111111111111111, 0.0344149459193707), (0.026666666666666668, 0.042281219272369712), (0.0, 0.0058997050147492625), (0.013333333333333334, 0.01376597836774828), (0.03111111111111111, 0.030481809242871191), (0.0088888888888888889, 0.0098328416912487702), (0.013333333333333334, 0.017699115044247787), (0.06222222222222222, 0.030481809242871191), (0.053333333333333337, 0.086529006882989187), (0.06222222222222222, 0.048180924287118974), (0.0, 0.0058997050147492625), (0.14666666666666667, 0.093411996066863318), (0.022222222222222223, 0.018682399213372666), (0.0044444444444444444, 0.010816125860373648)]\n"
     ]
    }
   ],
   "source": [
    "print d0_list\n",
    "print d1_list\n",
    "\n",
    "tmp = zip(d0_list, d1_list)\n",
    "print tmp"
   ]
  },
  {
   "cell_type": "code",
   "execution_count": 53,
   "metadata": {
    "collapsed": false
   },
   "outputs": [
    {
     "data": {
      "image/png": "[encoded data removed]",
      "text/plain": [
       "<matplotlib.figure.Figure at 0xa46b596c>"
      ]
     },
     "metadata": {},
     "output_type": "display_data"
    },
    {
     "data": {
      "image/png": "[encoded data removed]",
      "text/plain": [
       "<matplotlib.figure.Figure at 0xa456504c>"
      ]
     },
     "metadata": {},
     "output_type": "display_data"
    }
   ],
   "source": [
    "\n",
    "df2 = pd.DataFrame(tmp, columns=['a', 'b'])\n",
    "\n",
    "df2.plot.bar()\n",
    "    \n",
    "df2.plot.bar(stacked=True)\n",
    "\n",
    "plt.show()"
   ]
  },
  {
   "cell_type": "code",
   "execution_count": null,
   "metadata": {
    "collapsed": true
   },
   "outputs": [],
   "source": [
    "5"
   ]
  },
  {
   "cell_type": "code",
   "execution_count": 21,
   "metadata": {
    "collapsed": false
   },
   "outputs": [
    {
     "name": "stdout",
     "output_type": "stream",
     "text": [
      "['Action', 'Adventure', 'Animation', \"Children's\", 'Comedy', 'Crime', 'Documentary', 'Drama', 'Fantasy', 'Film-Noir', 'Horror', 'Musical', 'Mystery', 'Romance', 'Sci-Fi', 'Thriller', 'War', 'Western']\n"
     ]
    }
   ],
   "source": [
    "print all_genres"
   ]
  },
  {
   "cell_type": "code",
   "execution_count": 35,
   "metadata": {
    "collapsed": true
   },
   "outputs": [],
   "source": []
  },
  {
   "cell_type": "code",
   "execution_count": 50,
   "metadata": {
    "collapsed": false,
    "scrolled": false
   },
   "outputs": [
    {
     "data": {
      "image/png": "[encoded data removed]",
      "text/plain": [
       "<matplotlib.figure.Figure at 0xa3f9b4cc>"
      ]
     },
     "metadata": {},
     "output_type": "display_data"
    }
   ],
   "source": [
    "# plot\n",
    "#\n",
    "#   for each genre @g, plot num_of_clusters bars, each bar representing how \n",
    "# often genre @g appears in that cluster in percentage.\n",
    "#\n",
    "# caveat: too big number of clusters might lead to overlap\n",
    "\n",
    "interested_k = 42\n",
    "\n",
    "item_genres_list__list = [find_out_genres_of_items_in_a_cluster(x, prm[interested_k], model) for x in xrange(interested_k)]\n",
    "\n",
    "genre_dist_list = [find_genre_dist(igl) for igl in item_genres_list__list]\n",
    "\n",
    "d_dict_list = [dict(gd) for gd in genre_dist_list]\n",
    "\n",
    "for d in d_dict_list:\n",
    "    for g in all_genres:\n",
    "        if g not in d:\n",
    "            d[g] = 0\n",
    "for i in xrange(len(d_dict_list)):\n",
    "    for j in xrange(i):\n",
    "        #print d_dict_list[i].keys()\n",
    "        #print d_dict_list[j].keys()\n",
    "        assert(set(d_dict_list[i].keys()) == set(d_dict_list[j].keys()))\n",
    "\n",
    "d_list_list = [[d[x] for x in all_genres] for d in d_dict_list]\n",
    "\n",
    "d_list_list = [np.array(d_list) * 1. / sum(d_list) for d_list in d_list_list]\n",
    "\n",
    "\n",
    "indexes = np.arange(len(all_genres))\n",
    "\n",
    "for i, d_list in enumerate(d_list_list):\n",
    "    plt.bar(indexes - 0.2 + 0.1 * i, d_list, 0.1)\n",
    "\n",
    "fig = plt.gcf()\n",
    "fig.set_size_inches(18.5, 10.5, forward=True)\n",
    "\n",
    "plt.show()\n"
   ]
  },
  {
   "cell_type": "code",
   "execution_count": 73,
   "metadata": {
    "collapsed": false
   },
   "outputs": [
    {
     "data": {
      "text/plain": [
       "[u'Action',\n",
       " u'Adventure',\n",
       " u'Animation',\n",
       " u'Biography',\n",
       " u'Comedy',\n",
       " u'Crime',\n",
       " u'Drama',\n",
       " u'Family',\n",
       " u'Fantasy',\n",
       " u'Film-Noir',\n",
       " u'History',\n",
       " u'Horror',\n",
       " u'Music',\n",
       " u'Musical',\n",
       " u'Mystery',\n",
       " u'Romance',\n",
       " u'Sci-Fi',\n",
       " u'Sport',\n",
       " u'Thriller',\n",
       " u'War',\n",
       " u'Western']"
      ]
     },
     "execution_count": 73,
     "metadata": {},
     "output_type": "execute_result"
    }
   ],
   "source": [
    "all_genres"
   ]
  },
  {
   "cell_type": "code",
   "execution_count": 49,
   "metadata": {
    "collapsed": false
   },
   "outputs": [
    {
     "name": "stdout",
     "output_type": "stream",
     "text": [
      "[(0.07874015748031496, 0.085526315789473686, 0.075376884422110546, 0.061643835616438353, 0.125, 0.07567567567567568, 0.10204081632653061, 0.056250000000000001, 0.077669902912621352, 0.11971830985915492, 0.064102564102564097, 0.094444444444444442, 0.063492063492063489, 0.0625, 0.081967213114754092, 0.052910052910052907, 0.1038961038961039, 0.10810810810810811, 0.060150375939849621, 0.040000000000000001, 0.064935064935064929, 0.11976047904191617, 0.0625, 0.074534161490683232, 0.086206896551724144, 0.1024390243902439, 0.075144508670520235, 0.058394160583941604, 0.057692307692307696, 0.12048192771084337, 0.044247787610619468, 0.13812154696132597, 0.0071942446043165471, 0.075471698113207544, 0.10731707317073171, 0.059139784946236562, 0.061224489795918366, 0.07857142857142857, 0.11475409836065574, 0.04878048780487805, 0.067164179104477612, 0.10526315789473684), (0.023622047244094488, 0.046052631578947366, 0.040201005025125629, 0.047945205479452052, 0.047619047619047616, 0.043243243243243246, 0.025510204081632654, 0.03125, 0.048543689320388349, 0.035211267605633804, 0.05128205128205128, 0.066666666666666666, 0.03968253968253968, 0.074999999999999997, 0.073770491803278687, 0.047619047619047616, 0.064935064935064929, 0.036036036036036036, 0.03007518796992481, 0.0, 0.045454545454545456, 0.065868263473053898, 0.071428571428571425, 0.049689440993788817, 0.040229885057471264, 0.043902439024390241, 0.057803468208092484, 0.029197080291970802, 0.057692307692307696, 0.024096385542168676, 0.026548672566371681, 0.044198895027624308, 0.014388489208633094, 0.04716981132075472, 0.058536585365853662, 0.037634408602150539, 0.051020408163265307, 0.021428571428571429, 0.065573770491803282, 0.073170731707317069, 0.029850746268656716, 0.052631578947368418), (0.015748031496062992, 0.0, 0.01507537688442211, 0.034246575342465752, 0.023809523809523808, 0.016216216216216217, 0.020408163265306121, 0.056250000000000001, 0.0, 0.021126760563380281, 0.05128205128205128, 0.016666666666666666, 0.0079365079365079361, 0.018749999999999999, 0.0081967213114754103, 0.021164021164021163, 0.0064935064935064939, 0.027027027027027029, 0.015037593984962405, 0.01, 0.0064935064935064939, 0.0, 0.017857142857142856, 0.018633540372670808, 0.017241379310344827, 0.0, 0.034682080924855488, 0.014598540145985401, 0.038461538461538464, 0.012048192771084338, 0.017699115044247787, 0.0055248618784530384, 0.014388489208633094, 0.0, 0.0097560975609756097, 0.037634408602150539, 0.0, 0.0071428571428571426, 0.0081967213114754103, 0.016260162601626018, 0.014925373134328358, 0.010526315789473684), (0.015748031496062992, 0.013157894736842105, 0.040201005025125629, 0.047945205479452052, 0.053571428571428568, 0.048648648648648651, 0.030612244897959183, 0.056250000000000001, 0.10679611650485436, 0.049295774647887321, 0.11538461538461539, 0.044444444444444446, 0.047619047619047616, 0.050000000000000003, 0.049180327868852458, 0.063492063492063489, 0.032467532467532464, 0.054054054054054057, 0.037593984962406013, 0.02, 0.032467532467532464, 0.011976047904191617, 0.10714285714285714, 0.031055900621118012, 0.028735632183908046, 0.024390243902439025, 0.034682080924855488, 0.014598540145985401, 0.044871794871794872, 0.024096385542168676, 0.035398230088495575, 0.0055248618784530384, 0.028776978417266189, 0.009433962264150943, 0.024390243902439025, 0.075268817204301078, 0.030612244897959183, 0.0071428571428571426, 0.032786885245901641, 0.081300813008130079, 0.029850746268656716, 0.021052631578947368), (0.16535433070866143, 0.16447368421052633, 0.18592964824120603, 0.17808219178082191, 0.13690476190476192, 0.16756756756756758, 0.16326530612244897, 0.18124999999999999, 0.17475728155339806, 0.14788732394366197, 0.17307692307692307, 0.23333333333333334, 0.17460317460317459, 0.20624999999999999, 0.15573770491803279, 0.19047619047619047, 0.16883116883116883, 0.12612612612612611, 0.20300751879699247, 0.23000000000000001, 0.14285714285714285, 0.16766467065868262, 0.21428571428571427, 0.2236024844720497, 0.19540229885057472, 0.19024390243902439, 0.22543352601156069, 0.21897810218978103, 0.17307692307692307, 0.21686746987951808, 0.21238938053097345, 0.16574585635359115, 0.33093525179856115, 0.18867924528301888, 0.18536585365853658, 0.16666666666666666, 0.34693877551020408, 0.17857142857142858, 0.16393442622950818, 0.18699186991869918, 0.17910447761194029, 0.17894736842105263), (0.03937007874015748, 0.072368421052631582, 0.0050251256281407036, 0.020547945205479451, 0.059523809523809521, 0.021621621621621623, 0.015306122448979591, 0.018749999999999999, 0.019417475728155338, 0.056338028169014086, 0.01282051282051282, 0.033333333333333333, 0.023809523809523808, 0.043749999999999997, 0.024590163934426229, 0.037037037037037035, 0.01948051948051948, 0.036036036036036036, 0.052631578947368418, 0.029999999999999999, 0.03896103896103896, 0.077844311377245512, 0.053571428571428568, 0.012422360248447204, 0.0057471264367816091, 0.058536585365853662, 0.0057803468208092483, 0.043795620437956206, 0.032051282051282048, 0.072289156626506021, 0.017699115044247787, 0.033149171270718231, 0.014388489208633094, 0.0, 0.019512195121951219, 0.032258064516129031, 0.01020408163265306, 0.057142857142857141, 0.024590163934426229, 0.024390243902439025, 0.059701492537313432, 0.052631578947368418), (0.0, 0.013157894736842105, 0.01507537688442211, 0.041095890410958902, 0.011904761904761904, 0.021621621621621623, 0.030612244897959183, 0.012500000000000001, 0.019417475728155338, 0.021126760563380281, 0.019230769230769232, 0.0055555555555555558, 0.0079365079365079361, 0.025000000000000001, 0.040983606557377046, 0.015873015873015872, 0.0064935064935064939, 0.036036036036036036, 0.0075187969924812026, 0.02, 0.025974025974025976, 0.0, 0.026785714285714284, 0.012422360248447204, 0.028735632183908046, 0.034146341463414637, 0.017341040462427744, 0.021897810218978103, 0.02564102564102564, 0.012048192771084338, 0.0, 0.027624309392265192, 0.0071942446043165471, 0.028301886792452831, 0.0048780487804878049, 0.021505376344086023, 0.020408163265306121, 0.014285714285714285, 0.0081967213114754103, 0.008130081300813009, 0.007462686567164179, 0.0), (0.24409448818897639, 0.28289473684210525, 0.21608040201005024, 0.17808219178082191, 0.21428571428571427, 0.23783783783783785, 0.27040816326530615, 0.21875, 0.29126213592233008, 0.21126760563380281, 0.1858974358974359, 0.21666666666666667, 0.26190476190476192, 0.1875, 0.23770491803278687, 0.23280423280423279, 0.30519480519480519, 0.24324324324324326, 0.35338345864661652, 0.33000000000000002, 0.27272727272727271, 0.25748502994011974, 0.19642857142857142, 0.24223602484472051, 0.22413793103448276, 0.2780487804878049, 0.18497109826589594, 0.23357664233576642, 0.20512820512820512, 0.16867469879518071, 0.35398230088495575, 0.23204419889502761, 0.23741007194244604, 0.21698113207547171, 0.20487804878048779, 0.25806451612903225, 0.26530612244897961, 0.30714285714285716, 0.22950819672131148, 0.2032520325203252, 0.2537313432835821, 0.20000000000000001), (0.015748031496062992, 0.0, 0.01507537688442211, 0.020547945205479451, 0.017857142857142856, 0.016216216216216217, 0.020408163265306121, 0.0, 0.0097087378640776691, 0.0070422535211267607, 0.019230769230769232, 0.011111111111111112, 0.0079365079365079361, 0.03125, 0.0081967213114754103, 0.015873015873015872, 0.01948051948051948, 0.0, 0.0075187969924812026, 0.01, 0.012987012987012988, 0.0, 0.017857142857142856, 0.012422360248447204, 0.022988505747126436, 0.0048780487804878049, 0.0057803468208092483, 0.0072992700729927005, 0.00641025641025641, 0.012048192771084338, 0.0, 0.016574585635359115, 0.0071942446043165471, 0.009433962264150943, 0.0097560975609756097, 0.0053763440860215058, 0.01020408163265306, 0.0, 0.0081967213114754103, 0.008130081300813009, 0.0, 0.021052631578947368), (0.0, 0.013157894736842105, 0.0, 0.0, 0.0059523809523809521, 0.0054054054054054057, 0.015306122448979591, 0.012500000000000001, 0.0, 0.021126760563380281, 0.00641025641025641, 0.0055555555555555558, 0.0, 0.0062500000000000003, 0.0081967213114754103, 0.0052910052910052907, 0.0, 0.0, 0.0, 0.0, 0.0, 0.0, 0.0, 0.0, 0.0, 0.0048780487804878049, 0.017341040462427744, 0.0072992700729927005, 0.019230769230769232, 0.048192771084337352, 0.0, 0.016574585635359115, 0.014388489208633094, 0.0, 0.0097560975609756097, 0.0053763440860215058, 0.01020408163265306, 0.0, 0.0081967213114754103, 0.024390243902439025, 0.007462686567164179, 0.010526315789473684), (0.16535433070866143, 0.046052631578947366, 0.080402010050251257, 0.13698630136986301, 0.041666666666666664, 0.048648648648648651, 0.066326530612244902, 0.068750000000000006, 0.029126213592233011, 0.021126760563380281, 0.01282051282051282, 0.061111111111111109, 0.063492063492063489, 0.09375, 0.040983606557377046, 0.042328042328042326, 0.025974025974025976, 0.12612612612612611, 0.015037593984962405, 0.080000000000000002, 0.07792207792207792, 0.053892215568862277, 0.053571428571428568, 0.055900621118012424, 0.045977011494252873, 0.019512195121951219, 0.086705202312138727, 0.072992700729927001, 0.038461538461538464, 0.012048192771084338, 0.0088495575221238937, 0.044198895027624308, 0.014388489208633094, 0.11320754716981132, 0.014634146341463415, 0.048387096774193547, 0.020408163265306121, 0.035714285714285712, 0.032786885245901641, 0.097560975609756101, 0.044776119402985072, 0.084210526315789472), (0.023622047244094488, 0.013157894736842105, 0.040201005025125629, 0.013698630136986301, 0.017857142857142856, 0.010810810810810811, 0.0051020408163265302, 0.043749999999999997, 0.019417475728155338, 0.028169014084507043, 0.070512820512820512, 0.016666666666666666, 0.03968253968253968, 0.012500000000000001, 0.024590163934426229, 0.052910052910052907, 0.0064935064935064939, 0.036036036036036036, 0.0075187969924812026, 0.029999999999999999, 0.0, 0.0, 0.0089285714285714281, 0.0, 0.011494252873563218, 0.0048780487804878049, 0.0057803468208092483, 0.0072992700729927005, 0.01282051282051282, 0.012048192771084338, 0.017699115044247787, 0.011049723756906077, 0.043165467625899283, 0.009433962264150943, 0.019512195121951219, 0.032258064516129031, 0.01020408163265306, 0.0071428571428571426, 0.0081967213114754103, 0.0, 0.014925373134328358, 0.010526315789473684), (0.015748031496062992, 0.039473684210526314, 0.0050251256281407036, 0.020547945205479451, 0.0059523809523809521, 0.016216216216216217, 0.0051020408163265302, 0.025000000000000001, 0.029126213592233011, 0.014084507042253521, 0.02564102564102564, 0.0055555555555555558, 0.015873015873015872, 0.0062500000000000003, 0.016393442622950821, 0.015873015873015872, 0.012987012987012988, 0.0, 0.015037593984962405, 0.02, 0.032467532467532464, 0.023952095808383235, 0.0089285714285714281, 0.012422360248447204, 0.017241379310344827, 0.024390243902439025, 0.0057803468208092483, 0.014598540145985401, 0.02564102564102564, 0.03614457831325301, 0.0088495575221238937, 0.016574585635359115, 0.021582733812949641, 0.018867924528301886, 0.039024390243902439, 0.021505376344086023, 0.0, 0.014285714285714285, 0.016393442622950821, 0.016260162601626018, 0.014925373134328358, 0.0), (0.070866141732283464, 0.065789473684210523, 0.085427135678391955, 0.075342465753424653, 0.059523809523809521, 0.097297297297297303, 0.11224489795918367, 0.043749999999999997, 0.058252427184466021, 0.070422535211267609, 0.044871794871794872, 0.066666666666666666, 0.063492063492063489, 0.056250000000000001, 0.081967213114754092, 0.068783068783068779, 0.090909090909090912, 0.063063063063063057, 0.082706766917293228, 0.070000000000000007, 0.07792207792207792, 0.059880239520958084, 0.026785714285714284, 0.080745341614906832, 0.074712643678160925, 0.053658536585365853, 0.075144508670520235, 0.087591240875912413, 0.089743589743589744, 0.084337349397590355, 0.11504424778761062, 0.055248618784530384, 0.1366906474820144, 0.04716981132075472, 0.1024390243902439, 0.059139784946236562, 0.061224489795918366, 0.10000000000000001, 0.081967213114754092, 0.008130081300813009, 0.097014925373134331, 0.084210526315789472), (0.015748031496062992, 0.026315789473684209, 0.080402010050251257, 0.041095890410958902, 0.041666666666666664, 0.064864864864864868, 0.030612244897959183, 0.037499999999999999, 0.048543689320388349, 0.056338028169014086, 0.044871794871794872, 0.03888888888888889, 0.03968253968253968, 0.037499999999999999, 0.016393442622950821, 0.037037037037037035, 0.045454545454545456, 0.054054054054054057, 0.03007518796992481, 0.029999999999999999, 0.05844155844155844, 0.035928143712574849, 0.071428571428571425, 0.043478260869565216, 0.068965517241379309, 0.078048780487804878, 0.057803468208092484, 0.036496350364963501, 0.00641025641025641, 0.03614457831325301, 0.0088495575221238937, 0.038674033149171269, 0.014388489208633094, 0.11320754716981132, 0.034146341463414637, 0.053763440860215055, 0.030612244897959183, 0.042857142857142858, 0.065573770491803282, 0.081300813008130079, 0.014925373134328358, 0.031578947368421054), (0.062992125984251968, 0.092105263157894732, 0.075376884422110546, 0.047945205479452052, 0.083333333333333329, 0.091891891891891897, 0.076530612244897961, 0.1125, 0.067961165048543687, 0.056338028169014086, 0.044871794871794872, 0.072222222222222215, 0.10317460317460317, 0.074999999999999997, 0.065573770491803282, 0.068783068783068779, 0.07792207792207792, 0.045045045045045043, 0.060150375939849621, 0.070000000000000007, 0.090909090909090912, 0.089820359281437126, 0.044642857142857144, 0.093167701863354033, 0.080459770114942528, 0.058536585365853662, 0.075144508670520235, 0.087591240875912413, 0.12179487179487179, 0.072289156626506021, 0.070796460176991149, 0.10497237569060773, 0.035971223021582732, 0.10377358490566038, 0.11707317073170732, 0.075268817204301078, 0.051020408163265307, 0.09285714285714286, 0.090163934426229511, 0.081300813008130079, 0.089552238805970144, 0.052631578947368418), (0.023622047244094488, 0.026315789473684209, 0.01507537688442211, 0.020547945205479451, 0.047619047619047616, 0.010810810810810811, 0.0051020408163265302, 0.012500000000000001, 0.0, 0.042253521126760563, 0.038461538461538464, 0.0055555555555555558, 0.023809523809523808, 0.012500000000000001, 0.032786885245901641, 0.026455026455026454, 0.012987012987012988, 0.0090090090090090089, 0.022556390977443608, 0.0, 0.01948051948051948, 0.023952095808383235, 0.0089285714285714281, 0.012422360248447204, 0.040229885057471264, 0.014634146341463415, 0.023121387283236993, 0.036496350364963501, 0.032051282051282048, 0.024096385542168676, 0.017699115044247787, 0.022099447513812154, 0.057553956834532377, 0.009433962264150943, 0.029268292682926831, 0.010752688172043012, 0.020408163265306121, 0.021428571428571429, 0.024590163934426229, 0.016260162601626018, 0.052238805970149252, 0.063157894736842107), (0.023622047244094488, 0.0, 0.010050251256281407, 0.013698630136986301, 0.0059523809523809521, 0.0054054054054054057, 0.0051020408163265302, 0.012500000000000001, 0.0, 0.021126760563380281, 0.019230769230769232, 0.0055555555555555558, 0.015873015873015872, 0.0, 0.032786885245901641, 0.0052910052910052907, 0.0, 0.0, 0.0, 0.01, 0.0, 0.011976047904191617, 0.0089285714285714281, 0.024844720496894408, 0.011494252873563218, 0.0048780487804878049, 0.011560693641618497, 0.0072992700729927005, 0.01282051282051282, 0.012048192771084338, 0.044247787610619468, 0.022099447513812154, 0.0, 0.009433962264150943, 0.0097560975609756097, 0.0, 0.0, 0.014285714285714285, 0.016393442622950821, 0.024390243902439025, 0.022388059701492536, 0.021052631578947368)]\n"
     ]
    },
    {
     "data": {
      "image/png": "[encoded data removed]",
      "text/plain": [
       "<matplotlib.figure.Figure at 0xa376c26c>"
      ]
     },
     "metadata": {},
     "output_type": "display_data"
    },
    {
     "data": {
      "image/png": "[encoded data removed]",
      "text/plain": [
       "<matplotlib.figure.Figure at 0xa49fa38c>"
      ]
     },
     "metadata": {},
     "output_type": "display_data"
    }
   ],
   "source": [
    "# plot\n",
    "#\n",
    "# Same content as plot above, but this time in form of \"stacked bars\"\n",
    "#\n",
    "\n",
    "tmp = zip(*d_list_list)\n",
    "print tmp\n",
    "\n",
    "\n",
    "#ix2 = pd.MultiIndex.from_arrays([[chr(97 + x) for x in xrange(21)]])\n",
    "ix2 = all_genres\n",
    "\n",
    "\n",
    "df2 = pd.DataFrame(tmp, columns=[chr(97 + x) for x in xrange(len(d_list_list))], index=ix2)\n",
    "\n",
    "df2.plot.bar()\n",
    "    \n",
    "df2.plot.bar(stacked=True)\n",
    "\n",
    "fig = plt.gcf()\n",
    "fig.set_size_inches(18.5, 10.5, forward=True)\n",
    "plt.show()\n"
   ]
  },
  {
   "cell_type": "code",
   "execution_count": 63,
   "metadata": {
    "collapsed": false
   },
   "outputs": [
    {
     "data": {
      "text/plain": [
       "[(1, 2, 3), (4, 5, 6), (7, 8, 9)]"
      ]
     },
     "execution_count": 63,
     "metadata": {},
     "output_type": "execute_result"
    }
   ],
   "source": [
    "l1 = [1, 4, 7]\n",
    "l2 = [2, 5, 8]\n",
    "l3 = [3, 6, 9]\n",
    "zip(l1, l2, l3)\n",
    "zip(zip(l1, l2), l3)\n",
    "zip(*[l1, l2, l3])"
   ]
  }
 ],
 "metadata": {
  "kernelspec": {
   "display_name": "Python 2",
   "language": "python",
   "name": "python2"
  },
  "language_info": {
   "codemirror_mode": {
    "name": "ipython",
    "version": 2
   },
   "file_extension": ".py",
   "mimetype": "text/x-python",
   "name": "python",
   "nbconvert_exporter": "python",
   "pygments_lexer": "ipython2",
   "version": "2.7.13"
  }
 },
 "nbformat": 4,
 "nbformat_minor": 2
}
