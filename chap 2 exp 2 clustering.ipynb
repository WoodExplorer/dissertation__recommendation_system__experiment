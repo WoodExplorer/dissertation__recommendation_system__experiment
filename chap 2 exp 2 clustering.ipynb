{
 "cells": [
  {
   "cell_type": "code",
   "execution_count": 1,
   "metadata": {
    "collapsed": true
   },
   "outputs": [],
   "source": [
    "import sqlite3\n",
    "import pandas as pd\n",
    "import gensim\n",
    "import numpy as np\n",
    "import matplotlib.pyplot as plt\n",
    "from time import time\n",
    "from sklearn.cluster import KMeans"
   ]
  },
  {
   "cell_type": "code",
   "execution_count": 10,
   "metadata": {
    "collapsed": true
   },
   "outputs": [],
   "source": [
    "from sklearn import metrics"
   ]
  },
  {
   "cell_type": "code",
   "execution_count": 15,
   "metadata": {
    "collapsed": true
   },
   "outputs": [],
   "source": [
    "cx = sqlite3.connect('/home/wsyj/dissertation__imdb/005_scrapy_hello/tutorial/tutorial/spiders/my_db.db')"
   ]
  },
  {
   "cell_type": "code",
   "execution_count": 9,
   "metadata": {
    "collapsed": true
   },
   "outputs": [],
   "source": [
    "# load word2vec model\n",
    "model_path = '/home/wsyj/dissertation__recommendation_system__experiment_2/dissertation__recommendation_system__experiment/main_modelnum_features=200_min_count=5_window=2.model'\n",
    "model = gensim.models.Word2Vec.load(model_path)\n"
   ]
  },
  {
   "cell_type": "code",
   "execution_count": 16,
   "metadata": {
    "collapsed": true
   },
   "outputs": [],
   "source": [
    "cur.execute('select distinct(item_id) from items_with_synopsis')\n",
    "r = cur.fetchall()\n",
    "r = [x[0] for x in r]"
   ]
  },
  {
   "cell_type": "code",
   "execution_count": 34,
   "metadata": {
    "collapsed": false
   },
   "outputs": [],
   "source": [
    "vec_list = []\n",
    "for item in r:\n",
    "    key = str(item)\n",
    "    if key not in model:\n",
    "        continue\n",
    "    vec_list.append(model[key])\n",
    "data = np.array(vec_list    )"
   ]
  },
  {
   "cell_type": "code",
   "execution_count": 2,
   "metadata": {
    "collapsed": true
   },
   "outputs": [],
   "source": []
  },
  {
   "cell_type": "code",
   "execution_count": 4,
   "metadata": {
    "collapsed": false
   },
   "outputs": [],
   "source": [
    "# get all genres\n",
    "cur = cx.cursor()\n",
    "\n",
    "cur.execute('select genres from genres_of_items_with_synopsis')\n",
    "\n",
    "ret = cur.fetchall()\n",
    "len(ret)\n",
    "#442\n",
    "ret = [x[0] for x in ret]\n",
    "len(ret)\n",
    "#442\n",
    "ret[0]\n",
    "ret = ','.join(ret)\n",
    "ret = ret.split(',')\n",
    "len(ret)\n",
    "#1300\n",
    "len(set(ret))\n",
    "#21\n",
    "all_genres = set(ret)\n",
    "all_genres = list(all_genres)\n",
    "all_genres.sort()"
   ]
  },
  {
   "cell_type": "code",
   "execution_count": 5,
   "metadata": {
    "collapsed": false,
    "scrolled": true
   },
   "outputs": [
    {
     "name": "stdout",
     "output_type": "stream",
     "text": [
      "[u'Action', u'Adventure', u'Animation', u'Biography', u'Comedy', u'Crime', u'Drama', u'Family', u'Fantasy', u'Film-Noir', u'History', u'Horror', u'Music', u'Musical', u'Mystery', u'Romance', u'Sci-Fi', u'Sport', u'Thriller', u'War', u'Western']\n"
     ]
    }
   ],
   "source": [
    "print all_genres"
   ]
  },
  {
   "cell_type": "code",
   "execution_count": 36,
   "metadata": {
    "collapsed": true
   },
   "outputs": [],
   "source": [
    "# find out genres of items in a cluster\n",
    "def find_out_genres_of_items_in_a_cluster(cluster_label, y_pred, model):\n",
    "    c = data[y_pred == cluster_label]\n",
    "    \n",
    "    item_genre_list = []\n",
    "    for member in c:\n",
    "        item_id, simi = model.most_similar([member], topn=1)[0]\n",
    "        assert(simi > 0.99999)\n",
    "        \n",
    "        cur.execute('select genres from genres_of_items_with_synopsis where item_id = %s' % item_id)\n",
    "        ret = cur.fetchall()\n",
    "        ret = [x[0] for x in ret]\n",
    "        assert(1 == len(ret))\n",
    "        \n",
    "        item_genre_list.append((item_id, ret))\n",
    "    return item_genre_list\n",
    "\n"
   ]
  },
  {
   "cell_type": "code",
   "execution_count": 7,
   "metadata": {
    "collapsed": true
   },
   "outputs": [],
   "source": [
    "# find out genre distribution\n",
    "def find_genre_dist(item_genre_list):\n",
    "    dist_dist = reduce(lambda x, y: (None, x[1] + y[1]), item_genre_list)\n",
    "    dist_dist = dist_dist[1]\n",
    "    dist_dist = [x.split(',') for x in dist_dist]\n",
    "    dist_dist = reduce(lambda x, y: x + y, dist_dist)\n",
    "    \n",
    "    genre_set = set(dist_dist)\n",
    "    genre_unique_list = list(genre_set)\n",
    "    \n",
    "    dist = [(x, list(dist_dist).count(x)) for x in genre_unique_list]\n",
    "    dist.sort(key=lambda x: -1 * x[1])\n",
    "    \n",
    "    return dist"
   ]
  },
  {
   "cell_type": "code",
   "execution_count": 8,
   "metadata": {
    "collapsed": true
   },
   "outputs": [],
   "source": [
    "def bench_k_means(estimator, name, data, sample_size=300):\n",
    "    t0 = time()\n",
    "    estimator.fit(data)\n",
    "\n",
    "    print('% 9s   %.2fs    %.3f'\n",
    "          % (name, (time() - t0), \n",
    "             metrics.silhouette_score(data, estimator.labels_,\n",
    "                                      metric='euclidean',\n",
    "                                      sample_size=sample_size)\n",
    "))\n",
    "    \n",
    "    y_pred = estimator.predict(data)\n",
    "    return y_pred"
   ]
  },
  {
   "cell_type": "code",
   "execution_count": 19,
   "metadata": {
    "collapsed": false,
    "scrolled": true
   },
   "outputs": [
    {
     "name": "stdout",
     "output_type": "stream",
     "text": [
      "n_digits=2   k-means++   0.38s    0.159\n",
      "n_digits=3   k-means++   0.56s    0.142\n",
      "n_digits=4   k-means++   0.62s    0.132\n",
      "n_digits=5   k-means++   0.75s    0.143\n",
      "n_digits=6   k-means++   0.82s    0.134\n",
      "n_digits=7   k-means++   0.86s    0.113\n",
      "n_digits=8   k-means++   0.95s    0.042\n",
      "n_digits=9   k-means++   1.05s    0.062\n",
      "n_digits=10   k-means++   1.09s    0.017\n",
      "n_digits=11   k-means++   1.08s    0.079\n",
      "n_digits=12   k-means++   1.09s    0.074\n",
      "n_digits=13   k-means++   1.19s    0.029\n",
      "n_digits=14   k-means++   1.27s    -0.000\n"
     ]
    }
   ],
   "source": [
    "pred_result_map = {}\n",
    "score_map = {}\n",
    "prm = pred_result_map\n",
    "sample_size = 300\n",
    "for n_digits in range(2, 15):\n",
    "    name = 'k-means++'\n",
    "    t0 = time()\n",
    "    estimator = KMeans(init=name, n_clusters=n_digits, n_init=100)\n",
    "    estimator.fit(data)\n",
    "    \n",
    "    silhouette_score = metrics.silhouette_score(data, estimator.labels_, metric='euclidean', sample_size=sample_size)\n",
    "    print('n_digits=%d   % 9s   %.2fs    %.3f' % (n_digits, name, (time() - t0), silhouette_score))\n",
    "    prm[n_digits] = estimator.labels_\n",
    "    score_map[n_digits] = silhouette_score\n"
   ]
  },
  {
   "cell_type": "code",
   "execution_count": 23,
   "metadata": {
    "collapsed": false
   },
   "outputs": [
    {
     "data": {
      "text/plain": [
       "0"
      ]
     },
     "execution_count": 23,
     "metadata": {},
     "output_type": "execute_result"
    }
   ],
   "source": [
    "0"
   ]
  },
  {
   "cell_type": "code",
   "execution_count": 26,
   "metadata": {
    "collapsed": false
   },
   "outputs": [
    {
     "data": {
      "text/plain": [
       "420"
      ]
     },
     "execution_count": 26,
     "metadata": {},
     "output_type": "execute_result"
    }
   ],
   "source": [
    "len(data)"
   ]
  },
  {
   "cell_type": "code",
   "execution_count": 27,
   "metadata": {
    "collapsed": false
   },
   "outputs": [
    {
     "data": {
      "text/plain": [
       "420"
      ]
     },
     "execution_count": 27,
     "metadata": {},
     "output_type": "execute_result"
    }
   ],
   "source": [
    "len(prm[2])"
   ]
  },
  {
   "cell_type": "code",
   "execution_count": 32,
   "metadata": {
    "collapsed": false
   },
   "outputs": [
    {
     "data": {
      "text/plain": [
       "array([0, 1, 2, 3, 4])"
      ]
     },
     "execution_count": 32,
     "metadata": {},
     "output_type": "execute_result"
    }
   ],
   "source": [
    "np.arange(5)"
   ]
  },
  {
   "cell_type": "code",
   "execution_count": 42,
   "metadata": {
    "collapsed": false
   },
   "outputs": [
    {
     "data": {
      "image/png": "[encoded data removed]",
      "text/plain": [
       "<matplotlib.figure.Figure at 0xa822092c>"
      ]
     },
     "metadata": {},
     "output_type": "display_data"
    }
   ],
   "source": [
    "igl_0 = find_out_genres_of_items_in_a_cluster(0, prm[2], model) \n",
    "igl_1 = find_out_genres_of_items_in_a_cluster(1, prm[2], model)\n",
    "\n",
    "gd0 = find_genre_dist(igl_0)\n",
    "gd1 = find_genre_dist(igl_1)\n",
    "d0 = dict(gd0)\n",
    "d1 = dict(gd1)\n",
    "\n",
    "for g in all_genres:\n",
    "        if g not in d0:\n",
    "            d0[g] = 0\n",
    "for g in all_genres:\n",
    "        if g not in d1:\n",
    "            d1[g] = 0\n",
    "assert(set(d0.keys()) == set(d1.keys()))\n",
    "\n",
    "d0_list = [d0[x] for x in all_genres]\n",
    "d1_list = [d1[x] for x in all_genres]\n",
    "\n",
    "d0_list_copy = d0_list[:]\n",
    "d0_list = np.array(d0_list) * 1. / sum(d0_list)\n",
    "\n",
    "d1_list_copy = d1_list[:]\n",
    "d1_list = np.array(d1_list) * 1. / sum(d1_list)\n",
    "\n",
    "indexes = np.arange(len(all_genres))\n",
    "\n",
    "plt.bar(indexes - 0.2, d0_list, 0.2)\n",
    "plt.bar(indexes + 0.2, d1_list, 0.2)\n",
    "\n",
    "fig = plt.gcf()\n",
    "fig.set_size_inches(18.5, 10.5, forward=True)\n",
    "\n",
    "plt.show()"
   ]
  },
  {
   "cell_type": "code",
   "execution_count": 46,
   "metadata": {
    "collapsed": false
   },
   "outputs": [
    {
     "data": {
      "text/plain": [
       "array([[ 0.99321386,  0.75671044,  0.30852014,  0.88138383],\n",
       "       [ 0.9018056 ,  0.83133961,  0.85739764,  0.11274636],\n",
       "       [ 0.17011929,  0.04722505,  0.32742641,  0.09792062],\n",
       "       [ 0.8520923 ,  0.59405983,  0.25410066,  0.60249242],\n",
       "       [ 0.89672469,  0.75811936,  0.56734156,  0.4017995 ],\n",
       "       [ 0.71067348,  0.65310533,  0.91731789,  0.75193156],\n",
       "       [ 0.40863394,  0.99321166,  0.15616005,  0.7209536 ],\n",
       "       [ 0.58074293,  0.60950924,  0.05539113,  0.87947365],\n",
       "       [ 0.82367301,  0.72787372,  0.72459668,  0.69413191],\n",
       "       [ 0.88005554,  0.35739363,  0.7782555 ,  0.03277105]])"
      ]
     },
     "execution_count": 46,
     "metadata": {},
     "output_type": "execute_result"
    }
   ],
   "source": [
    "np.random.rand(10, 4)"
   ]
  },
  {
   "cell_type": "code",
   "execution_count": 51,
   "metadata": {
    "collapsed": false,
    "scrolled": true
   },
   "outputs": [
    {
     "name": "stdout",
     "output_type": "stream",
     "text": [
      "[ 0.09333333  0.04888889  0.00888889  0.00888889  0.08444444  0.09333333\n",
      "  0.18666667  0.03111111  0.02666667  0.          0.01333333  0.03111111\n",
      "  0.00888889  0.01333333  0.06222222  0.05333333  0.06222222  0.\n",
      "  0.14666667  0.02222222  0.00444444]\n",
      "[ 0.07079646  0.06293019  0.01376598  0.02163225  0.12291052  0.06686332\n",
      "  0.1927237   0.03441495  0.04228122  0.00589971  0.01376598  0.03048181\n",
      "  0.00983284  0.01769912  0.03048181  0.08652901  0.04818092  0.00589971\n",
      "  0.093412    0.0186824   0.01081613]\n",
      "[(0.093333333333333338, 0.070796460176991149), (0.048888888888888891, 0.062930186823992137), (0.0088888888888888889, 0.01376597836774828), (0.0088888888888888889, 0.021632251720747297), (0.084444444444444447, 0.12291052114060963), (0.093333333333333338, 0.066863323500491637), (0.18666666666666668, 0.1927236971484759), (0.03111111111111111, 0.0344149459193707), (0.026666666666666668, 0.042281219272369712), (0.0, 0.0058997050147492625), (0.013333333333333334, 0.01376597836774828), (0.03111111111111111, 0.030481809242871191), (0.0088888888888888889, 0.0098328416912487702), (0.013333333333333334, 0.017699115044247787), (0.06222222222222222, 0.030481809242871191), (0.053333333333333337, 0.086529006882989187), (0.06222222222222222, 0.048180924287118974), (0.0, 0.0058997050147492625), (0.14666666666666667, 0.093411996066863318), (0.022222222222222223, 0.018682399213372666), (0.0044444444444444444, 0.010816125860373648)]\n"
     ]
    }
   ],
   "source": [
    "print d0_list\n",
    "print d1_list\n",
    "\n",
    "tmp = zip(d0_list, d1_list)\n",
    "print tmp"
   ]
  },
  {
   "cell_type": "code",
   "execution_count": 53,
   "metadata": {
    "collapsed": false
   },
   "outputs": [
    {
     "data": {
      "image/png": "[encoded data removed]",
      "text/plain": [
       "<matplotlib.figure.Figure at 0xa46b596c>"
      ]
     },
     "metadata": {},
     "output_type": "display_data"
    },
    {
     "data": {
      "image/png": "[encoded data removed]",
      "text/plain": [
       "<matplotlib.figure.Figure at 0xa456504c>"
      ]
     },
     "metadata": {},
     "output_type": "display_data"
    }
   ],
   "source": [
    "\n",
    "df2 = pd.DataFrame(tmp, columns=['a', 'b'])\n",
    "\n",
    "df2.plot.bar()\n",
    "    \n",
    "df2.plot.bar(stacked=True)\n",
    "\n",
    "plt.show()"
   ]
  },
  {
   "cell_type": "code",
   "execution_count": null,
   "metadata": {
    "collapsed": true
   },
   "outputs": [],
   "source": [
    "5"
   ]
  },
  {
   "cell_type": "code",
   "execution_count": 67,
   "metadata": {
    "collapsed": false,
    "scrolled": true
   },
   "outputs": [
    {
     "data": {
      "image/png": "[encoded data removed]",
      "text/plain": [
       "<matplotlib.figure.Figure at 0xa6c6c0cc>"
      ]
     },
     "metadata": {},
     "output_type": "display_data"
    }
   ],
   "source": [
    "\n",
    "interested_k = 5\n",
    "\n",
    "item_genres_list__list = [find_out_genres_of_items_in_a_cluster(x, prm[interested_k], model) for x in xrange(interested_k)]\n",
    "\n",
    "genre_dist_list = [find_genre_dist(igl) for igl in item_genres_list__list]\n",
    "\n",
    "d_dict_list = [dict(gd) for gd in genre_dist_list]\n",
    "\n",
    "for d in d_dict_list:\n",
    "    for g in all_genres:\n",
    "        if g not in d:\n",
    "            d[g] = 0\n",
    "for i in xrange(len(d_dict_list)):\n",
    "    for j in xrange(i):\n",
    "        assert(set(d_dict_list[i].keys()) == set(d_dict_list[j].keys()))\n",
    "\n",
    "d_list_list = [[d[x] for x in all_genres] for d in d_dict_list]\n",
    "\n",
    "\n",
    "d_list_list = [np.array(d_list) * 1. / sum(d_list) for d_list in d_list_list]\n",
    "\n",
    "\n",
    "indexes = np.arange(len(all_genres))\n",
    "\n",
    "for i, d_list in enumerate(d_list_list):\n",
    "    plt.bar(indexes - 0.2 + 0.2 * i, d_list, 0.2)\n",
    "\n",
    "fig = plt.gcf()\n",
    "fig.set_size_inches(18.5, 10.5, forward=True)\n",
    "\n",
    "plt.show()\n"
   ]
  },
  {
   "cell_type": "code",
   "execution_count": 73,
   "metadata": {
    "collapsed": false
   },
   "outputs": [
    {
     "data": {
      "text/plain": [
       "[u'Action',\n",
       " u'Adventure',\n",
       " u'Animation',\n",
       " u'Biography',\n",
       " u'Comedy',\n",
       " u'Crime',\n",
       " u'Drama',\n",
       " u'Family',\n",
       " u'Fantasy',\n",
       " u'Film-Noir',\n",
       " u'History',\n",
       " u'Horror',\n",
       " u'Music',\n",
       " u'Musical',\n",
       " u'Mystery',\n",
       " u'Romance',\n",
       " u'Sci-Fi',\n",
       " u'Sport',\n",
       " u'Thriller',\n",
       " u'War',\n",
       " u'Western']"
      ]
     },
     "execution_count": 73,
     "metadata": {},
     "output_type": "execute_result"
    }
   ],
   "source": [
    "all_genres"
   ]
  },
  {
   "cell_type": "code",
   "execution_count": 75,
   "metadata": {
    "collapsed": false
   },
   "outputs": [
    {
     "name": "stdout",
     "output_type": "stream",
     "text": [
      "[(0.071055381400208992, 0.0, 0.08727272727272728, 0.0, 0.20000000000000001), (0.062695924764890276, 0.0, 0.054545454545454543, 0.0, 0.0), (0.013584117032392894, 0.0, 0.01090909090909091, 0.0, 0.0), (0.022988505747126436, 0.0, 0.0072727272727272727, 0.0, 0.0), (0.12016718913270637, 0.0, 0.10181818181818182, 0.0, 0.20000000000000001), (0.067920585161964475, 0.0, 0.080000000000000002, 0.33333333333333331, 0.20000000000000001), (0.19644723092998956, 0.0, 0.17818181818181819, 0.33333333333333331, 0.0), (0.032392894461859979, 0.0, 0.036363636363636362, 0.0, 0.20000000000000001), (0.039707419017763847, 0.0, 0.040000000000000001, 0.0, 0.0), (0.0052246603970741903, 0.0, 0.0036363636363636364, 0.0, 0.0), (0.014629049111807733, 0.0, 0.01090909090909091, 0.0, 0.0), (0.029258098223615466, 0.0, 0.036363636363636362, 0.0, 0.0), (0.010449320794148381, 0.0, 0.0072727272727272727, 0.0, 0.0), (0.017763845350052248, 0.0, 0.014545454545454545, 0.0, 0.0), (0.029258098223615466, 0.0, 0.058181818181818182, 0.0, 0.20000000000000001), (0.086729362591431561, 0.5, 0.058181818181818182, 0.0, 0.0), (0.048066875653082548, 0.0, 0.061818181818181821, 0.0, 0.0), (0.006269592476489028, 0.0, 0.0, 0.0, 0.0), (0.094043887147335428, 0.0, 0.13454545454545455, 0.33333333333333331, 0.0), (0.019853709508881923, 0.0, 0.018181818181818181, 0.0, 0.0), (0.011494252873563218, 0.5, 0.0, 0.0, 0.0)]\n"
     ]
    },
    {
     "data": {
      "image/png": "[encoded data removed]",
      "text/plain": [
       "<matplotlib.figure.Figure at 0xa7e5012c>"
      ]
     },
     "metadata": {},
     "output_type": "display_data"
    },
    {
     "data": {
      "image/png": "[encoded data removed]",
      "text/plain": [
       "<matplotlib.figure.Figure at 0xa6ce6e0c>"
      ]
     },
     "metadata": {},
     "output_type": "display_data"
    }
   ],
   "source": [
    "\n",
    "tmp = zip(*d_list_list)\n",
    "print tmp\n",
    "\n",
    "\n",
    "#ix2 = pd.MultiIndex.from_arrays([[chr(97 + x) for x in xrange(21)]])\n",
    "ix2 = all_genres\n",
    "\n",
    "\n",
    "df2 = pd.DataFrame(tmp, columns=[chr(97 + x) for x in xrange(len(d_list_list))], index=ix2)\n",
    "\n",
    "df2.plot.bar()\n",
    "    \n",
    "df2.plot.bar(stacked=True)\n",
    "\n",
    "fig = plt.gcf()\n",
    "fig.set_size_inches(18.5, 10.5, forward=True)\n",
    "plt.show()\n"
   ]
  },
  {
   "cell_type": "code",
   "execution_count": 63,
   "metadata": {
    "collapsed": false
   },
   "outputs": [
    {
     "data": {
      "text/plain": [
       "[(1, 2, 3), (4, 5, 6), (7, 8, 9)]"
      ]
     },
     "execution_count": 63,
     "metadata": {},
     "output_type": "execute_result"
    }
   ],
   "source": [
    "l1 = [1, 4, 7]\n",
    "l2 = [2, 5, 8]\n",
    "l3 = [3, 6, 9]\n",
    "zip(l1, l2, l3)\n",
    "zip(zip(l1, l2), l3)\n",
    "zip(*[l1, l2, l3])"
   ]
  }
 ],
 "metadata": {
  "kernelspec": {
   "display_name": "Python 2",
   "language": "python",
   "name": "python2"
  },
  "language_info": {
   "codemirror_mode": {
    "name": "ipython",
    "version": 2
   },
   "file_extension": ".py",
   "mimetype": "text/x-python",
   "name": "python",
   "nbconvert_exporter": "python",
   "pygments_lexer": "ipython2",
   "version": "2.7.13"
  }
 },
 "nbformat": 4,
 "nbformat_minor": 2
}
